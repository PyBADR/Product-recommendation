{
 "cells": [
  {
   "cell_type": "markdown",
   "metadata": {},
   "source": [
    "#  Problem Statement: Recommendation system for products on an e-commerce website like Amazon.com. "
   ]
  },
  {
   "cell_type": "markdown",
   "metadata": {},
   "source": [
    "# Dataset columns​ -\n",
    "    **  first three columns are userId, productId, and ratings and the fourth column is timestamp. You can discard the timestamp column as in this case you may not need to use it. \n",
    "\n",
    "# Source​ - \n",
    "    ** Amazon Reviews data (http://jmcauley.ucsd.edu/data/amazon/)  The repository has several datasets. For this case study, we are using the Electronics dataset. "
   ]
  },
  {
   "cell_type": "markdown",
   "metadata": {},
   "source": [
    "# Steps - \n",
    "**1. Read and explore the given dataset.  ( Rename column/add headers, plot histograms, find data characteristics)** \n",
    "\n",
    "**2. Take a subset of the dataset to make it less sparse/ denser. ( For example, keep the users only who has given 50 or more number of ratings )**\n",
    "\n",
    "**3. Split the data randomly into train and test dataset. ( For example, split it in 70/30 ratio)**\n",
    "\n",
    "**4. Build Popularity Recommender model.**\n",
    "\n",
    "**5. Build Collaborative Filtering model.**\n",
    "\n",
    "**6. Evaluate both the models. ( Once the model is trained on the training data, it can be used to compute the error (like RMSE) on predictions made on the test data.) You can also use a different method to evaluate the models.**\n",
    "\n",
    "**7. Get top - K ( K = 5) recommendations. Since our goal is to recommend new products to each user based on his/her habits, we will recommend 5 new products.**\n",
    "\n",
    "**8. Summarise your insights.** \n",
    " "
   ]
  },
  {
   "cell_type": "markdown",
   "metadata": {},
   "source": [
    "# Load necessary libraries"
   ]
  },
  {
   "cell_type": "code",
   "execution_count": 336,
   "metadata": {},
   "outputs": [],
   "source": [
    "\n",
    "import pandas as pd\n",
    "import numpy as np\n",
    "import matplotlib.pyplot as plt\n",
    "import seaborn as sns\n",
    "\n",
    "import warnings\n",
    "\n",
    "warnings.filterwarnings('ignore')\n",
    "%matplotlib inline"
   ]
  },
  {
   "cell_type": "code",
   "execution_count": 337,
   "metadata": {},
   "outputs": [],
   "source": [
    "from surprise import KNNBasic, SVD, NormalPredictor, KNNBaseline,KNNWithMeans, KNNWithZScore, BaselineOnly, CoClustering, Reader, dataset, accuracy"
   ]
  },
  {
   "cell_type": "markdown",
   "metadata": {},
   "source": [
    "# Read and explore the dataset  ( Rename column/add headers, plot histograms, find data characteristics) "
   ]
  },
  {
   "cell_type": "code",
   "execution_count": 338,
   "metadata": {},
   "outputs": [],
   "source": [
    "columns = ['userID', 'productID', 'ratings','timestamp']\n",
    "\n",
    "recomm_df = pd.read_csv('ratings_Electronics.csv',names=columns)"
   ]
  },
  {
   "cell_type": "code",
   "execution_count": 339,
   "metadata": {},
   "outputs": [
    {
     "name": "stdout",
     "output_type": "stream",
     "text": [
      "<class 'pandas.core.frame.DataFrame'>\n",
      "RangeIndex: 7824482 entries, 0 to 7824481\n",
      "Data columns (total 4 columns):\n",
      "userID       object\n",
      "productID    object\n",
      "ratings      float64\n",
      "timestamp    int64\n",
      "dtypes: float64(1), int64(1), object(2)\n",
      "memory usage: 238.8+ MB\n"
     ]
    }
   ],
   "source": [
    "recomm_df.info()"
   ]
  },
  {
   "cell_type": "code",
   "execution_count": 340,
   "metadata": {},
   "outputs": [
    {
     "data": {
      "text/html": [
       "<div>\n",
       "<style scoped>\n",
       "    .dataframe tbody tr th:only-of-type {\n",
       "        vertical-align: middle;\n",
       "    }\n",
       "\n",
       "    .dataframe tbody tr th {\n",
       "        vertical-align: top;\n",
       "    }\n",
       "\n",
       "    .dataframe thead th {\n",
       "        text-align: right;\n",
       "    }\n",
       "</style>\n",
       "<table border=\"1\" class=\"dataframe\">\n",
       "  <thead>\n",
       "    <tr style=\"text-align: right;\">\n",
       "      <th></th>\n",
       "      <th>userID</th>\n",
       "      <th>productID</th>\n",
       "      <th>ratings</th>\n",
       "      <th>timestamp</th>\n",
       "    </tr>\n",
       "  </thead>\n",
       "  <tbody>\n",
       "    <tr>\n",
       "      <th>0</th>\n",
       "      <td>AKM1MP6P0OYPR</td>\n",
       "      <td>0132793040</td>\n",
       "      <td>5.0</td>\n",
       "      <td>1365811200</td>\n",
       "    </tr>\n",
       "    <tr>\n",
       "      <th>1</th>\n",
       "      <td>A2CX7LUOHB2NDG</td>\n",
       "      <td>0321732944</td>\n",
       "      <td>5.0</td>\n",
       "      <td>1341100800</td>\n",
       "    </tr>\n",
       "    <tr>\n",
       "      <th>2</th>\n",
       "      <td>A2NWSAGRHCP8N5</td>\n",
       "      <td>0439886341</td>\n",
       "      <td>1.0</td>\n",
       "      <td>1367193600</td>\n",
       "    </tr>\n",
       "    <tr>\n",
       "      <th>3</th>\n",
       "      <td>A2WNBOD3WNDNKT</td>\n",
       "      <td>0439886341</td>\n",
       "      <td>3.0</td>\n",
       "      <td>1374451200</td>\n",
       "    </tr>\n",
       "    <tr>\n",
       "      <th>4</th>\n",
       "      <td>A1GI0U4ZRJA8WN</td>\n",
       "      <td>0439886341</td>\n",
       "      <td>1.0</td>\n",
       "      <td>1334707200</td>\n",
       "    </tr>\n",
       "  </tbody>\n",
       "</table>\n",
       "</div>"
      ],
      "text/plain": [
       "           userID   productID  ratings   timestamp\n",
       "0   AKM1MP6P0OYPR  0132793040      5.0  1365811200\n",
       "1  A2CX7LUOHB2NDG  0321732944      5.0  1341100800\n",
       "2  A2NWSAGRHCP8N5  0439886341      1.0  1367193600\n",
       "3  A2WNBOD3WNDNKT  0439886341      3.0  1374451200\n",
       "4  A1GI0U4ZRJA8WN  0439886341      1.0  1334707200"
      ]
     },
     "execution_count": 340,
     "metadata": {},
     "output_type": "execute_result"
    }
   ],
   "source": [
    "recomm_df.head()"
   ]
  },
  {
   "cell_type": "code",
   "execution_count": 341,
   "metadata": {},
   "outputs": [
    {
     "data": {
      "text/plain": [
       "(7824482, 4)"
      ]
     },
     "execution_count": 341,
     "metadata": {},
     "output_type": "execute_result"
    }
   ],
   "source": [
    "recomm_df.shape"
   ]
  },
  {
   "cell_type": "code",
   "execution_count": 342,
   "metadata": {},
   "outputs": [
    {
     "data": {
      "text/html": [
       "<div>\n",
       "<style scoped>\n",
       "    .dataframe tbody tr th:only-of-type {\n",
       "        vertical-align: middle;\n",
       "    }\n",
       "\n",
       "    .dataframe tbody tr th {\n",
       "        vertical-align: top;\n",
       "    }\n",
       "\n",
       "    .dataframe thead th {\n",
       "        text-align: right;\n",
       "    }\n",
       "</style>\n",
       "<table border=\"1\" class=\"dataframe\">\n",
       "  <thead>\n",
       "    <tr style=\"text-align: right;\">\n",
       "      <th></th>\n",
       "      <th>count</th>\n",
       "      <th>mean</th>\n",
       "      <th>std</th>\n",
       "      <th>min</th>\n",
       "      <th>25%</th>\n",
       "      <th>50%</th>\n",
       "      <th>75%</th>\n",
       "      <th>max</th>\n",
       "    </tr>\n",
       "  </thead>\n",
       "  <tbody>\n",
       "    <tr>\n",
       "      <th>ratings</th>\n",
       "      <td>7824482.0</td>\n",
       "      <td>4.012337e+00</td>\n",
       "      <td>1.380910e+00</td>\n",
       "      <td>1.0</td>\n",
       "      <td>3.000000e+00</td>\n",
       "      <td>5.000000e+00</td>\n",
       "      <td>5.000000e+00</td>\n",
       "      <td>5.000000e+00</td>\n",
       "    </tr>\n",
       "    <tr>\n",
       "      <th>timestamp</th>\n",
       "      <td>7824482.0</td>\n",
       "      <td>1.338178e+09</td>\n",
       "      <td>6.900426e+07</td>\n",
       "      <td>912729600.0</td>\n",
       "      <td>1.315354e+09</td>\n",
       "      <td>1.361059e+09</td>\n",
       "      <td>1.386115e+09</td>\n",
       "      <td>1.406074e+09</td>\n",
       "    </tr>\n",
       "  </tbody>\n",
       "</table>\n",
       "</div>"
      ],
      "text/plain": [
       "               count          mean           std          min           25%  \\\n",
       "ratings    7824482.0  4.012337e+00  1.380910e+00          1.0  3.000000e+00   \n",
       "timestamp  7824482.0  1.338178e+09  6.900426e+07  912729600.0  1.315354e+09   \n",
       "\n",
       "                    50%           75%           max  \n",
       "ratings    5.000000e+00  5.000000e+00  5.000000e+00  \n",
       "timestamp  1.361059e+09  1.386115e+09  1.406074e+09  "
      ]
     },
     "execution_count": 342,
     "metadata": {},
     "output_type": "execute_result"
    }
   ],
   "source": [
    "recomm_df.describe().T"
   ]
  },
  {
   "cell_type": "markdown",
   "metadata": {},
   "source": [
    "#  Dropping the \"timestamp\" as it is not a needed field"
   ]
  },
  {
   "cell_type": "code",
   "execution_count": 343,
   "metadata": {},
   "outputs": [],
   "source": [
    "recomm_df = recomm_df.drop('timestamp', axis=1)"
   ]
  },
  {
   "cell_type": "markdown",
   "metadata": {},
   "source": [
    "# Missing Value"
   ]
  },
  {
   "cell_type": "code",
   "execution_count": 344,
   "metadata": {},
   "outputs": [
    {
     "data": {
      "text/plain": [
       "userID       0\n",
       "productID    0\n",
       "ratings      0\n",
       "dtype: int64"
      ]
     },
     "execution_count": 344,
     "metadata": {},
     "output_type": "execute_result"
    }
   ],
   "source": [
    "recomm_df.isna().sum()"
   ]
  },
  {
   "cell_type": "code",
   "execution_count": 345,
   "metadata": {},
   "outputs": [
    {
     "data": {
      "text/plain": [
       "(7824482, 3)"
      ]
     },
     "execution_count": 345,
     "metadata": {},
     "output_type": "execute_result"
    }
   ],
   "source": [
    "recomm_df.shape"
   ]
  },
  {
   "cell_type": "markdown",
   "metadata": {},
   "source": [
    "# plot histograms"
   ]
  },
  {
   "cell_type": "code",
   "execution_count": 346,
   "metadata": {},
   "outputs": [
    {
     "data": {
      "text/plain": [
       "array([[<matplotlib.axes._subplots.AxesSubplot object at 0x000001CEC90CC2B0>]],\n",
       "      dtype=object)"
      ]
     },
     "execution_count": 346,
     "metadata": {},
     "output_type": "execute_result"
    },
    {
     "data": {
      "image/png": "[encoded data removed]",
      "text/plain": [
       "<Figure size 432x288 with 1 Axes>"
      ]
     },
     "metadata": {
      "needs_background": "light"
     },
     "output_type": "display_data"
    }
   ],
   "source": [
    "recomm_df.hist('ratings',bins = 10)"
   ]
  },
  {
   "cell_type": "code",
   "execution_count": 347,
   "metadata": {},
   "outputs": [
    {
     "data": {
      "image/png": "[encoded data removed]",
      "text/plain": [
       "<Figure size 640x480 with 1 Axes>"
      ]
     },
     "metadata": {},
     "output_type": "display_data"
    }
   ],
   "source": [
    "popular = recomm_df[['userID','ratings']].groupby('userID').sum().reset_index()\n",
    "popular_20 = popular.sort_values('ratings', ascending=False).head(n=20)\n",
    "import matplotlib.pyplot as plt; plt.rcdefaults()\n",
    "import numpy as np\n",
    "import matplotlib.pyplot as plt\n",
    " \n",
    "objects = (list(popular_20['userID']))\n",
    "y_pos = np.arange(len(objects))\n",
    "performance = list(popular_20['ratings'])\n",
    " \n",
    "plt.bar(y_pos, performance, align='center', alpha=0.5)\n",
    "plt.xticks(y_pos, objects, rotation='vertical')\n",
    "plt.ylabel('userID')\n",
    "plt.title('Most popular')\n",
    " \n",
    "plt.show()"
   ]
  },
  {
   "cell_type": "code",
   "execution_count": 348,
   "metadata": {},
   "outputs": [
    {
     "data": {
      "text/plain": [
       "A5JLAU2ARJ0BO     520\n",
       "ADLVFFE4VBT8      501\n",
       "A3OXHLG6DIBRW8    498\n",
       "A6FIAB28IS79      431\n",
       "A680RUE1FDO8B     406\n",
       "A1ODOGXEYECQQ8    380\n",
       "A36K2N527TXXJN    314\n",
       "A2AY4YUOX2N1BQ    311\n",
       "AWPODHOB4GFWL     308\n",
       "A25C2M3QF9G7OQ    296\n",
       "ARBKYIVNYWK3C     296\n",
       "A22CW0ZHY3NJH8    292\n",
       "A38RMU1Y5TDP9     282\n",
       "A3EXWV8FNSSFL6    282\n",
       "A3LGT6UZL99IW1    279\n",
       "A2NOW4U7W3F7RI    277\n",
       "A23GFTVIETX7DS    270\n",
       "A3PD8JD9L4WEII    266\n",
       "A17BUUBOU0598B    261\n",
       "A3AYSYSLHU26U9    257\n",
       "A2XRMQA6PJ5ZJ8    253\n",
       "A231WM2Z2JL0U3    252\n",
       "A12DQZKRKTNF5E    252\n",
       "A1UQBFCERIP7VJ    247\n",
       "AGVWTYW0ULXHT     244\n",
       "A203OCQQ12MAVT    240\n",
       "AEJAGHLC675A7     239\n",
       "A2NYK9KWFMJV4Y    238\n",
       "A3A4ZAIBQWKOZS    236\n",
       "A2UOHALGF2X77Q    227\n",
       "                 ... \n",
       "AZ4PSN6HV6UQN       1\n",
       "A2GB9KOC5NBDVV      1\n",
       "A3IXZBXE6WJGVX      1\n",
       "A121SXNYJVLKCF      1\n",
       "A3UBEXWAT1S934      1\n",
       "A630GZRAAJET7       1\n",
       "A13EWF11W06SXA      1\n",
       "A2BOVYQ6C0CGJE      1\n",
       "A2G1EVUPBWUXH2      1\n",
       "A2J3YEKII1LM1O      1\n",
       "A3PEZFQ6A5CWQF      1\n",
       "A14Y04LQV1LGO4      1\n",
       "A2USGKKRIT16AL      1\n",
       "A8JFJ4J8GI1EI       1\n",
       "AVR924H630XIZ       1\n",
       "A15MVIYBDFHK9D      1\n",
       "A1WLWTJD8G4VOM      1\n",
       "A30A83J2BHWNGU      1\n",
       "AUVB7184UKYFU       1\n",
       "A2W423IS496KRB      1\n",
       "AYI5YXMCORMYJ       1\n",
       "A1SSFN51XPFH90      1\n",
       "A1YYIVLJ5F6RFP      1\n",
       "A3EYEGQC1WK9TT      1\n",
       "A11V4S3UUYC2U       1\n",
       "A2ZW5LBOI43ZU4      1\n",
       "A1HSALSHHAP6LC      1\n",
       "AH7QIJG9HS49U       1\n",
       "A1Q4NX6FSREC52      1\n",
       "AX0DU8FFIA3R6       1\n",
       "Name: userID, Length: 4201696, dtype: int64"
      ]
     },
     "execution_count": 348,
     "metadata": {},
     "output_type": "execute_result"
    }
   ],
   "source": [
    "# find unique users\n",
    "recomm_df.userID.value_counts()"
   ]
  },
  {
   "cell_type": "code",
   "execution_count": 349,
   "metadata": {},
   "outputs": [
    {
     "name": "stdout",
     "output_type": "stream",
     "text": [
      "Number of unique users 4201696\n"
     ]
    }
   ],
   "source": [
    "print('Number of unique users', len(recomm_df['userID'].unique()))"
   ]
  },
  {
   "cell_type": "code",
   "execution_count": 350,
   "metadata": {},
   "outputs": [
    {
     "name": "stdout",
     "output_type": "stream",
     "text": [
      "Number of unique products 476002\n"
     ]
    }
   ],
   "source": [
    "print('Number of unique products', len(recomm_df['productID'].unique()))"
   ]
  },
  {
   "cell_type": "code",
   "execution_count": 351,
   "metadata": {},
   "outputs": [
    {
     "name": "stdout",
     "output_type": "stream",
     "text": [
      "Unique Ratings [5. 1. 3. 2. 4.]\n"
     ]
    }
   ],
   "source": [
    "print('Unique Ratings', recomm_df['ratings'].unique())"
   ]
  },
  {
   "cell_type": "code",
   "execution_count": 352,
   "metadata": {},
   "outputs": [],
   "source": [
    "min_ratings1 = recomm_df[(recomm_df['ratings'] < 2.0)]"
   ]
  },
  {
   "cell_type": "code",
   "execution_count": 353,
   "metadata": {},
   "outputs": [
    {
     "name": "stdout",
     "output_type": "stream",
     "text": [
      "Number of unique products rated low 176283\n"
     ]
    }
   ],
   "source": [
    "print('Number of unique products rated low',len(min_ratings1['productID'].unique()))"
   ]
  },
  {
   "cell_type": "code",
   "execution_count": 354,
   "metadata": {},
   "outputs": [],
   "source": [
    "med_ratings1 = recomm_df[(recomm_df['ratings'] > 2.0) & (recomm_df['ratings'] < 4.0)]"
   ]
  },
  {
   "cell_type": "code",
   "execution_count": 355,
   "metadata": {},
   "outputs": [
    {
     "name": "stdout",
     "output_type": "stream",
     "text": [
      "Number of unique products rated medium 152827\n"
     ]
    }
   ],
   "source": [
    "print('Number of unique products rated medium',len(med_ratings1['productID'].unique()))"
   ]
  },
  {
   "cell_type": "code",
   "execution_count": 356,
   "metadata": {},
   "outputs": [],
   "source": [
    "max_ratings1 = recomm_df[recomm_df['ratings'] >= 4.0]"
   ]
  },
  {
   "cell_type": "code",
   "execution_count": 357,
   "metadata": {},
   "outputs": [
    {
     "name": "stdout",
     "output_type": "stream",
     "text": [
      "Number of unique products rated high 410110\n"
     ]
    }
   ],
   "source": [
    "print('Number of unique products rated high',len(max_ratings1['productID'].unique()))"
   ]
  },
  {
   "cell_type": "code",
   "execution_count": 358,
   "metadata": {},
   "outputs": [],
   "source": [
    "avg_rating_prod = recomm_df.groupby('productID').sum() / recomm_df.groupby('productID').count()"
   ]
  },
  {
   "cell_type": "code",
   "execution_count": 359,
   "metadata": {},
   "outputs": [],
   "source": [
    "avg_rating_prod.drop('userID', axis=1,inplace =True)"
   ]
  },
  {
   "cell_type": "code",
   "execution_count": 360,
   "metadata": {
    "scrolled": true
   },
   "outputs": [
    {
     "name": "stdout",
     "output_type": "stream",
     "text": [
      "Top 10 highly rated products \n",
      "             ratings\n",
      "productID          \n",
      "0132793040      5.0\n",
      "0321732944      5.0\n",
      "059400232X      5.0\n",
      "0594033934      5.0\n",
      "0594287995      5.0\n",
      "0594450209      5.0\n",
      "0594450705      5.0\n",
      "0594511488      5.0\n",
      "0594514789      5.0\n",
      "0594549558      5.0\n"
     ]
    }
   ],
   "source": [
    "print ('Top 10 highly rated products \\n',avg_rating_prod.nlargest(10,'ratings'))"
   ]
  },
  {
   "cell_type": "markdown",
   "metadata": {},
   "source": [
    "# Take a subset of the dataset to make it less sparse/ denser. ( For example, keep the users only who has given 50 or more number of ratings )"
   ]
  },
  {
   "cell_type": "code",
   "execution_count": 361,
   "metadata": {},
   "outputs": [],
   "source": [
    "userID = recomm_df.groupby('userID').count()"
   ]
  },
  {
   "cell_type": "code",
   "execution_count": 362,
   "metadata": {},
   "outputs": [],
   "source": [
    "top_user = userID[userID['ratings'] >= 50].index"
   ]
  },
  {
   "cell_type": "code",
   "execution_count": 363,
   "metadata": {},
   "outputs": [],
   "source": [
    "\n",
    "topuser_ratings_df = recomm_df[recomm_df['userID'].isin(top_user)]"
   ]
  },
  {
   "cell_type": "code",
   "execution_count": 364,
   "metadata": {},
   "outputs": [],
   "source": [
    "#topuser_ratings_df.drop('productID', axis=1, inplace = True)"
   ]
  },
  {
   "cell_type": "code",
   "execution_count": 365,
   "metadata": {},
   "outputs": [
    {
     "data": {
      "text/plain": [
       "(125871, 3)"
      ]
     },
     "execution_count": 365,
     "metadata": {},
     "output_type": "execute_result"
    }
   ],
   "source": [
    "topuser_ratings_df.shape"
   ]
  },
  {
   "cell_type": "code",
   "execution_count": 366,
   "metadata": {},
   "outputs": [
    {
     "data": {
      "text/html": [
       "<div>\n",
       "<style scoped>\n",
       "    .dataframe tbody tr th:only-of-type {\n",
       "        vertical-align: middle;\n",
       "    }\n",
       "\n",
       "    .dataframe tbody tr th {\n",
       "        vertical-align: top;\n",
       "    }\n",
       "\n",
       "    .dataframe thead th {\n",
       "        text-align: right;\n",
       "    }\n",
       "</style>\n",
       "<table border=\"1\" class=\"dataframe\">\n",
       "  <thead>\n",
       "    <tr style=\"text-align: right;\">\n",
       "      <th></th>\n",
       "      <th>userID</th>\n",
       "      <th>productID</th>\n",
       "      <th>ratings</th>\n",
       "    </tr>\n",
       "  </thead>\n",
       "  <tbody>\n",
       "    <tr>\n",
       "      <th>94</th>\n",
       "      <td>A3BY5KCNQZXV5U</td>\n",
       "      <td>0594451647</td>\n",
       "      <td>5.0</td>\n",
       "    </tr>\n",
       "    <tr>\n",
       "      <th>118</th>\n",
       "      <td>AT09WGFUM934H</td>\n",
       "      <td>0594481813</td>\n",
       "      <td>3.0</td>\n",
       "    </tr>\n",
       "    <tr>\n",
       "      <th>177</th>\n",
       "      <td>A32HSNCNPRUMTR</td>\n",
       "      <td>0970407998</td>\n",
       "      <td>1.0</td>\n",
       "    </tr>\n",
       "    <tr>\n",
       "      <th>178</th>\n",
       "      <td>A17HMM1M7T9PJ1</td>\n",
       "      <td>0970407998</td>\n",
       "      <td>4.0</td>\n",
       "    </tr>\n",
       "    <tr>\n",
       "      <th>492</th>\n",
       "      <td>A3CLWR1UUZT6TG</td>\n",
       "      <td>0972683275</td>\n",
       "      <td>5.0</td>\n",
       "    </tr>\n",
       "  </tbody>\n",
       "</table>\n",
       "</div>"
      ],
      "text/plain": [
       "             userID   productID  ratings\n",
       "94   A3BY5KCNQZXV5U  0594451647      5.0\n",
       "118   AT09WGFUM934H  0594481813      3.0\n",
       "177  A32HSNCNPRUMTR  0970407998      1.0\n",
       "178  A17HMM1M7T9PJ1  0970407998      4.0\n",
       "492  A3CLWR1UUZT6TG  0972683275      5.0"
      ]
     },
     "execution_count": 366,
     "metadata": {},
     "output_type": "execute_result"
    }
   ],
   "source": [
    "topuser_ratings_df.head()"
   ]
  },
  {
   "cell_type": "code",
   "execution_count": 367,
   "metadata": {},
   "outputs": [
    {
     "data": {
      "text/html": [
       "<div>\n",
       "<style scoped>\n",
       "    .dataframe tbody tr th:only-of-type {\n",
       "        vertical-align: middle;\n",
       "    }\n",
       "\n",
       "    .dataframe tbody tr th {\n",
       "        vertical-align: top;\n",
       "    }\n",
       "\n",
       "    .dataframe thead th {\n",
       "        text-align: right;\n",
       "    }\n",
       "</style>\n",
       "<table border=\"1\" class=\"dataframe\">\n",
       "  <thead>\n",
       "    <tr style=\"text-align: right;\">\n",
       "      <th></th>\n",
       "      <th>userID</th>\n",
       "      <th>productID</th>\n",
       "      <th>ratings</th>\n",
       "    </tr>\n",
       "  </thead>\n",
       "  <tbody>\n",
       "    <tr>\n",
       "      <th>94</th>\n",
       "      <td>A3BY5KCNQZXV5U</td>\n",
       "      <td>0594451647</td>\n",
       "      <td>5.0</td>\n",
       "    </tr>\n",
       "    <tr>\n",
       "      <th>4256669</th>\n",
       "      <td>A680RUE1FDO8B</td>\n",
       "      <td>B004M8RWDE</td>\n",
       "      <td>5.0</td>\n",
       "    </tr>\n",
       "    <tr>\n",
       "      <th>4258497</th>\n",
       "      <td>AOMEH9W6LHC4S</td>\n",
       "      <td>B004M8SBNE</td>\n",
       "      <td>5.0</td>\n",
       "    </tr>\n",
       "    <tr>\n",
       "      <th>4258199</th>\n",
       "      <td>A2GKMXRLI7KLFP</td>\n",
       "      <td>B004M8SBD4</td>\n",
       "      <td>5.0</td>\n",
       "    </tr>\n",
       "    <tr>\n",
       "      <th>4258099</th>\n",
       "      <td>A1UNJ46NSB352E</td>\n",
       "      <td>B004M8SBCK</td>\n",
       "      <td>5.0</td>\n",
       "    </tr>\n",
       "  </tbody>\n",
       "</table>\n",
       "</div>"
      ],
      "text/plain": [
       "                 userID   productID  ratings\n",
       "94       A3BY5KCNQZXV5U  0594451647      5.0\n",
       "4256669   A680RUE1FDO8B  B004M8RWDE      5.0\n",
       "4258497   AOMEH9W6LHC4S  B004M8SBNE      5.0\n",
       "4258199  A2GKMXRLI7KLFP  B004M8SBD4      5.0\n",
       "4258099  A1UNJ46NSB352E  B004M8SBCK      5.0"
      ]
     },
     "execution_count": 367,
     "metadata": {},
     "output_type": "execute_result"
    }
   ],
   "source": [
    "topuser_ratings_df.sort_values(by='ratings', ascending=False).head()"
   ]
  },
  {
   "cell_type": "markdown",
   "metadata": {},
   "source": [
    "\n",
    "# Keep data only for products that have 50 or more ratings"
   ]
  },
  {
   "cell_type": "code",
   "execution_count": 368,
   "metadata": {},
   "outputs": [],
   "source": [
    "prodID = recomm_df.groupby('productID').count()"
   ]
  },
  {
   "cell_type": "code",
   "execution_count": 369,
   "metadata": {},
   "outputs": [],
   "source": [
    "top_prod = prodID[prodID['ratings'] >= 50].index"
   ]
  },
  {
   "cell_type": "code",
   "execution_count": 370,
   "metadata": {},
   "outputs": [],
   "source": [
    "top_ratings_df = topuser_ratings_df[topuser_ratings_df['productID'].isin(top_prod)]"
   ]
  },
  {
   "cell_type": "code",
   "execution_count": 371,
   "metadata": {},
   "outputs": [
    {
     "data": {
      "text/html": [
       "<div>\n",
       "<style scoped>\n",
       "    .dataframe tbody tr th:only-of-type {\n",
       "        vertical-align: middle;\n",
       "    }\n",
       "\n",
       "    .dataframe tbody tr th {\n",
       "        vertical-align: top;\n",
       "    }\n",
       "\n",
       "    .dataframe thead th {\n",
       "        text-align: right;\n",
       "    }\n",
       "</style>\n",
       "<table border=\"1\" class=\"dataframe\">\n",
       "  <thead>\n",
       "    <tr style=\"text-align: right;\">\n",
       "      <th></th>\n",
       "      <th>userID</th>\n",
       "      <th>productID</th>\n",
       "      <th>ratings</th>\n",
       "    </tr>\n",
       "  </thead>\n",
       "  <tbody>\n",
       "    <tr>\n",
       "      <th>492</th>\n",
       "      <td>A3CLWR1UUZT6TG</td>\n",
       "      <td>0972683275</td>\n",
       "      <td>5.0</td>\n",
       "    </tr>\n",
       "    <tr>\n",
       "      <th>4220481</th>\n",
       "      <td>A2AY4YUOX2N1BQ</td>\n",
       "      <td>B004KJE8FU</td>\n",
       "      <td>5.0</td>\n",
       "    </tr>\n",
       "    <tr>\n",
       "      <th>4217715</th>\n",
       "      <td>A2Q204DY2L7YRP</td>\n",
       "      <td>B004K8WPUQ</td>\n",
       "      <td>5.0</td>\n",
       "    </tr>\n",
       "    <tr>\n",
       "      <th>4218748</th>\n",
       "      <td>A87CILADRIZW0</td>\n",
       "      <td>B004KA8Y4U</td>\n",
       "      <td>5.0</td>\n",
       "    </tr>\n",
       "    <tr>\n",
       "      <th>4219205</th>\n",
       "      <td>A11KZ906QD08C5</td>\n",
       "      <td>B004KCI80I</td>\n",
       "      <td>5.0</td>\n",
       "    </tr>\n",
       "  </tbody>\n",
       "</table>\n",
       "</div>"
      ],
      "text/plain": [
       "                 userID   productID  ratings\n",
       "492      A3CLWR1UUZT6TG  0972683275      5.0\n",
       "4220481  A2AY4YUOX2N1BQ  B004KJE8FU      5.0\n",
       "4217715  A2Q204DY2L7YRP  B004K8WPUQ      5.0\n",
       "4218748   A87CILADRIZW0  B004KA8Y4U      5.0\n",
       "4219205  A11KZ906QD08C5  B004KCI80I      5.0"
      ]
     },
     "execution_count": 371,
     "metadata": {},
     "output_type": "execute_result"
    }
   ],
   "source": [
    "top_ratings_df.sort_values(by='ratings', ascending=False).head()"
   ]
  },
  {
   "cell_type": "code",
   "execution_count": 372,
   "metadata": {},
   "outputs": [
    {
     "data": {
      "text/plain": [
       "(79182, 3)"
      ]
     },
     "execution_count": 372,
     "metadata": {},
     "output_type": "execute_result"
    }
   ],
   "source": [
    "top_ratings_df.shape"
   ]
  },
  {
   "cell_type": "markdown",
   "metadata": {},
   "source": [
    "# Split the data randomly into train and test dataset. ( For example, split it in 70/30 ratio)"
   ]
  },
  {
   "cell_type": "code",
   "execution_count": 373,
   "metadata": {},
   "outputs": [],
   "source": [
    "from sklearn.model_selection import train_test_split\n",
    "train_data, test_data = train_test_split(top_ratings_df, test_size = 0.30, random_state=0)"
   ]
  },
  {
   "cell_type": "code",
   "execution_count": 374,
   "metadata": {},
   "outputs": [
    {
     "data": {
      "text/html": [
       "<div>\n",
       "<style scoped>\n",
       "    .dataframe tbody tr th:only-of-type {\n",
       "        vertical-align: middle;\n",
       "    }\n",
       "\n",
       "    .dataframe tbody tr th {\n",
       "        vertical-align: top;\n",
       "    }\n",
       "\n",
       "    .dataframe thead th {\n",
       "        text-align: right;\n",
       "    }\n",
       "</style>\n",
       "<table border=\"1\" class=\"dataframe\">\n",
       "  <thead>\n",
       "    <tr style=\"text-align: right;\">\n",
       "      <th></th>\n",
       "      <th>userID</th>\n",
       "      <th>productID</th>\n",
       "      <th>ratings</th>\n",
       "    </tr>\n",
       "  </thead>\n",
       "  <tbody>\n",
       "    <tr>\n",
       "      <th>3679937</th>\n",
       "      <td>A2W0XCWOK3MW6F</td>\n",
       "      <td>B003Y74AXO</td>\n",
       "      <td>3.0</td>\n",
       "    </tr>\n",
       "    <tr>\n",
       "      <th>3603561</th>\n",
       "      <td>A2E1EFNIZL2FVA</td>\n",
       "      <td>B003VANO7C</td>\n",
       "      <td>5.0</td>\n",
       "    </tr>\n",
       "    <tr>\n",
       "      <th>6945634</th>\n",
       "      <td>AR3EVUQF0AC7R</td>\n",
       "      <td>B00ARB5FLQ</td>\n",
       "      <td>4.0</td>\n",
       "    </tr>\n",
       "    <tr>\n",
       "      <th>2732999</th>\n",
       "      <td>A38RMU1Y5TDP9</td>\n",
       "      <td>B002NGVY8G</td>\n",
       "      <td>1.0</td>\n",
       "    </tr>\n",
       "    <tr>\n",
       "      <th>7715921</th>\n",
       "      <td>A1JZFGZEZVWQPY</td>\n",
       "      <td>B00GRNUO2I</td>\n",
       "      <td>3.0</td>\n",
       "    </tr>\n",
       "  </tbody>\n",
       "</table>\n",
       "</div>"
      ],
      "text/plain": [
       "                 userID   productID  ratings\n",
       "3679937  A2W0XCWOK3MW6F  B003Y74AXO      3.0\n",
       "3603561  A2E1EFNIZL2FVA  B003VANO7C      5.0\n",
       "6945634   AR3EVUQF0AC7R  B00ARB5FLQ      4.0\n",
       "2732999   A38RMU1Y5TDP9  B002NGVY8G      1.0\n",
       "7715921  A1JZFGZEZVWQPY  B00GRNUO2I      3.0"
      ]
     },
     "execution_count": 374,
     "metadata": {},
     "output_type": "execute_result"
    }
   ],
   "source": [
    "train_data.head()"
   ]
  },
  {
   "cell_type": "code",
   "execution_count": 375,
   "metadata": {},
   "outputs": [
    {
     "data": {
      "text/html": [
       "<div>\n",
       "<style scoped>\n",
       "    .dataframe tbody tr th:only-of-type {\n",
       "        vertical-align: middle;\n",
       "    }\n",
       "\n",
       "    .dataframe tbody tr th {\n",
       "        vertical-align: top;\n",
       "    }\n",
       "\n",
       "    .dataframe thead th {\n",
       "        text-align: right;\n",
       "    }\n",
       "</style>\n",
       "<table border=\"1\" class=\"dataframe\">\n",
       "  <thead>\n",
       "    <tr style=\"text-align: right;\">\n",
       "      <th></th>\n",
       "      <th>userID</th>\n",
       "      <th>productID</th>\n",
       "      <th>ratings</th>\n",
       "    </tr>\n",
       "  </thead>\n",
       "  <tbody>\n",
       "    <tr>\n",
       "      <th>6562653</th>\n",
       "      <td>AWH2AY17ZU7W2</td>\n",
       "      <td>B009A6CZ30</td>\n",
       "      <td>5.0</td>\n",
       "    </tr>\n",
       "    <tr>\n",
       "      <th>1001830</th>\n",
       "      <td>A1SHHQSPOWR00F</td>\n",
       "      <td>B000HGIWN4</td>\n",
       "      <td>3.0</td>\n",
       "    </tr>\n",
       "    <tr>\n",
       "      <th>3904732</th>\n",
       "      <td>A1PVJICI412IN4</td>\n",
       "      <td>B00466X9SY</td>\n",
       "      <td>5.0</td>\n",
       "    </tr>\n",
       "    <tr>\n",
       "      <th>7600678</th>\n",
       "      <td>AGYH5U11ZKPFB</td>\n",
       "      <td>B00F3ZN0CC</td>\n",
       "      <td>4.0</td>\n",
       "    </tr>\n",
       "    <tr>\n",
       "      <th>2743475</th>\n",
       "      <td>AMKNPIDFLRFMP</td>\n",
       "      <td>B002O3W2OI</td>\n",
       "      <td>2.0</td>\n",
       "    </tr>\n",
       "  </tbody>\n",
       "</table>\n",
       "</div>"
      ],
      "text/plain": [
       "                 userID   productID  ratings\n",
       "6562653   AWH2AY17ZU7W2  B009A6CZ30      5.0\n",
       "1001830  A1SHHQSPOWR00F  B000HGIWN4      3.0\n",
       "3904732  A1PVJICI412IN4  B00466X9SY      5.0\n",
       "7600678   AGYH5U11ZKPFB  B00F3ZN0CC      4.0\n",
       "2743475   AMKNPIDFLRFMP  B002O3W2OI      2.0"
      ]
     },
     "execution_count": 375,
     "metadata": {},
     "output_type": "execute_result"
    }
   ],
   "source": [
    "test_data.head()"
   ]
  },
  {
   "cell_type": "markdown",
   "metadata": {},
   "source": [
    "# Build Popularity Recommender model."
   ]
  },
  {
   "cell_type": "code",
   "execution_count": 376,
   "metadata": {},
   "outputs": [],
   "source": [
    "#Building the recommendations based on the average of all user ratings for each product.\n",
    "train_data_grouped = train_data.groupby('productID').mean().reset_index()"
   ]
  },
  {
   "cell_type": "code",
   "execution_count": 377,
   "metadata": {},
   "outputs": [
    {
     "data": {
      "text/html": [
       "<div>\n",
       "<style scoped>\n",
       "    .dataframe tbody tr th:only-of-type {\n",
       "        vertical-align: middle;\n",
       "    }\n",
       "\n",
       "    .dataframe tbody tr th {\n",
       "        vertical-align: top;\n",
       "    }\n",
       "\n",
       "    .dataframe thead th {\n",
       "        text-align: right;\n",
       "    }\n",
       "</style>\n",
       "<table border=\"1\" class=\"dataframe\">\n",
       "  <thead>\n",
       "    <tr style=\"text-align: right;\">\n",
       "      <th></th>\n",
       "      <th>productID</th>\n",
       "      <th>ratings</th>\n",
       "    </tr>\n",
       "  </thead>\n",
       "  <tbody>\n",
       "    <tr>\n",
       "      <th>0</th>\n",
       "      <td>0972683275</td>\n",
       "      <td>4.5</td>\n",
       "    </tr>\n",
       "    <tr>\n",
       "      <th>1</th>\n",
       "      <td>1400501466</td>\n",
       "      <td>3.0</td>\n",
       "    </tr>\n",
       "    <tr>\n",
       "      <th>2</th>\n",
       "      <td>1400501520</td>\n",
       "      <td>5.0</td>\n",
       "    </tr>\n",
       "    <tr>\n",
       "      <th>3</th>\n",
       "      <td>1400501776</td>\n",
       "      <td>4.0</td>\n",
       "    </tr>\n",
       "    <tr>\n",
       "      <th>4</th>\n",
       "      <td>1400532620</td>\n",
       "      <td>1.0</td>\n",
       "    </tr>\n",
       "  </tbody>\n",
       "</table>\n",
       "</div>"
      ],
      "text/plain": [
       "    productID  ratings\n",
       "0  0972683275      4.5\n",
       "1  1400501466      3.0\n",
       "2  1400501520      5.0\n",
       "3  1400501776      4.0\n",
       "4  1400532620      1.0"
      ]
     },
     "execution_count": 377,
     "metadata": {},
     "output_type": "execute_result"
    }
   ],
   "source": [
    "train_data_grouped.head()"
   ]
  },
  {
   "cell_type": "code",
   "execution_count": 378,
   "metadata": {},
   "outputs": [],
   "source": [
    "train_data_sort = train_data_grouped.sort_values(['ratings', 'productID'], ascending=False)"
   ]
  },
  {
   "cell_type": "code",
   "execution_count": 379,
   "metadata": {},
   "outputs": [
    {
     "data": {
      "text/html": [
       "<div>\n",
       "<style scoped>\n",
       "    .dataframe tbody tr th:only-of-type {\n",
       "        vertical-align: middle;\n",
       "    }\n",
       "\n",
       "    .dataframe tbody tr th {\n",
       "        vertical-align: top;\n",
       "    }\n",
       "\n",
       "    .dataframe thead th {\n",
       "        text-align: right;\n",
       "    }\n",
       "</style>\n",
       "<table border=\"1\" class=\"dataframe\">\n",
       "  <thead>\n",
       "    <tr style=\"text-align: right;\">\n",
       "      <th></th>\n",
       "      <th>productID</th>\n",
       "      <th>ratings</th>\n",
       "    </tr>\n",
       "  </thead>\n",
       "  <tbody>\n",
       "    <tr>\n",
       "      <th>14854</th>\n",
       "      <td>B00L3YHF6O</td>\n",
       "      <td>5.0</td>\n",
       "    </tr>\n",
       "    <tr>\n",
       "      <th>14851</th>\n",
       "      <td>B00K7O2DJU</td>\n",
       "      <td>5.0</td>\n",
       "    </tr>\n",
       "    <tr>\n",
       "      <th>14850</th>\n",
       "      <td>B00K4VQZCM</td>\n",
       "      <td>5.0</td>\n",
       "    </tr>\n",
       "    <tr>\n",
       "      <th>14849</th>\n",
       "      <td>B00K0OBEE2</td>\n",
       "      <td>5.0</td>\n",
       "    </tr>\n",
       "    <tr>\n",
       "      <th>14845</th>\n",
       "      <td>B00JLADOGW</td>\n",
       "      <td>5.0</td>\n",
       "    </tr>\n",
       "  </tbody>\n",
       "</table>\n",
       "</div>"
      ],
      "text/plain": [
       "        productID  ratings\n",
       "14854  B00L3YHF6O      5.0\n",
       "14851  B00K7O2DJU      5.0\n",
       "14850  B00K4VQZCM      5.0\n",
       "14849  B00K0OBEE2      5.0\n",
       "14845  B00JLADOGW      5.0"
      ]
     },
     "execution_count": 379,
     "metadata": {},
     "output_type": "execute_result"
    }
   ],
   "source": [
    "train_data_sort.head()"
   ]
  },
  {
   "cell_type": "code",
   "execution_count": 380,
   "metadata": {},
   "outputs": [
    {
     "data": {
      "text/plain": [
       "productID\n",
       "B0088CJT4U    135\n",
       "B003ES5ZUU    128\n",
       "B007WTAJTO    123\n",
       "B000N99BBC    122\n",
       "B008DWCRQW    102\n",
       "B00829TIEK    102\n",
       "B00829THK0     98\n",
       "B002R5AM7C     94\n",
       "B004CLYEDC     82\n",
       "B004CLYEFK     76\n",
       "Name: ratings, dtype: int64"
      ]
     },
     "execution_count": 380,
     "metadata": {},
     "output_type": "execute_result"
    }
   ],
   "source": [
    "train_data.groupby('productID')['ratings'].count().sort_values(ascending=False).head(10) "
   ]
  },
  {
   "cell_type": "code",
   "execution_count": 410,
   "metadata": {},
   "outputs": [],
   "source": [
    "ratings_mean_count = pd.DataFrame(train_data.groupby('productID')['ratings'].mean()) "
   ]
  },
  {
   "cell_type": "code",
   "execution_count": 411,
   "metadata": {},
   "outputs": [],
   "source": [
    "ratings_mean_count['rating_counts'] = pd.DataFrame(train_data.groupby('productID')['ratings'].count())  "
   ]
  },
  {
   "cell_type": "code",
   "execution_count": 412,
   "metadata": {},
   "outputs": [
    {
     "data": {
      "text/html": [
       "<div>\n",
       "<style scoped>\n",
       "    .dataframe tbody tr th:only-of-type {\n",
       "        vertical-align: middle;\n",
       "    }\n",
       "\n",
       "    .dataframe tbody tr th {\n",
       "        vertical-align: top;\n",
       "    }\n",
       "\n",
       "    .dataframe thead th {\n",
       "        text-align: right;\n",
       "    }\n",
       "</style>\n",
       "<table border=\"1\" class=\"dataframe\">\n",
       "  <thead>\n",
       "    <tr style=\"text-align: right;\">\n",
       "      <th></th>\n",
       "      <th>ratings</th>\n",
       "      <th>rating_counts</th>\n",
       "    </tr>\n",
       "    <tr>\n",
       "      <th>productID</th>\n",
       "      <th></th>\n",
       "      <th></th>\n",
       "    </tr>\n",
       "  </thead>\n",
       "  <tbody>\n",
       "    <tr>\n",
       "      <th>0972683275</th>\n",
       "      <td>4.5</td>\n",
       "      <td>2</td>\n",
       "    </tr>\n",
       "    <tr>\n",
       "      <th>1400501466</th>\n",
       "      <td>3.0</td>\n",
       "      <td>4</td>\n",
       "    </tr>\n",
       "    <tr>\n",
       "      <th>1400501520</th>\n",
       "      <td>5.0</td>\n",
       "      <td>1</td>\n",
       "    </tr>\n",
       "    <tr>\n",
       "      <th>1400501776</th>\n",
       "      <td>4.0</td>\n",
       "      <td>1</td>\n",
       "    </tr>\n",
       "    <tr>\n",
       "      <th>1400532620</th>\n",
       "      <td>1.0</td>\n",
       "      <td>1</td>\n",
       "    </tr>\n",
       "  </tbody>\n",
       "</table>\n",
       "</div>"
      ],
      "text/plain": [
       "            ratings  rating_counts\n",
       "productID                         \n",
       "0972683275      4.5              2\n",
       "1400501466      3.0              4\n",
       "1400501520      5.0              1\n",
       "1400501776      4.0              1\n",
       "1400532620      1.0              1"
      ]
     },
     "execution_count": 412,
     "metadata": {},
     "output_type": "execute_result"
    }
   ],
   "source": [
    "ratings_mean_count.head()  "
   ]
  },
  {
   "cell_type": "code",
   "execution_count": 413,
   "metadata": {},
   "outputs": [],
   "source": [
    "pred_df = test_data[['userID', 'productID', 'ratings']]"
   ]
  },
  {
   "cell_type": "code",
   "execution_count": 414,
   "metadata": {},
   "outputs": [],
   "source": [
    "pred_df.rename(columns = {'ratings' : 'true_ratings'}, inplace=True)"
   ]
  },
  {
   "cell_type": "code",
   "execution_count": 415,
   "metadata": {},
   "outputs": [],
   "source": [
    "pred_df = pred_df.merge(train_data_sort, left_on='productID', right_on = 'productID')"
   ]
  },
  {
   "cell_type": "code",
   "execution_count": 417,
   "metadata": {},
   "outputs": [
    {
     "data": {
      "text/html": [
       "<div>\n",
       "<style scoped>\n",
       "    .dataframe tbody tr th:only-of-type {\n",
       "        vertical-align: middle;\n",
       "    }\n",
       "\n",
       "    .dataframe tbody tr th {\n",
       "        vertical-align: top;\n",
       "    }\n",
       "\n",
       "    .dataframe thead th {\n",
       "        text-align: right;\n",
       "    }\n",
       "</style>\n",
       "<table border=\"1\" class=\"dataframe\">\n",
       "  <thead>\n",
       "    <tr style=\"text-align: right;\">\n",
       "      <th></th>\n",
       "      <th>userID</th>\n",
       "      <th>productID</th>\n",
       "      <th>true_ratings</th>\n",
       "      <th>ratings</th>\n",
       "    </tr>\n",
       "  </thead>\n",
       "  <tbody>\n",
       "    <tr>\n",
       "      <th>0</th>\n",
       "      <td>AWH2AY17ZU7W2</td>\n",
       "      <td>B009A6CZ30</td>\n",
       "      <td>5.0</td>\n",
       "      <td>4.5</td>\n",
       "    </tr>\n",
       "    <tr>\n",
       "      <th>1</th>\n",
       "      <td>A316XO4RWX21YN</td>\n",
       "      <td>B009A6CZ30</td>\n",
       "      <td>4.0</td>\n",
       "      <td>4.5</td>\n",
       "    </tr>\n",
       "    <tr>\n",
       "      <th>2</th>\n",
       "      <td>A1UNJ46NSB352E</td>\n",
       "      <td>B009A6CZ30</td>\n",
       "      <td>5.0</td>\n",
       "      <td>4.5</td>\n",
       "    </tr>\n",
       "  </tbody>\n",
       "</table>\n",
       "</div>"
      ],
      "text/plain": [
       "           userID   productID  true_ratings  ratings\n",
       "0   AWH2AY17ZU7W2  B009A6CZ30           5.0      4.5\n",
       "1  A316XO4RWX21YN  B009A6CZ30           4.0      4.5\n",
       "2  A1UNJ46NSB352E  B009A6CZ30           5.0      4.5"
      ]
     },
     "execution_count": 417,
     "metadata": {},
     "output_type": "execute_result"
    }
   ],
   "source": [
    "pred_df.head(3)"
   ]
  },
  {
   "cell_type": "code",
   "execution_count": 387,
   "metadata": {},
   "outputs": [],
   "source": [
    "pred_df.rename(columns = {'ratings' : 'predicted_ratings'}, inplace = True)"
   ]
  },
  {
   "cell_type": "code",
   "execution_count": 388,
   "metadata": {},
   "outputs": [
    {
     "data": {
      "text/html": [
       "<div>\n",
       "<style scoped>\n",
       "    .dataframe tbody tr th:only-of-type {\n",
       "        vertical-align: middle;\n",
       "    }\n",
       "\n",
       "    .dataframe tbody tr th {\n",
       "        vertical-align: top;\n",
       "    }\n",
       "\n",
       "    .dataframe thead th {\n",
       "        text-align: right;\n",
       "    }\n",
       "</style>\n",
       "<table border=\"1\" class=\"dataframe\">\n",
       "  <thead>\n",
       "    <tr style=\"text-align: right;\">\n",
       "      <th></th>\n",
       "      <th>userID</th>\n",
       "      <th>productID</th>\n",
       "      <th>true_ratings</th>\n",
       "      <th>predicted_ratings</th>\n",
       "    </tr>\n",
       "  </thead>\n",
       "  <tbody>\n",
       "    <tr>\n",
       "      <th>0</th>\n",
       "      <td>AWH2AY17ZU7W2</td>\n",
       "      <td>B009A6CZ30</td>\n",
       "      <td>5.0</td>\n",
       "      <td>4.5</td>\n",
       "    </tr>\n",
       "    <tr>\n",
       "      <th>1</th>\n",
       "      <td>A316XO4RWX21YN</td>\n",
       "      <td>B009A6CZ30</td>\n",
       "      <td>4.0</td>\n",
       "      <td>4.5</td>\n",
       "    </tr>\n",
       "    <tr>\n",
       "      <th>2</th>\n",
       "      <td>A1UNJ46NSB352E</td>\n",
       "      <td>B009A6CZ30</td>\n",
       "      <td>5.0</td>\n",
       "      <td>4.5</td>\n",
       "    </tr>\n",
       "    <tr>\n",
       "      <th>3</th>\n",
       "      <td>A1CMD08Z49PGKQ</td>\n",
       "      <td>B009A6CZ30</td>\n",
       "      <td>5.0</td>\n",
       "      <td>4.5</td>\n",
       "    </tr>\n",
       "    <tr>\n",
       "      <th>4</th>\n",
       "      <td>A1F9Z42CFF9IAY</td>\n",
       "      <td>B009A6CZ30</td>\n",
       "      <td>5.0</td>\n",
       "      <td>4.5</td>\n",
       "    </tr>\n",
       "  </tbody>\n",
       "</table>\n",
       "</div>"
      ],
      "text/plain": [
       "           userID   productID  true_ratings  predicted_ratings\n",
       "0   AWH2AY17ZU7W2  B009A6CZ30           5.0                4.5\n",
       "1  A316XO4RWX21YN  B009A6CZ30           4.0                4.5\n",
       "2  A1UNJ46NSB352E  B009A6CZ30           5.0                4.5\n",
       "3  A1CMD08Z49PGKQ  B009A6CZ30           5.0                4.5\n",
       "4  A1F9Z42CFF9IAY  B009A6CZ30           5.0                4.5"
      ]
     },
     "execution_count": 388,
     "metadata": {},
     "output_type": "execute_result"
    }
   ],
   "source": [
    "pred_df.head()"
   ]
  },
  {
   "cell_type": "code",
   "execution_count": 389,
   "metadata": {},
   "outputs": [
    {
     "name": "stdout",
     "output_type": "stream",
     "text": [
      "The RMSE value for Popularity Recommender model is 1.0914119718039657\n"
     ]
    }
   ],
   "source": [
    "import sklearn.metrics as metric\n",
    "from math import sqrt\n",
    "MSE = metric.mean_squared_error(pred_df['true_ratings'], pred_df['predicted_ratings'])\n",
    "print('The RMSE value for Popularity Recommender model is', sqrt(MSE))"
   ]
  },
  {
   "cell_type": "markdown",
   "metadata": {},
   "source": [
    "**The RMSE value for Popularity Recommender model is 1.091**"
   ]
  },
  {
   "cell_type": "markdown",
   "metadata": {},
   "source": [
    "# Build Collaborative Filtering model"
   ]
  },
  {
   "cell_type": "code",
   "execution_count": 390,
   "metadata": {},
   "outputs": [],
   "source": [
    "import surprise\n",
    "from surprise import KNNWithMeans\n",
    "from surprise.model_selection import GridSearchCV\n",
    "from surprise import Dataset\n",
    "from surprise import accuracy\n",
    "from surprise import Reader\n",
    "from surprise.model_selection import train_test_split"
   ]
  },
  {
   "cell_type": "code",
   "execution_count": 391,
   "metadata": {},
   "outputs": [],
   "source": [
    "reader = Reader(rating_scale=(0.5, 5.0))"
   ]
  },
  {
   "cell_type": "markdown",
   "metadata": {},
   "source": [
    "# Converting Pandas Dataframe to Surpise format"
   ]
  },
  {
   "cell_type": "code",
   "execution_count": 392,
   "metadata": {},
   "outputs": [],
   "source": [
    "data = Dataset.load_from_df(top_ratings_df[['userID', 'productID', 'ratings']],reader)"
   ]
  },
  {
   "cell_type": "code",
   "execution_count": 393,
   "metadata": {},
   "outputs": [],
   "source": [
    "# Split data to train and test\n",
    "from surprise.model_selection import train_test_split\n",
    "trainset, testset = train_test_split(data, test_size=.3,random_state=0)"
   ]
  },
  {
   "cell_type": "code",
   "execution_count": 394,
   "metadata": {},
   "outputs": [
    {
     "data": {
      "text/plain": [
       "surprise.trainset.Trainset"
      ]
     },
     "execution_count": 394,
     "metadata": {},
     "output_type": "execute_result"
    }
   ],
   "source": [
    "type(trainset)"
   ]
  },
  {
   "cell_type": "markdown",
   "metadata": {},
   "source": [
    "# Training the model"
   ]
  },
  {
   "cell_type": "markdown",
   "metadata": {},
   "source": [
    "**KNNWithMeans**"
   ]
  },
  {
   "cell_type": "code",
   "execution_count": 395,
   "metadata": {},
   "outputs": [
    {
     "name": "stdout",
     "output_type": "stream",
     "text": [
      "Estimating biases using als...\n",
      "Computing the pearson_baseline similarity matrix...\n",
      "Done computing similarity matrix.\n"
     ]
    },
    {
     "data": {
      "text/plain": [
       "<surprise.prediction_algorithms.knns.KNNWithMeans at 0x1ce94aa9470>"
      ]
     },
     "execution_count": 395,
     "metadata": {},
     "output_type": "execute_result"
    }
   ],
   "source": [
    "algo_user = KNNWithMeans(k=10, min_k=6, sim_options={'name': 'pearson_baseline', 'user_based': True})\n",
    "algo_user.fit(trainset)"
   ]
  },
  {
   "cell_type": "markdown",
   "metadata": {},
   "source": [
    "**SVD**"
   ]
  },
  {
   "cell_type": "code",
   "execution_count": 396,
   "metadata": {},
   "outputs": [
    {
     "data": {
      "text/plain": [
       "<surprise.prediction_algorithms.matrix_factorization.SVD at 0x1ce94aa9898>"
      ]
     },
     "execution_count": 396,
     "metadata": {},
     "output_type": "execute_result"
    }
   ],
   "source": [
    "svd_model = SVD(n_factors=50,reg_all=0.02)\n",
    "svd_model.fit(trainset)"
   ]
  },
  {
   "cell_type": "code",
   "execution_count": null,
   "metadata": {},
   "outputs": [],
   "source": []
  },
  {
   "cell_type": "code",
   "execution_count": null,
   "metadata": {},
   "outputs": [],
   "source": []
  },
  {
   "cell_type": "markdown",
   "metadata": {},
   "source": [
    "#  Evaluate both the models. ( Once the model is trained on the training data, it can be used to compute the error (like RMSE) on predictions made on the test data.) You can also use a different method to evaluate the models."
   ]
  },
  {
   "cell_type": "markdown",
   "metadata": {},
   "source": [
    " **Popularity Recommender Model (RMSE)**\n"
   ]
  },
  {
   "cell_type": "code",
   "execution_count": 397,
   "metadata": {},
   "outputs": [
    {
     "name": "stdout",
     "output_type": "stream",
     "text": [
      "The RMSE value for Popularity Recommender model is 1.0914119718039657\n"
     ]
    }
   ],
   "source": [
    "MSE = metric.mean_squared_error(pred_df['true_ratings'], pred_df['predicted_ratings'])\n",
    "print('The RMSE value for Popularity Recommender model is', sqrt(MSE))"
   ]
  },
  {
   "cell_type": "markdown",
   "metadata": {},
   "source": [
    "**Collaborative Filtering Recommender Model (RMSE)**"
   ]
  },
  {
   "cell_type": "code",
   "execution_count": 398,
   "metadata": {},
   "outputs": [
    {
     "name": "stdout",
     "output_type": "stream",
     "text": [
      "23755\n"
     ]
    },
    {
     "data": {
      "text/plain": [
       "list"
      ]
     },
     "execution_count": 398,
     "metadata": {},
     "output_type": "execute_result"
    }
   ],
   "source": [
    "print(len(testset))\n",
    "type(testset)"
   ]
  },
  {
   "cell_type": "markdown",
   "metadata": {},
   "source": [
    "**KNNWithMeans**"
   ]
  },
  {
   "cell_type": "code",
   "execution_count": 399,
   "metadata": {},
   "outputs": [
    {
     "data": {
      "text/plain": [
       "Prediction(uid='A28UMA3GW9L124', iid='B001GX6MJ8', r_ui=3.0, est=3.3492063492063493, details={'actual_k': 2, 'was_impossible': False})"
      ]
     },
     "execution_count": 399,
     "metadata": {},
     "output_type": "execute_result"
    }
   ],
   "source": [
    "# Evalute on test set\n",
    "test_pred = algo_user.test(testset)\n",
    "test_pred[0]"
   ]
  },
  {
   "cell_type": "code",
   "execution_count": 400,
   "metadata": {},
   "outputs": [
    {
     "name": "stdout",
     "output_type": "stream",
     "text": [
      "RMSE: 0.9941\n"
     ]
    },
    {
     "data": {
      "text/plain": [
       "0.9940800621800723"
      ]
     },
     "execution_count": 400,
     "metadata": {},
     "output_type": "execute_result"
    }
   ],
   "source": [
    "# compute RMSE\n",
    "accuracy.rmse(test_pred) #range of value of error"
   ]
  },
  {
   "cell_type": "markdown",
   "metadata": {},
   "source": [
    "**SVD**"
   ]
  },
  {
   "cell_type": "code",
   "execution_count": 401,
   "metadata": {},
   "outputs": [],
   "source": [
    "test_pred = svd_model.test(testset)"
   ]
  },
  {
   "cell_type": "code",
   "execution_count": 402,
   "metadata": {},
   "outputs": [
    {
     "name": "stdout",
     "output_type": "stream",
     "text": [
      "RMSE: 0.9606\n"
     ]
    },
    {
     "data": {
      "text/plain": [
       "0.9605860951788668"
      ]
     },
     "execution_count": 402,
     "metadata": {},
     "output_type": "execute_result"
    }
   ],
   "source": [
    "# compute RMSE\n",
    "accuracy.rmse(test_pred)"
   ]
  },
  {
   "cell_type": "markdown",
   "metadata": {},
   "source": [
    " **Parameter tuning of SVD Recommendation system**"
   ]
  },
  {
   "cell_type": "code",
   "execution_count": 403,
   "metadata": {},
   "outputs": [],
   "source": [
    "from surprise.model_selection import GridSearchCV\n",
    "param_grid = {'n_factors' : [5,10,15], \"reg_all\":[0.01,0.02]}\n",
    "gs = GridSearchCV(SVD, param_grid, measures=['rmse'], cv=3,refit = True)"
   ]
  },
  {
   "cell_type": "code",
   "execution_count": 404,
   "metadata": {},
   "outputs": [],
   "source": [
    "gs.fit(data)"
   ]
  },
  {
   "cell_type": "code",
   "execution_count": 405,
   "metadata": {},
   "outputs": [
    {
     "data": {
      "text/plain": [
       "{'rmse': {'n_factors': 5, 'reg_all': 0.02}}"
      ]
     },
     "execution_count": 405,
     "metadata": {},
     "output_type": "execute_result"
    }
   ],
   "source": [
    "# get best parameters\n",
    "gs.best_params"
   ]
  },
  {
   "cell_type": "code",
   "execution_count": 406,
   "metadata": {},
   "outputs": [
    {
     "name": "stdout",
     "output_type": "stream",
     "text": [
      "RMSE: 0.8582\n"
     ]
    },
    {
     "data": {
      "text/plain": [
       "0.8581532336596054"
      ]
     },
     "execution_count": 406,
     "metadata": {},
     "output_type": "execute_result"
    }
   ],
   "source": [
    "# Use the \"best model\" for prediction\n",
    "gs.test(testset)\n",
    "accuracy.rmse(gs.test(testset))"
   ]
  },
  {
   "cell_type": "markdown",
   "metadata": {},
   "source": [
    "**The RMSE value for Collaborative Filtering model, byKNNWithMeans is 0.9941 and SVD is 0.9606. After parameter tuning of SVD it is 0.858**"
   ]
  },
  {
   "cell_type": "markdown",
   "metadata": {},
   "source": [
    "# Get top - K ( K = 5) recommendations. Since our goal is to recommend new products to each user based on his/her habits, we will recommend 5 new products."
   ]
  },
  {
   "cell_type": "code",
   "execution_count": 407,
   "metadata": {},
   "outputs": [],
   "source": [
    "from collections import defaultdict\n",
    "def get_top_n(predictions, n=5):\n",
    "  \n",
    "    # First map the predictions to each user.\n",
    "    top_n = defaultdict(list)\n",
    "    for uid, iid, true_r, est, _ in predictions:\n",
    "        top_n[uid].append((iid, est))\n",
    "\n",
    "    # Then sort the predictions for each user and retrieve the k highest ones.\n",
    "    for uid, user_ratings in top_n.items():\n",
    "        user_ratings.sort(key=lambda x: x[1], reverse=True)\n",
    "        top_n[uid] = user_ratings[:n]\n",
    "\n",
    "    return top_n"
   ]
  },
  {
   "cell_type": "code",
   "execution_count": 408,
   "metadata": {},
   "outputs": [],
   "source": [
    "top_n = get_top_n(test_pred, n=5)"
   ]
  },
  {
   "cell_type": "code",
   "execution_count": 409,
   "metadata": {},
   "outputs": [
    {
     "name": "stdout",
     "output_type": "stream",
     "text": [
      "A28UMA3GW9L124 ['B00HFRWWAM', 'B000M2GYF6', 'B008JJLW4M', 'B0002D6QJO', 'B000N99BBC']\n",
      "A38NHXL5257E3B ['B00BOHNYU6', 'B00CB2F65O', 'B004Q3R9AQ', 'B003SGCO3E', 'B00829THK0']\n",
      "A36IHC0K68NS2 ['B00HMREOLK', 'B004ING996', 'B00ATM1MGA', 'B009N8M2P6', 'B005DKZTNK']\n",
      "A231WM2Z2JL0U3 ['B00005OQMO', 'B00008OE6I', 'B00004RC2D', 'B00004TDL2', 'B00008OE5G']\n",
      "A2AC6GQ24S45GA ['B001TOD7ME', 'B009E6J1BU', 'B009VV56TY', 'B001S2RCWI', 'B008U3038I']\n",
      "A3OXHLG6DIBRW8 ['B004CLYEFK', 'B001T9NUJE', 'B002VPE1X4', 'B001ID829O', 'B00461E7JE']\n",
      "A2XA8CW5DF4MNZ ['B000TKHBDK', 'B00387EW1K', 'B001TOD7ME', 'B000MKKTJK', 'B000AP05BO']\n",
      "AG35JCCQWDRCS ['B000068O16', 'B0036Q7MV0', 'B003ZSHNE0', 'B0045TYDNC', 'B001MSVPM6']\n",
      "A2X3L31KCXBHCL ['B00829THEG', 'B0044DEDC0', 'B005EM6IAA', 'B000B63KSM', 'B002V1APJ2']\n",
      "A33YZNZIRA3H97 ['B00BOHNYTW', 'B000O161X0', 'B00006I5J7', 'B004MT7GGG', 'B00BFO14W8']\n",
      "AX05DBU8IRUWY ['B007WTAJTO', 'B006W8U2MU', 'B001L1H0SC', 'B00IKCQ0EK', 'B001FO4QHI']\n",
      "A296QED1MV1V0J ['B0058G40O8', 'B00AXTQQDS', 'B008AST7R6', 'B005BOMTT0', 'B007VGGFZU']\n",
      "A1CPRP3VFJRS1R ['B003CFATT2', 'B004HO58SO', 'B008C1JC4O', 'B00224ZDFY', 'B0007QKXYU']\n",
      "AB094YABX21WQ ['B001TH7GUU', 'B000S5Q9CA', 'B000JMJWV2', 'B004PYD9I2', 'B002Y6CJJ8']\n",
      "A1MEISNED4NP7U ['B00483WRZ6', 'B004LWYE4Q', 'B007R5YDYA', 'B00834SJSK', 'B007PJ4P4G']\n",
      "A3LGT6UZL99IW1 ['B000V5P90K', 'B000VUIXOO', 'B004W2JKWG', 'B00CDS9HTM', 'B000L47AHG']\n",
      "A1PPS91NLI7KEH ['B00AAHT8JC', 'B0098PRKA6', 'B0064EL2DK', 'B009XEBBC0', 'B00CD8ADKO']\n",
      "A1VJ0V58N0698J ['B0075SUK14', 'B000QY9KIS', 'B00328HR7G', 'B002M78JA2', 'B004VM0SE6']\n",
      "A196JN53PG0C7R ['B003ES5ZUU', 'B008JJLW4M', 'B001TH7T2U', 'B001FVI91U', 'B001AYGDCE']\n",
      "A1901NTE8LFJF6 ['B000M2TAN4', 'B0011U65F2', 'B005DKZTMG', 'B004XZL980', 'B00FF9MLQW']\n",
      "A3TAS1AG6FMBQW ['B00COF7DGS', 'B002WE6D44', 'B000HPV3RW', 'B001TH7GSW', 'B00D6XW62I']\n",
      "A362FM6FYA1SYS ['B007WTAJTO', 'B005ES0YYA', 'B0045KGZOG', 'B000VDCT3C', 'B00E3W15P0']\n",
      "A3D0UM4ZD2CMAW ['B003AVMRQG', 'B004W2T2TM', 'B004FA8NOQ', 'B005J7YA4G', 'B003N8GVUY']\n",
      "A6FIAB28IS79 ['B004YKXGIK', 'B0048IATQ0', 'B0097BEF1S', 'B000089GN3', 'B00746YHV6']\n",
      "A2X695AM08AIN1 ['B002WE6D44', 'B007WTAJTO', 'B004C3AW40', 'B003YKG2UK', 'B0075SUK14']\n",
      "A2NOW4U7W3F7RI ['B0027Q4HXG', 'B00017LSPI', 'B00HHRP11C', 'B007WTAJTO', 'B000ANCPNM']\n",
      "A2W2ODLRQ2L8LE ['B000FOYMKU', 'B000V7AF8E', 'B006FNCWSY', 'B005USRBVI', 'B0009PTBZ6']\n",
      "AR6APXLK7TJU2 ['B003SX0P1A', 'B0011TM19C', 'B000AZ57M6', 'B001G5ZTLS', 'B00009UTLM']\n",
      "A1V4A5U5O3TMMD ['B001EAQTRI', 'B00009XVCZ', 'B0018BTPLK', 'B000MUXJCO', 'B007FGYZFI']\n",
      "A110PC8C5Y7MQD ['B005EOWBKE', 'B005DQG5SC', 'B005J4C820', 'B003LSTD38', 'B002QEBMAK']\n",
      "A5MCDQ60DWUEV ['B002WE6D44', 'B001MSU1FS', 'B0007U00X0', 'B002ZIMEMW', 'B002NEGTT2']\n",
      "ASCBJEPXTOU0V ['B000QUUFRW', 'B0088PUEPK', 'B004W2JKWG', 'B003ES5ZUU', 'B006WAGG14']\n",
      "A2294LS59GC5K7 ['B003ZSHNE0', 'B008FJJ66C', 'B002V88HFE', 'B003YNQ6MG', 'B001J8BPYM']\n",
      "A34UVV757IKPVB ['B003XM1WE0', 'B000EPHR0C', 'B008MF3X9K', 'B000F49RAA', 'B004G8QO8E']\n",
      "A10O7THJ2O20AG ['B007PJ4P4G', 'B000ABB4HC', 'B00005N6KG', 'B00017LSPI', 'B000QUUFRW']\n",
      "A2NYK9KWFMJV4Y ['B000VX6XL6', 'B00HG1L334', 'B009UNZ5WQ', 'B00DTZYHX4', 'B004IK2EAW']\n",
      "A3TBMAWIIHKHFN ['B000WOVD1Y', 'B000167OAC', 'B006U0Z3BA', 'B004YIFKRM', 'B000MVBHRW']\n",
      "A1ODOGXEYECQQ8 ['B000233WJ6', 'B00E3FHXYO', 'B000JE7GPY', 'B001TH7GUK', 'B0013FRNKG']\n",
      "A1MFVAHTT2BHM0 ['B005NGKR54', 'B000S5Q9CA', 'B00005T3G0', 'B007WTAJTO', 'B000J43HJ8']\n",
      "A18HE80910BTZI ['B002WE4HE2', 'B00EO302SO', 'B003LPUWT0', 'B0001G6U4S', 'B004G6002M']\n",
      "AEZJTA4KDIWY8 ['B00E3W15P0', 'B000O8I474', 'B0044XTJ10', 'B000HPV3RW', 'B001ID829O']\n",
      "A19EKT8H85AKO5 ['B00834SJSK', 'B004CLYEFK', 'B0079UAT0A', 'B005XPFYBM', 'B0013VFI34']\n",
      "A141OPVE376YFI ['B0000BZL1P', 'B000067RT6', 'B003YKFKR6', 'B0056YNA1Q', 'B002ZAVVHY']\n",
      "A17HMM1M7T9PJ1 ['B0000BZL1P', 'B001KELVS0', 'B0010Z28XG', 'B000LRMS66', 'B0012IJYZ6']\n",
      "A28RSMADFCBJDT ['B000M2TAN4', 'B000HAOVGM', 'B0011NVMO8', 'B000N7VPRW', 'B000M2GYF6']\n",
      "AV9PIER7NE448 ['B00E3W15P0', 'B0045TYDNC', 'B004HKIB6E', 'B009NHAEXE', 'B000HPV3RW']\n",
      "ADOR3TR7GDF68 ['B007WTAJTO', 'B004XC6GJ0', 'B00003CWDH', 'B00915OTZC', 'B003UH0Z9Q']\n",
      "A316XO4RWX21YN ['B00D5Q75RC', 'B002S53LJ2', 'B00FPKDPZC', 'B001CROHX6', 'B00F6PRSMW']\n",
      "ARBKYIVNYWK3C ['B0052SCU8U', 'B006EKIQYM', 'B000TKHBDK', 'B009F1I1C4', 'B008ALA6DW']\n",
      "A1AQ8JT2A3UWMY ['B000NP3DJW', 'B00E3W15P0', 'B003VAK16O', 'B00004RC2D', 'B00007E89K']\n",
      "A680RUE1FDO8B ['B0019EHU8G', 'B0015AARJI', 'B00E0HITQ6', 'B0016BVKAQ', 'B006JH8T3S']\n",
      "A38NELQT98S4H8 ['B0041D81WQ', 'B00DT04I9W', 'B004MF11MU', 'B005N3TPJQ', 'B006BUN5YQ']\n",
      "A26SO3TOT2TLJE ['B00BOHNYU6', 'B00ATM1MHO', 'B008PQAFR4', 'B003WOLM62', 'B00CD1FB26']\n",
      "A3TR3KLL5PXSZ8 ['B005KEL4NI', 'B004WB8EYM', 'B000A1SZ2Y', 'B004XY65WQ', 'B000067O7T']\n",
      "A3AYSYSLHU26U9 ['B00B9KOCYA', 'B0019EHU8G', 'B001FA1NZK', 'B00IX2VGFA', 'B00F0DD0I6']\n",
      "A13BX9O5UDBILC ['B009YQ8BTI', 'B002V88HFE', 'B002K9IHGI', 'B009FU8BR0', 'B003UT2E8E']\n",
      "AVFJ327UXPXLF ['B00BOHNYU6', 'B006LW0W5Y', 'B004N3BH0C', 'B006K553LU', 'B004SGJCCO']\n",
      "AX7317G153T8W ['B00BOHNYU6', 'B001OOZ1X2', 'B0013FRNKG', 'B00EU9V3VW', 'B0088CJT4U']\n",
      "A38RMU1Y5TDP9 ['B001E1Y5O6', 'B009X01C64', 'B003U7SR0U', 'B000ID37EA', 'B001AAN4PW']\n",
      "A2858RV2VLI14X ['B004QBUL1C', 'B004NY9UV4', 'B0007TOR08', 'B00847TOLC', 'B0052TIRQI']\n",
      "AWPODHOB4GFWL ['B001TH7GSW', 'B003NR57BY', 'B002Y6CJJ8', 'B000E5CYW8', 'B00E3FHXYO']\n",
      "ACH055GTTIGC9 ['B00585CLVS', 'B00FDUHD2K', 'B0002LHSFW', 'B0001HA8WW', 'B0002VO8GE']\n",
      "A1C5WS021EL3WO ['B004SBBD8U', 'B003ES5ZR8', 'B001TH7GUU', 'B000CRFOMK', 'B007FH1KX2']\n",
      "A100WO06OQR8BQ ['B0002LEMWE', 'B001342KM8', 'B00016BYHQ', 'B0096LZ5QI', 'B007K3SB6K']\n",
      "A3GQY0TFRG0MPZ ['B004J6BIJ8', 'B00182CIB8', 'B006ZH0JQM', 'B0040IO1RQ', 'B007R1FH3K']\n",
      "A2GMZZ6TDYOHY7 ['B000QUUFRW', 'B007WTAJTO', 'B007R5YDYA', 'B003LPTAYI', 'B00475K64E']\n",
      "AGEKVD8JPZQMT ['B004286VMW', 'B008MF3X9K', 'B00A0ABQLM', 'B002YOENAS', 'B008R39FKS']\n",
      "A2N3JSOIQ6ZNFL ['B000067SPR', 'B00461E7JE', 'B0057Q4ADU', 'B002POBS46', 'B004HCKRKA']\n",
      "A19W47CXJJP1MI ['B00EOE4G4E', 'B0007A1IRC', 'B001TH7GUA', 'B00829THK0', 'B00DR6DQZA']\n",
      "A3BI8BKIHESDNQ ['B004TLIVB6', 'B00000J1SC', 'B003DNSJPE', 'B001LK6ZDY', 'B000FV8P24']\n",
      "AW68KVDV7BBRS ['B002QUZM0U', 'B000VDCTCI', 'B001C6N6AC', 'B00006HOAE', 'B00140DBRY']\n",
      "A27ADCSD15F3GL ['B001MSU1FS', 'B003CFATT2', 'B00HFRWWAM', 'B00FE8MKTM', 'B006WAGG14']\n",
      "A2G563AC1HME2R ['B005IMFX2K', 'B00483WRZ6', 'B003FVJYF8', 'B00BT7RAPG', 'B0079MX4Q4']\n",
      "APMYPD97EHUUZ ['B008EQZ25K', 'B001OOZ1X2', 'B003N9PJDI', 'B00CRJWW2G', 'B000U6AHZW']\n",
      "A1VUN4JU731CBH ['B006W8U2MU', 'B00483WRZ6', 'B001DBF07I', 'B003FZA1O2', 'B000096B01']\n",
      "A15XI2BEGGFEOW ['B00829TIA4', 'B00A0JUNWQ', 'B005X64MN2', 'B001ELK2NY', 'B002MFJXZY']\n",
      "A16CVJUQOB6GIB ['B000OGX5AM', 'B003XUM3NQ', 'B00596CP9E']\n",
      "A20UU20K7M9ZPF ['B006JTUM72', 'B009NHWVIA', 'B0096YOQRY', 'B004I4YOUG', 'B002IVWSR2']\n",
      "AR18DH5SL9F73 ['B000WH6H1M', 'B003CJQ69A', 'B0019N4RUQ', 'B004EHL2YS', 'B004EGI3CI']\n",
      "A2EZTM9WY5B5IL ['B001S2PPT0', 'B0017U0WM8', 'B00BXA7N6A', 'B002WE0QN8', 'B00001WRSJ']\n",
      "A26EQ8U96JA92T ['B000BQ7GW8', 'B001PIBE8I', 'B004HIN7SI', 'B00E9YIFKA', 'B005H3I38G']\n",
      "A1WUQF5HWBAQJU ['B00G4UQ6U8', 'B00FSA8VQ2', 'B0058G40O8', 'B003TUMDWG', 'B00JF0D7RE']\n",
      "A3F9CBHV4OHFBS ['B005EOWBKE', 'B0012Y6HC8', 'B000IJY8DS', 'B005GMWEI8', 'B007I5JT4S']\n",
      "A250AXLRBVYKB4 ['B000MX48VM', 'B0002VAQR4', 'B0002EQU6C', 'B004CLYEDC', 'B000VE2RP6']\n",
      "AETQIN7OH0RL9 ['B008JJLW4M', 'B008AST7R6', 'B009SYZ8OC', 'B002ZIMEMW', 'B003HC8V9A']\n",
      "A2DG63DN704LOI ['B0094S35W4', 'B001OI2YNS', 'B00HFRWWAM', 'B00D1GYNT4', 'B0000BZL28']\n",
      "A10H24TDLK2VDP ['B009NHWVIA', 'B0093H4WT6', 'B009Z7KMUM', 'B0088CJT4U', 'B005DLDO4U']\n",
      "A3UKWQS8SRW6IO ['B00D429Y12', 'B00829THVO', 'B0052SCU8U', 'B004HHICKC', 'B004SBBD8U']\n",
      "A2H4OMJLE7JFM2 ['B0012Y2LLE', 'B002M3SOCE', 'B001E1Y5O6', 'B00CP0I474', 'B004TXPWV6']\n",
      "A3F7USIDJBR8WU ['B004J3V90Y', 'B00007EDZG', 'B0007TJ5AK', 'B001Q3M2Z6', 'B005CT56F8']\n",
      "A3IY316DRNF5F2 ['B004PNZFZ8', 'B0011Z2402', 'B000EWHH7I', 'B004MMEHH4', 'B0002ZAILY']\n",
      "A3RGJ1FXOB1ZLL ['B005ES0YYA', 'B0013AV4M4', 'B009O7YUF6', 'B0055QYKQO', 'B002EPF6YO']\n",
      "A2Q204DY2L7YRP ['B003ES5ZUU', 'B008LCYIEI', 'B001F7AJKI', 'B003ES5ZSW', 'B004K8WPUQ']\n",
      "A34BZM6S9L7QI4 ['B004CLYEH8', 'B0079UAT0A', 'B003GIJTR8', 'B009NHWVIA', 'B003ZTKFEE']\n",
      "AWNBZSEZ9P8BE ['B005DSPLCQ', 'B0035FZJHQ', 'B00HVT27B8', 'B008X1BV2Y', 'B00BPHH8MA']\n",
      "AR3EVUQF0AC7R ['B00HNJWSH4', 'B000O8WE66', 'B00020S7XK', 'B00829THEG', 'B00EPQ97C2']\n",
      "A1HFT68GJ42LTM ['B002P3KH80', 'B00C20KWP4', 'B002TLSOG0', 'B002K9IHGI', 'B0038OMEQI']\n",
      "A1TY97ZGQT5FGF ['B000WXSO76', 'B000EVOOO8', 'B0042SGDVG', 'B004YW7WCY', 'B0041OSQ9I']\n",
      "A4D5B7Q8A7PA6 ['B009NHWVIA', 'B00G4V0QSK', 'B003CFATT2', 'B003CJTQJC', 'B0034CL2ZI']\n",
      "A3T8WOFS5RD2IR ['B004CLYEDC', 'B000WOIFO2', 'B0019X20R8', 'B009SS0FZK', 'B000EOMXM0']\n",
      "A2PMR2PIGWKCQ9 ['B004GUT1QO', 'B00D695GS8', 'B002I8MUJG', 'B00J49ZH1U', 'B007P4VOWC']\n",
      "AGXV8E7XK9J6H ['B00007GQLU', 'B000AZ57M6', 'B000FKQ8LA', 'B003ES5ZSW', 'B00065ANYW']\n",
      "A2XIOXRRYX0KZY ['B004CLYEDC', 'B009NHWVIA', 'B00FG38L16', 'B00FRMAOIO', 'B0095P2F1S']\n",
      "A17NVM7IAPF2NS ['B00D6XW62I', 'B004N625B4', 'B004WK3U9W', 'B00829THEG', 'B00EF1OGOG']\n",
      "A2TN0U8173HM7A ['B004YDUZ22', 'B0002KVQBA', 'B000HPV3RW', 'B007Q45EF4', 'B005QWY3PU']\n",
      "ACQYIC13JXAOI ['B000N99BBC', 'B00HVT27B8', 'B001S4OTS6', 'B005LAIFE2', 'B004I5BUSO']\n",
      "A3TRY87JJCA5Y8 ['B005EOWBKE', 'B003UI62AG', 'B002SIMPXM', 'B002R5ABB4', 'B003AI272I']\n",
      "AYB4ELCS5AM8P ['B00G4V0QSK', 'B004CLYEFK', 'B004CLYEDC', 'B00G4UQ6U8', 'B00AR95FOU']\n",
      "A2T689YVOAYGGD ['B002YU83YO', 'B003MVZ60S', 'B00009R6WT', 'B0034CL2ZI', 'B002G1YPH0']\n",
      "ADLVFFE4VBT8 ['B005IMFX2K', 'B000M17AVO', 'B001T9NUJE', 'B001TH7GUA', 'B004CLYE8C']\n",
      "A1MFAPVBW9BEGD ['B00F3SOHNU', 'B003FVI2KQ', 'B001S4OTS6', 'B003B20F5E', 'B004HVW0ZQ']\n",
      "A1Z16630QMH8Q6 ['B000Q82PIQ', 'B000HPV3RW', 'B00JC5Y6WM', 'B004CLYEDC', 'B00829THK0']\n",
      "A1XXMNLOLKNO0I ['B004OB0EBQ', 'B008RDI0TU', 'B007WTAJTO', 'B001TH7T2U', 'B007PTCFFW']\n",
      "A105TOJ6LTVMBG ['B00029U1DK', 'B001J8BPYM', 'B00005N6KG', 'B006JINHYS', 'B0019WF4FE']\n",
      "A33CNFK776MTWR ['B005450ZUG', 'B002FJQXXC', 'B005DKIID8', 'B002IVWSR2', 'B004QM8CLM']\n",
      "A30KPB2ILF6K6J ['B001P05NBA', 'B00829THVO', 'B001CCLBSA', 'B0081FLFQE', 'B004WK3U9W']\n",
      "A3QNQQKJTL76H0 ['B00DT04I9W', 'B00BOHNYTW', 'B000O8WE66', 'B00BFO14W8', 'B008HK3QII']\n",
      "AOEAD7DPLZE53 ['B00BW6KCTU', 'B000VX6XL6', 'B001DL9WDG', 'B00B1862X4', 'B0002IWC9C']\n",
      "A2RN2AO4BE6F4K ['B005DSPLCQ', 'B00A0JUNWQ', 'B002FU5QMK', 'B003XM9774', 'B0001GRTK2']\n",
      "A5JLAU2ARJ0BO ['B00008OE6I', 'B0000642RX', 'B00083JQY0', 'B000TXEE14', 'B00006B7HB']\n",
      "A11ED8O95W2103 ['B000EVSLRO', 'B00006HSYC', 'B00007IFED', 'B0000228GG', 'B00000J061']\n",
      "AKSQNMIKOU01H ['B002V88HFE', 'B0036AWR8E', 'B0000WKYU4', 'B002PWHOYG', 'B0079M711S']\n",
      "A3BACUOZV1M0WM ['B000VX6XL6', 'B001NS828K', 'B00009R6WO', 'B004R7P28W', 'B000CSWHCY']\n",
      "AR8LWDT6TUKNZ ['B00BS4KUCK', 'B00E83XHXM', 'B0056KEPVO', 'B0034WR19Y', 'B003T0EYVE']\n",
      "A13QOK3SKIT9QL ['B002WE6D44', 'B000ID37EA', 'B006UMM1PO', 'B0013FSKSA', 'B008KVUAGU']\n",
      "A1KXJCXS6HFRQZ ['B003ES5ZUU', 'B004CLYEDC', 'B00007FGU7', 'B005CG2AX2', 'B004FHO5Y6']\n",
      "AR74YY08IP2WE ['B00BOHNYU6', 'B00FR6VL50', 'B000233WJ6', 'B000QY9KIS', 'B002BH3Z8E']\n",
      "ATOKT8QYK967L ['B00829TIA4', 'B00125Y0NU', 'B005CG2AL4', 'B008E35TD8', 'B009JP461G']\n",
      "AXR3CV6A4FMBG ['B004VR7XCG', 'B001MSF1FI', 'B000MUP69I', 'B0033PROOY', 'B003K1EYM6']\n",
      "A328S9RN3U5M68 ['B00EDCF0MY', 'B00IX2VGFA', 'B00HG1L334', 'B00BLCVD9I', 'B00FW6T36Y']\n",
      "A2IFKH3TJ10387 ['B000N99BBC', 'B002K9IHGI', 'B005FE7URM', 'B00GMGDFPI', 'B00834SJNA']\n",
      "A3N0P5AAMP6XD2 ['B002V8C3W2', 'B007QXLIWI', 'B000NQ16NG', 'B00834SJNA', 'B004QQXDVC']\n",
      "A3V7D0LH8L7BG0 ['B00BOHNYU6', 'B00DR6DQZA', 'B000EXS1BS', 'B00829THO6', 'B00BOHNYTW']\n",
      "A3R1WFO4KIUQXZ ['B002V88HFE', 'B005EOWBKE', 'B005NFG1MS', 'B002LF2PQO', 'B00FRDUZXM']\n",
      "A1F1A0QQP2XVH5 ['B008RM235I', 'B000H4CLXS', 'B003HFCDLY', 'B000HPV3RW', 'B0013FRNKG']\n",
      "A3W4D8XOGLWUN5 ['B000M17AVO', 'B00BOHNYTW', 'B007WTAJTO', 'B000Q8UAWY', 'B001XURP7W']\n",
      "AM3XNQU9TZBD8 ['B00JC5Y6WM', 'B002TLTE6O', 'B00DR6DQZA', 'B00871SR68', 'B008HO9DK4']\n",
      "A1A306IAZ3TM1 ['B001FBL2SW', 'B000LY4FLA', 'B0014IYZDK', 'B00065XSP8']\n",
      "A25QJBK33C4O0R ['B00CKAOJA0', 'B00BOHNYU6', 'B008C1JC4O', 'B00B3PDH5G', 'B009RPDP2Y']\n",
      "A2Z1R98M2XOCEJ ['B009SYZ8OC', 'B005ELBSWO', 'B00IQBSW28', 'B00067LYFW', 'B00BJVJV9A']\n",
      "A26BDXG9KVH7SU ['B002K9IHGI', 'B000Q8UAWY', 'B0079R8KO0', 'B00HWMPSF6', 'B00HR7FWUC']\n",
      "A368IPE6EW0GZL ['B0016D1I0G', 'B002ZIMEMW', 'B000P1R9QM', 'B00F5NB7MW', 'B00028VKLI']\n",
      "A2KYRPDKVBI2R4 ['B008MB71IS', 'B0034CL2ZI', 'B008LTBITY', 'B000N99BBC', 'B001PS9UKW']\n",
      "A3QUDXLOJTKEP9 ['B002V88HFE', 'B00BOHNYTW', 'B005L38VPC', 'B00B7E1D7W', 'B007JGB4RQ']\n",
      "APG2BHOAXPNEQ ['B002UOR17Y', 'B008AST7R6', 'B002KO5XVU', 'B009JZ09PI', 'B002ZWU33U']\n",
      "ANRS196NKFVUU ['B004QGXOOI', 'B002HKHLDK', 'B002KO5XVU', 'B003T5KXJQ', 'B008EKON56']\n",
      "A19X4BF861LQST ['B0029PQFT4', 'B000EOMXM0', 'B000MX48VM', 'B001KUV2KQ', 'B000BQ7GW8']\n",
      "A17Z0LVY96TO53 ['B002YTDE5I', 'B004HO58SO', 'B00894YP00', 'B00EH5UGR6', 'B001JHXOTW']\n",
      "A1QVFHPY8418HC ['B001OOZ1X2', 'B00077AA5Q', 'B002EEP3MK', 'B00D429Y12', 'B00009EHJV']\n",
      "AJX9A4Q19UTJU ['B008EQZ25K', 'B000N99BBC', 'B00IVFDZBC', 'B008EQYRRY', 'B00829TIEK']\n",
      "AUCIFMWP3DU8R ['B00CB2F65O', 'B009UEAZ84', 'B00E5UHRIO', 'B002SIMPXM', 'B0044WWLW0']\n",
      "A11OTLEDSW8ZXD ['B002WE4HE2', 'B001FA09WI', 'B0082E9K7U', 'B0064P5I1G', 'B0079UAT0A']\n",
      "A3U41ZL33SS92P ['B009F7IBZK', 'B002V88HFE', 'B001LYUG3A', 'B0018M256G', 'B003VANO7C']\n",
      "A1FLJCHN5CG5M5 ['B000QUUFRW', 'B005IMFX2K', 'B001ENW61I', 'B003O8682Y', 'B0000BZL0G']\n",
      "A3T7V207KRDE2O ['B0034XRDU0', 'B003HFCDLY', 'B006TF37H8', 'B000PNGM18', 'B005FYNSPK']\n",
      "AZMY6E8B52L2T ['B001MSU1FS', 'B001TH7GUK', 'B00DTZYHX4', 'B00BXAGSRU', 'B005NGKR54']\n",
      "A3IJ4Z18FTIIP ['B0036Q7MV0', 'B009NB8WR0', 'B00CAAJDP6', 'B009YC3Y08', 'B0043T34RK']\n",
      "A3OYO7B6SS7QLH ['B000BQ7GW8', 'B0056TYRMW', 'B0074FGLUM', 'B0057ODG6Y', 'B004TJ6JH6']\n",
      "A3M7BCQKSQAK4L ['B00HVT27B8', 'B007GMPZ9Q', 'B009X3UW2G', 'B004WK3U9W', 'B004CLYEDC']\n",
      "AVPNQUVZWMDSX ['B001TH7GSW', 'B00834SJSK', 'B007WTAJTO', 'B00CD1FB26', 'B001TOD7ME']\n",
      "A1ZU55TM45Y2R8 ['B00GMGDFPI', 'B00DB3SH2G', 'B0017H4G0A', 'B003MQO96U', 'B00006B81E']\n",
      "A1U5IJHJK84S54 ['B002WE6D44', 'B001F51G16', 'B00006I5J7', 'B00BQ8RFAI', 'B009DCNP9O']\n",
      "ATZJNEXX7LWD3 ['B002V8C3W2', 'B006W8U2MU', 'B005DSPLCQ', 'B004GCJEZU', 'B00CGVF8E4']\n",
      "A1H4IVXNXWWBLV ['B0052SCU8U', 'B007M4XML6', 'B005IHAIC0', 'B002VPE1WK', 'B005IY2OD4']\n",
      "A23E9QQHJLNGUI ['B000EOMXM0', 'B00BP5KOPA', 'B009F7IBZK', 'B00894YP00', 'B0013FSKSA']\n",
      "A1OA2ZW406NQXM ['B002TLTE6O', 'B001P05NBA', 'B007PJ4P4G', 'B005X64MN2', 'B001S0PWWC']\n",
      "A1DTCJV6KOMJOA ['B009A6CZ30', 'B0090A8TWW', 'B00FFJ0HUE', 'B006WHPQE0', 'B007RB164E']\n",
      "ARX0KOX5Q01BJ ['B001UI2FPE', 'B004RORMF6', 'B00483WRZ6', 'B0012X43P2', 'B005UBNLFK']\n",
      "A27H0T39U3FZB5 ['B003L1ZYZ6', 'B00DR6DQZA', 'B00829TIA4', 'B00475K64E', 'B008YDTRZ4']\n",
      "A4WEZJOIZIV4U ['B009NB8WR0', 'B00834SJSK', 'B00EO302SO', 'B00G6IJ5NI', 'B00CKAOJA0']\n",
      "AH3LF9RAD1O2V ['B00160MV8W', 'B00834SJSK', 'B001CCAISE', 'B00007E7JU', 'B0049XGNKK']\n",
      "AGXMC3ITWZASE ['B005O9YMM4', 'B0002XQDSS', 'B002JCSV5I', 'B00004SQET', 'B004BFXBXI']\n",
      "A23NSKTMSPPBTR ['B000M17AVO', 'B00BQ4F9ZA', 'B00HG1L334', 'B00B9KOCYA', 'B004CLYEFK']\n",
      "A3NKRH3TJ4DPVI ['B003ES5ZUU', 'B00005T3H5', 'B000067RVL', 'B001C271MA', 'B0002CPBWI']\n",
      "A1KD8NJPZ01R37 ['B0002F3G7M', 'B00001W0DI', 'B0014YGAN2', 'B000AP05BO', 'B005MLAZ8Y']\n",
      "A1FOSIV4TWZFR7 ['B009ZGK6QS', 'B00026BQJ6', 'B003VVYL46', 'B00A4V22G0', 'B002Q0W816']\n",
      "A2WDCAMKCCP1UR ['B003MTTJOY', 'B002WE6D44', 'B005HNHRA6', 'B008U69LC4', 'B00000K13L']\n",
      "AHIK7BUXFRMT8 ['B002K9IHGI', 'B0074FGLUM', 'B00007KDVJ', 'B0003009AI', 'B000E8OVNK']\n",
      "AOTZOHB2LZGYR ['B0036Q7MV0', 'B003PJ6QVU', 'B00746YHV6', 'B009O7YUF6', 'B002FB684E']\n",
      "A1HBI9BBQIG1NH ['B001B11GTQ', 'B00ATM1MHO', 'B0016BVKAQ', 'B001U0O5QE', 'B004NY9UUK']\n",
      "A2PREU4LOFQRB1 ['B000N99BBC', 'B0063E3ZPO', 'B0077E48A0', 'B004UHY8SO', 'B003DO5W12']\n",
      "A2WLNSZ9U0T1S3 ['B002K9IHGI', 'B000VX6XL6', 'B0012Y2LLE', 'B001L1H0SC', 'B003XIJ566']\n",
      "A2FZQF0MH29VYN ['B002WE6D44', 'B002V88HFE', 'B000L47AHG', 'B003WV5DJC', 'B0016LFN2C']\n",
      "AO8NH0BV82XIE ['B002FB684E', 'B005DQG5SC', 'B00426C57O', 'B007BZRXK2', 'B000AYKUUQ']\n",
      "A3HPCRD9RX351S ['B0029N3U8K', 'B007OY5V68', 'B00330O2U8', 'B00006HOKR', 'B005HQ50SO']\n",
      "A324X7RVDAV3FT ['B004Y1AYAC', 'B000ZMCILW', 'B000IF51UQ', 'B003Y322RO', 'B001BSQK8Q']\n",
      "A2B7BUH8834Y6M ['B002NEGTTW', 'B004JZI78O', 'B003XIJ3MW', 'B005L38VPC', 'B00005S0M5']\n",
      "A3TPNC3TKGCCEI ['B005FE7URM', 'B00BWF5U0M', 'B0097CZHAU', 'B00FRMAOIO', 'B0042FZ50O']\n",
      "A1S27P7KJO9I96 ['B004444O5U', 'B00F3F0EIU', 'B00DR8LA60', 'B00091S0WA', 'B009A6CZ30']\n",
      "A30J7WQV0ZNRXG ['B00ISIG690', 'B007PJ4P4G', 'B002S53IG8', 'B00003G1RG', 'B000F3H9UG']\n",
      "A3PD8JD9L4WEII ['B004CLYE8C', 'B009USAJCC', 'B002VPE1X4', 'B0082E9K7U', 'B006ZT4VA0']\n",
      "AI2AOCTC8BQVZ ['B000CKVOOY', 'B007WTAJTO', 'B001342KM8', 'B001702I16', 'B0051DRODW']\n",
      "A2KOV8XWZOZ0FQ ['B003ES5ZUU', 'B001IEZX3G', 'B007P71IM0', 'B00BCA41PW', 'B00AR95FOU']\n",
      "A3LDPF5FMB782Z ['B000QUUFRW', 'B002V88HFE', 'B001QFZMBU', 'B001SER48S', 'B001F50UHM']\n",
      "A2DF62DP20RIXF ['B001F51G16', 'B0013ITQA8', 'B000MQK6BK', 'B00000J1TX', 'B009Z7KMUM']\n",
      "A215IN14OKAE2T ['B0002D6QJO', 'B0017JY5FE', 'B00B588HY2', 'B001LYUG3A', 'B001C48HTO']\n",
      "A17O9AHKHK66AI ['B004QGXOOI', 'B0038M3YM8', 'B009W8YQ6K', 'B00452V66G', 'B005OFFH5Y']\n",
      "A2S26YGSVXBCFL ['B002TLTE7I', 'B00BPHH8MA', 'B001FA1NZK', 'B000LRMS66', 'B00B3PDHBU']\n",
      "A1O229NVVDJUX2 ['B001TH7GSW', 'B005IMFX2K', 'B006W8U2MU', 'B00834SJSK', 'B002NEGTTW']\n",
      "A195EZSQDW3E21 ['B003ES5ZUU', 'B0035FZJHQ', 'B003L139HG', 'B006K553LU', 'B001EO6W8K']\n",
      "A35W3JQYP0M655 ['B00G4V0QSK', 'B001MXLD4G', 'B00EPCN9O8', 'B00E362W9O', 'B008R79VMQ']\n",
      "A35A2RWUMC737N ['B003MTTJOY', 'B000Q8UAWY', 'B0099TX7O4', 'B004OB0EBQ', 'B0034HIB0W']\n",
      "ATDE9JYCPI0L1 ['B00029U1DK', 'B000ETY3LO', 'B000VQ3R44', 'B001NTDGQC']\n",
      "A3F3B6HY9RJI04 ['B004CLYEDC', 'B004ELA0SS', 'B002DUCMQU', 'B000TKHGL2', 'B00006IW1X']\n",
      "A1NQFT941TOTT7 ['B000QUUFRW', 'B002WE4HE2', 'B00198DM2K', 'B00E95OT6I', 'B0064I1NQ2']\n",
      "A2XRMQA6PJ5ZJ8 ['B00L3YHF6O', 'B007R5YDYA', 'B0000BZL1P', 'B00E055H5O', 'B000BY52NK']\n",
      "A2J7FHZFKOKGZ6 ['B00629NHW6', 'B0016XMY4K', 'B002XGDU9M', 'B009DCNP9O', 'B002OOWC3S']\n",
      "A1143YEAZYMYHJ ['B00BQ4F9ZA', 'B000N99BBC', 'B000M17AVO', 'B001EYV9TM', 'B00CD778LC']\n",
      "A1522TN5FVJL0Y ['B0034CL2ZI', 'B00004VX3T', 'B0000658CH', 'B003W9B4H4']\n",
      "ALDAF4VVLFRHP ['B004CLYEDC', 'B004CLYEFK', 'B00829THEG', 'B004L9M4C8', 'B005IQSSJG']\n",
      "A3R4794K2RVU1S ['B00461E7JE', 'B00006B7HB', 'B006HUMYCO', 'B001F7AJKI', 'B005UBNKWO']\n",
      "A2SH7OWE8QJYNC ['B000089GN3', 'B00858I4F2', 'B0051G5SBY', 'B002CWZ29S', 'B002HU9LJC']\n",
      "A2Y29IRSI08F0I ['B0045KGZOG', 'B0089E5R0W', 'B000EH6GKM', 'B002CA19W4', 'B001P3PSS0']\n",
      "A3S3R88HA0HZG3 ['B005NGQWL2', 'B000JMJWV2', 'B00EDCF0MY', 'B0062EUE54', 'B005FDXZJU']\n",
      "A32HSNCNPRUMTR ['B0041RSPRS', 'B0019EQ1RW', 'B002HWRJBM', 'B002IJ95ZM', 'B002LM0U2S']\n",
      "A2SNE4QQGVP13U ['B004Q0PT3I', 'B001E1Y5O6', 'B000N99BBC', 'B00461E7JE', 'B009O7YUF6']\n",
      "A26KXNN6H1IL0I ['B008OEHPKM', 'B004Q3R9AQ', 'B001F50UHM', 'B00AVPWVH4', 'B0016D1I0G']\n",
      "A2BYV7S1QP2YIG ['B0002WPREU', 'B000BQ7GW8', 'B00AANQLRI', 'B00JF0D7RE', 'B007I5JT4S']\n",
      "A2ZY3S7SD3QO8Z ['B00E0HITQ6', 'B00829THK0', 'B00GO4GMAI', 'B0088CJT4U', 'B001WLTI7W']\n",
      "A20VG5W98SX99L ['B00834SJSK', 'B001OOZ1X2', 'B003YGMECE', 'B009PK9S90', 'B00834SJNA']\n",
      "A2V5M5EJPOD2IU ['B00D5Q75RC', 'B00E0HITQ6', 'B000QZ0036', 'B004NHCGJO', 'B002OL2NT4']\n",
      "A1QOK9LU90ACF7 ['B004GF1PC2', 'B001IEZX3G', 'B003X26VV4', 'B004GUT1QO', 'B000F7QRTG']\n",
      "AMZCZBK1EF1PV ['B004CLYEDC', 'B003S5SOLG', 'B0015YJOK2', 'B00CD778LC', 'B002KS5CQW']\n",
      "A2F7CSE6KT7NI4 ['B000051299', 'B004ELA0SS', 'B004CLYEDC', 'B00HHRP11C', 'B001FVI91U']\n",
      "A1ZCSSCAGBCD49 ['B004CLYEDC', 'B009SYZ8OC', 'B002MPPHKY', 'B00INO6JX2', 'B00829THK0']\n",
      "A2L4W1M5YU5QX3 ['B001TH7GUU', 'B0012Y2LLE', 'B005FYNSPK', 'B000Q8UAWY', 'B00CM0XHNS']\n",
      "A21GW4L8FO307V ['B0088PUEPK', 'B000CRFOMK', 'B004S4R5CK', 'B000I20AJ6', 'B005XP020K']\n",
      "A3J2YU2D9BH2J7 ['B0052SCU8U', 'B001TH7GUA', 'B0006I1TRY', 'B00FA4Y7N2', 'B003UT2E8E']\n",
      "A1T7EHCMZ92TKC ['B001ENOZY4', 'B008PQAFR4', 'B00EN27SHY', 'B003VAGXZC', 'B004GUT1QO']\n",
      "A2RU4U1JZ3DMP5 ['B00017LSPI', 'B002NU5UW8', 'B00483WRZ6', 'B005LFT3GG', 'B004AGX4YO']\n",
      "A21KNRUAA5RK5E ['B002MZUNXU', 'B00DQKQ7U8', 'B0036R9YA6', 'B002IJA1EG', 'B003P2UMR6']\n",
      "A11I1I9QLMAM1A ['B00D5Q75RC', 'B0034CL2ZI', 'B00E3RH5W2', 'B00F0DD0I6', 'B00GMTN96U']\n",
      "A1E55W6ES0FY17 ['B00007GQLS', 'B000WBQOZW', 'B005SZ66XM', 'B00005114Z', 'B007SP36ZG']\n",
      "A2HRHF83I3NDGT ['B000M2TAN4', 'B007WTAJTO', 'B0044XTJ10', 'B00H7PBWK8', 'B005LJQMCK']\n",
      "A2AFTRU43PY9P5 ['B0046TJG1U', 'B001TH7GSW', 'B006VFQ74G', 'B00D7YUSO4', 'B007X6FCWA']\n",
      "A2GOHNFBHUU3UI ['B00AEKEA48', 'B000HGIWN4', 'B001F8SCRE', 'B000KJQ1DG', 'B000EON3WY']\n",
      "AWJWCKB92RJX2 ['B002EVP85K', 'B000U5TUWE', 'B00093IIRA', 'B000BP8AY2', 'B004I55670']\n",
      "A209G57KXCBF4C ['B00EEBS9O0', 'B0007M610Y', 'B00CJKW4WQ', 'B00COHALOM', 'B00385XYU2']\n",
      "A2Y4H3PXB07WQI ['B003ES5ZUU', 'B003X26VV4', 'B000CRFOMK', 'B009FUF6DM', 'B001GI9JWA']\n",
      "A11YOTONCPRQ9S ['B000VX6XL6', 'B007WTAJTO', 'B000233WJ6', 'B000UHQVOW', 'B0031RG29M']\n",
      "A2E1EFNIZL2FVA ['B00834SJSK', 'B006ZBWV0K', 'B005DKZTNK', 'B00BWL33H8', 'B003UT6C9G']\n",
      "A1P0JSFW184ZXJ ['B0034CL2ZI', 'B004VM0SE6', 'B003ELOSIW', 'B008C1JC4O', 'B008X9ZBVI']\n",
      "A1SB9BNNGKNX2Z ['B000HPV3RW', 'B00017LSPI', 'B000CKVOOY', 'B005E8MVV4', 'B002FU5QM0']\n",
      "AT28RL25Q2OLK ['B0000BZL1P', 'B00005NIMJ', 'B00IX2VGFA', 'B004XC6GJ0', 'B006TF37H8']\n",
      "A200DY76VXVGP9 ['B003LVZO8S', 'B002V88HFE', 'B004GF8TIK', 'B00005125T', 'B0052SCU8U']\n",
      "AZ515FFZ7I2P7 ['B00DR6DQZA', 'B003LSTD38', 'B00829THEG', 'B00FF8ZRR8', 'B006JINHYS']\n",
      "AYP0YPLSP9ISM ['B004NY9UV4', 'B000F7QRTG', 'B0002L5R78', 'B008X6C4I4', 'B003C1AO2I']\n",
      "A2PSD2R9A1CXG7 ['B001TUYTZM', 'B0012Y2LLE', 'B005JW6WQU', 'B000AZ57M6', 'B002MCZJ78']\n",
      "A7QMQBGJ2TCQG ['B001BTCSI6', 'B00015GYU4', 'B000EOSHGQ', 'B000CSQJ8C', 'B000VE0ME4']\n",
      "A1T1YSCDW0PD25 ['B005ES0YYA', 'B002WE6D44', 'B004S4R5CK', 'B002BH3Z8E', 'B001E1Y5O6']\n",
      "A1JZFGZEZVWQPY ['B00DB9WCR6', 'B002S53LJ2', 'B008HO9DK4', 'B007X3VC7W', 'B006ZBWV0K']\n",
      "A32LX4XJ2LU740 ['B00006B9CR', 'B004HHICKC', 'B000OTF6G0', 'B005KFONIU', 'B006MO0IZA']\n",
      "A2A4X545ERLS7H ['B0052SCU8U', 'B00081A2KY', 'B008LTBITY', 'B007WTAJTO', 'B00123WZWK']\n",
      "A2NXRD80LWHUOP ['B00B99JU5M', 'B003ZUXXVU', 'B007I5JT4S', 'B000LQMKDS', 'B000X24ISU']\n",
      "A2L36AGL8CKY3D ['B002WE6D44', 'B000233WJ6', 'B0062HIQLU', 'B0083XTQ42', 'B0019EQ1RW']\n",
      "A2XPK6XCL0UH1S ['B000L7INLU', 'B002EEP3MK', 'B003JV3XZ6', 'B005EIGUD4', 'B004N625C8']\n",
      "A1YVO5V1SO18DZ ['B00CB2F65O', 'B00CD8ADKO', 'B004HC5IPE', 'B009NHWVIA', 'B00HWMPRKM']\n",
      "A3A4ZAIBQWKOZS ['B007BXD66E', 'B005IMFX2K', 'B005H3Q57M', 'B006EKIQYM', 'B00HHRP11C']\n",
      "ASFP250F22MDZ ['B003XIJ3MW', 'B000PNGM18', 'B002HWRJBM', 'B001KJ91V4', 'B003YKG2XM']\n",
      "A2OOLI2WFY4L2 ['B003ES5ZUU', 'B004YLAYHA', 'B000HDJT4S', 'B0044EOQO4', 'B002CS2T4I']\n",
      "A3EFSLEMHNPP6A ['B001TH7GSW', 'B00FNPD1OY', 'B0041G5XFQ', 'B002DW99H8', 'B00176TEGM']\n",
      "A20DDH4NT6Q1E8 ['B00BW6KCTU', 'B00FR6VL50', 'B001OOZ1X2', 'B0055QZ216', 'B00829THK0']\n",
      "AI0BCEWRE04G0 ['B000L47AHG', 'B009SGB3KI', 'B0002RBQO0', 'B0013LQD7Y', 'B00CCKDOYU']\n",
      "AMO1MLSIJSQOF ['B00390JT1O', 'B004XNLR16', 'B00CRJWW2G', 'B000FJUMWC', 'B0054L8MR8']\n",
      "AMUP8DYE7EAN2 ['B001DJ64D4', 'B000N99BBC', 'B00829TIA4', 'B0009K9FZW', 'B004YLAYHA']\n",
      "AENULRBQ2IE5I ['B003BLQHN4', 'B006YB9082', 'B003I4FD9I', 'B001TSMJDS', 'B005QI5DZI']\n",
      "A3G5MOHY1U635N ['B004G6002M', 'B00005T3G0', 'B00081NX5U', 'B004HIN7SI', 'B0014Z29U4']\n",
      "ACY9QYNDFLVBI ['B003ZSHNGS', 'B007SZ0E1K', 'B003MTTJOY', 'B0001FTVE0', 'B004Z0S6RU']\n",
      "ANEXFROORI6F6 ['B0010Z294O', 'B001Q2FM5E', 'B000XSDKP6', 'B000P1QJXQ', 'B0088CJT4U']\n",
      "A1ZA5SXZS8Z3CK ['B007PJVB3Y', 'B007Q45EF4', 'B003S68Q0Y', 'B004O0PAKW', 'B006M1MW1Q']\n",
      "A30R8VFR16RE32 ['B0019EHU8G', 'B003ES5ZUU', 'B00829THVO', 'B00HNJWSH4', 'B000JLP5UK']\n",
      "AFR9GYKAHM37U ['B000S5Q9CA', 'B005J7YA4G', 'B002QG2H7K', 'B000KO0GY6', 'B0038OMEQI']\n",
      "A8P6GIIQ6YQV8 ['B00609B3J2', 'B000AAN76Y', 'B001MSU1HG', 'B008Y2SPE4', 'B008ORT9OY']\n",
      "A2PJH18W4XHTZW ['B003L1ZYZ6', 'B000M2TAN4', 'B002WE6D44', 'B006U3O566', 'B0009K9FZW']\n",
      "A2ZY49IDE6TY5I ['B00007EDM8', 'B008ULPA2O', 'B004RDWVUS', 'B003B3N258', 'B004UHWZDY']\n",
      "AGOH8N902URMW ['B000N99BBC', 'B005DIQ2OC', 'B006TAP096', 'B00CEZBKTO', 'B001DJ64C0']\n",
      "A2VCXIAWCPQ13P ['B001MSU1FS', 'B004G6002M', 'B0010Z28XG', 'B0000A2QBP', 'B002IJA1EG']\n",
      "A2CIQEY05SPHTZ ['B002V88HFE', 'B000O8WE66', 'B002LEVGMO', 'B001QTXL82', 'B001GENI4E']\n",
      "A2N75ADJSRW0AH ['B000VUIXOO', 'B005EJH6Z4', 'B001KELVS0', 'B00CDS9HTM', 'B001RB24PK']\n",
      "A1VHCO8RQFIGQJ ['B00007GQLU', '9983891212', 'B007I5JT4S', 'B002LTWDSK', 'B003SQEAY0']\n",
      "A5A4374R8I7NB ['B004LNXO28', 'B004YPK5ZW', 'B00494XZ1Y', 'B0055OPXZ8', 'B001ELK2NY']\n",
      "A39137LW12KK7B ['B003ES5ZUU', 'B004G6002M', 'B00829THO6', 'B000VZCEUI', 'B002VPE1Q6']\n",
      "A3IRA0BHI9NE9U ['B0036Q7MV0', 'B003VAHYNC', 'B000067SG2', 'B000FBK3QK', 'B005PYD2RE']\n",
      "A14I1F2H7NOYDC ['B00029U1DK', 'B003L1ZYZ6', 'B001KB6Z2U', 'B003B20F5E', 'B000K4V4X8']\n",
      "A3QDY9I0CNMD2W ['B001TH7GUU', 'B000VIQ6AO', 'B001SJVU24', 'B0009PAVI2', 'B000Z80ICM']\n",
      "A2V2URLB31HG59 ['B002TLTE6Y', 'B007PJ4P4G', 'B009YQ8BTI', 'B007X3VC7W', 'B00COEBCXY']\n",
      "A1Z4GII5CHCDG7 ['B00267S7XW', 'B006QB1RPY', 'B004QQY2JO', 'B000E6G9RI', 'B003NRHAH8']\n",
      "A3S5WYWYKSAI9C ['B000EMWBT2', 'B006WHPQD6', 'B00065L5TY', 'B007KZQM9G', 'B0002SQ2P2']\n",
      "AG6TX1ZJHLMO7 ['B00C20KWP4', 'B00EHZYWGM', 'B000V4PZCI', 'B0015VW3BM', 'B000Y8I3NY']\n",
      "A6VPK7X53QNAQ ['B0006B486K', 'B003LSTD38', 'B005JK63RA', 'B003WKOENO', 'B001HSOFI2']\n",
      "A1GW7V6S6XSXX3 ['B00834SJSK', 'B000WOIFO2', 'B00C28L138', 'B006DDT6JO', 'B00546JKJC']\n",
      "A1KDUQ2HU0WD68 ['B00IVFDZBC', 'B00DR6DQZA', 'B005KAK2FI', 'B002VPE1WK', 'B00B3PDHBU']\n",
      "A2503LT8PZIHAD ['B0079UAT0A', 'B003XIJ3MW', 'B008MF3X9K', 'B0074703CM', 'B004OVECUA']\n",
      "A3V15SFD7918WZ ['B006JINHYS', 'B005C95NCY', 'B00EN27TCI', 'B001T9NX9Q', 'B00006346W']\n",
      "A1QRST0A3IQIEF ['B00B2X0SME', 'B000HKDA0U', 'B009SIJ7G8', 'B004G8QO5M', 'B00372X8UC']\n",
      "A32O5FZH994CNY ['B003L1ZYZ6', 'B001O94GNS', 'B00D1GYNT4', 'B000B6D39I', 'B0041D81WQ']\n",
      "A149RNR5RH19YY ['B001OOZ1X2', 'B001F51G16', 'B00001P4ZH', 'B000089GN3', 'B0000DZET4']\n",
      "A3RGHO0Q938FRS ['B000N99BBC', 'B0000B006W', 'B001B8EOMU', 'B000OFWJO6', 'B009E6J1BU']\n",
      "A3AGQAXTX6VRJ3 ['B000N99BBC', 'B0019EHU8G', 'B001KUL012', 'B0007QKMQY', 'B0007WK8LC']\n",
      "A2X06FP2PQ6EK0 ['B004LSNF04', 'B003ES5ZUU', 'B006W8U2MU', 'B005CLPP8E', 'B000VE2RP6']\n",
      "A27H61OHW44XA7 ['B004Q3R9AQ', 'B004J3V90Y', 'B001TH7GSW', 'B000H0IF2S', 'B000MF4N42']\n",
      "ABDR6IJ93HFIO ['B002WE4HE2', 'B0009Y7APU', 'B003WUBIZQ', 'B000S5Q9CA', 'B006W8U2MU']\n",
      "AJL3U764D7NI3 ['B005ES0YYA', 'B007SZ0E1K', 'B000UO6C5S', 'B000Q8UAWY', 'B003LPUWT0']\n",
      "AT09WGFUM934H ['B005H3Q57M', 'B008EQYRRY', 'B00BCGRZ04', 'B0015DYMVO', 'B007WTAJTO']\n",
      "AGR1V15L6FLMA ['B009OBCAW2', 'B004S4R5CK', 'B003WOL4VK', 'B005DKZTMG', 'B009WU5XUG']\n",
      "A2CWIYIETNBAK3 ['B00834SJSK', 'B00FZ9SMVU', 'B00BOHNYTW', 'B00829THEG', 'B002J9HCV0']\n",
      "A2UCDLO7V7DG6 ['B001O4EPHA', 'B00009R9EO', 'B003Y322RO', 'B0016BUKJS', 'B000T93UR2']\n",
      "A3LPL35P7FH78Y ['B000Q8UAWY', 'B003FVJYF8', 'B006W8U2MU', 'B002WE4HE2', 'B009WA115M']\n",
      "A30XZK10EZN9V4 ['B000QUUFRW', 'B003L1ZYZ6', 'B004LEAYXY', 'B004AGX4YO', 'B002VPE1WK']\n",
      "AHF4I1FSIHABC ['B00006I53W', 'B002NEGTTW', 'B0002Y5WZM', 'B00009XVCZ', 'B0055Y66A4']\n",
      "AO2EURP2Y4JZM ['B0034CL2ZI', 'B001CIREXA', 'B00829TIEK', 'B005SEZR0G', 'B001URWAYG']\n",
      "A3EWJX7W1X7E79 ['B005X64MN2', 'B000NB05MO', 'B003NE5K50', 'B003CJTQJC', 'B0002E51CQ']\n",
      "A3GX0FAMEXV6FB ['B000QUUFRW', 'B007P4VOWC', 'B005S0XYKK', 'B00267S7XW', 'B005DLDTAE']\n",
      "A1NGFGBX2VCQS8 ['B008HO9DIG', 'B000BSN4UY', 'B004W2JKWG', 'B000VZCEUI', 'B004CLYEDC']\n",
      "A3D5B2CBFNJB0K ['B007PTCFFW', 'B009YT6PPC', 'B00FRMAOIO', 'B009WA115M', 'B003B3P2CE']\n",
      "AOEDWQLH2WKKW ['B005ES0YYA', 'B00BQ4F9ZA', 'B001S0I1M0', 'B00HFRWWAM', 'B000UEZ36W']\n",
      "A2WB7LZ595CR50 ['B001TH7T2U', 'B009X3UW2G', 'B001OI2Z4Q', 'B00429N18S', 'B001TH7GUU']\n",
      "A2MOJANFPX353G ['B009USAJCC', 'B0035FZJHQ', 'B000VZCEUI', 'B000J171MK', 'B0011E324K']\n",
      "A3SU7JSTPH9CC9 ['B003ZTKFEE', 'B0034WR71G', 'B003TM600U', 'B003TLSXMO', 'B002ZIVKAE']\n",
      "AVBLGXSWRN666 ['B000F7QRTG', 'B005JN9310', 'B001N9X4CS', 'B00EO96W2I', 'B000LRMS66']\n",
      "AA3FTJYJYX55C ['B003FVVMS0', 'B002WP2QGM', 'B005CT56F8', 'B0031ESKJA', 'B0060B7NCG']\n",
      "A379DLIAF0MFM5 ['B000N99BBC', 'B001TH7GSW', 'B001OOZ1X2', 'B000EMWBT2', 'B001SJVU24']\n",
      "A3J8A5L5AF5TX9 ['B00001P4ZH', 'B000OGX5AM', 'B0012MMW7E', 'B004CQGAYS', 'B000PO3CTM']\n",
      "A1HYH206E18XVC ['B002M3SOC4', 'B00EO96W2I', 'B00FZ9SJLS', 'B000VJWJW2', 'B001I45BQK']\n",
      "A2FRKEXDXDN1KI ['B008EQZ25K', 'B000RZQZM0', 'B0002Y5WZC', 'B00FAYL1YU', 'B000VZS2EU']\n",
      "A3V0YR50F1XSKP ['B005LIDU5S', 'B0088PUEPK', 'B000OGX5AM', 'B0002VAQR4', 'B002YIG9AQ']\n",
      "A1F7YU6O5RU432 ['B0044YPN0A', 'B002K9IHGI', 'B00G4UQ6U8', 'B004Q3R9AQ', 'B001AW8W7A']\n",
      "A2NB2E5DXE319Z ['B0052SCU8U', 'B005ES0YYA', 'B0000BZL1P', 'B007R5YDYA', 'B009SYZ8OC']\n",
      "A17W0GMB0YY83M ['B001CIREXA', 'B0098OCKDE', 'B0007LJHVA', 'B001NJ0D0Y', 'B0043T7FXE']\n",
      "AS269J1OGZT1V ['B002YU83YO', 'B0011U65F2', 'B000196C2A', 'B0058AH2US', 'B0055MBQOM']\n",
      "A2CWUM49ZWMGEY ['B00DJAAFVW', 'B0040G5KY6', 'B0059H60SK', 'B000050AUJ', 'B009A6PJKQ']\n",
      "AGGAQLXPVGM5D ['B0014S5FVQ', 'B001A4LVYY', 'B004E10KFG', 'B000VR3P9K', 'B000SQYZE8']\n",
      "A2AEZQ3DGBBLPR ['B0000VYJRY', 'B000A3WS20', 'B00006JU62', 'B00004Y7CF', 'B0013FW8XS']\n",
      "A3VBZDYGHF4NK8 ['B002MCZJ78', 'B0018P0S1M', 'B000XNR6RY', 'B00AXVXXNC', 'B001BO7R00']\n",
      "A37IRE9GZ0CZ7I ['B003ES5ZUU', 'B005DKZTMG', 'B005I6EVUG', 'B000JE7GPY', 'B00DR0C96S']\n",
      "ADZF3QDGSZE7K ['B001TH7GSW', 'B0076W9Q5A', 'B0093HGD2K', 'B005CT56F8', 'B004GKLT4G']\n",
      "A3J029KBNG5MNP ['B00D5Q75RC', 'B009YT6PPC', 'B0034CL2ZI', 'B00D429Y12', 'B003WU8J58']\n",
      "AT8V3JOZD3KWK ['B002WE6D44', 'B00889ST2G', 'B00768SBAU', 'B004Y1AYAC', 'B001144JQU']\n",
      "A2ARDVMUGDFED6 ['B002TMRZOQ', 'B001M4HXB2', 'B001FWBUUG', 'B001N0KEWU', 'B000652M6Y']\n",
      "A28N2AWOVO2PB ['B000O8WE66', 'B009YT6PPC', 'B000V9T2JA', 'B0088CJT4U', 'B0090IA4FO']\n",
      "A110VKXAVLAYKY ['B004G6002M', 'B002ZIMEMW', 'B003WPTBAK', 'B003EWNXFU', 'B00009VQJ7']\n",
      "A213J54E63SYOP ['B001MSU1FS', 'B002V88HFE', 'B000CRFOMK', 'B0088PUEPK', 'B000083KIH']\n",
      "A18A5VSD0IPN14 ['B00426C57O', 'B008ZGKWQI', 'B0049SCB2Y', 'B002ROILDA', 'B00CALM17C']\n",
      "A3JUHP1E3WUHEA ['B003ES5ZUU', 'B00829TIA4', 'B004CLYEDC', 'B002K9IHGI', 'B004BLK24S']\n",
      "A1VQHH85U7PX0 ['B00IVFDZBC', 'B000NP3DJW', 'B003CJTQJC', 'B0000BZL5A', 'B00E87E1OM']\n",
      "A1Z3598J0371ND ['B0019EHU8G', 'B000WXSO76', 'B004IEALDK', 'B00EZ2E8KC', 'B005JE3VYY']\n",
      "A3QRW0UJPKIAX7 ['B007KZQM8W', 'B0019M6GP6', 'B0093H4VBU', 'B009WG6JF8', 'B002LF2PQO']\n",
      "A1MCH5RXDOH87H ['B008EQZ25K', 'B00006B7HB', 'B003ES5ZSW', 'B005KP473Q', 'B00CK4OZGO']\n",
      "A2XCCN239AR1XK ['B001TH7GSW', 'B004CLYEFK', 'B008LTBITY', 'B0071CU6HC', 'B004CLYEH8']\n",
      "A2ZGDHLJ85T6AD ['B0034CL2ZI', 'B0058SRNZ4', 'B001TH7GVE', 'B001O9ARDG', 'B00EU9V3S0']\n",
      "A2IFGGXG3YV3Y6 ['B003ES5ZUU', 'B0035FZJHQ', 'B00D5Q75RC', 'B009B0MZ8U', 'B003ZUXX4W']\n",
      "A1ZPUEHF4AES86 ['B005ES0YYA', 'B0019EHU8G', 'B0049CPQ36', 'B0015YJOK2', 'B006B7R9QE']\n",
      "A1G3DKT38DNZJP ['B001TH7GUU', 'B004ABQAFO', 'B00004YZLX', 'B002SZEOLG']\n",
      "A1EH2S92FHWZRP ['B003ES5ZUU', 'B000M2GYF6', 'B00000J4FS', 'B001PIBE8I', 'B004HIN7SI']\n",
      "A1EVV74UQYVKRY ['B00E3FHXYO', 'B001F7AHOG', 'B00CHH0JF0', 'B00JF0D7RE', 'B00G4V0QSK']\n",
      "A1DQHS7MOVYYYA ['B000VJRUKS', 'B000EXS1BS', 'B000PCX780', 'B001P5GKC6', 'B00387EW1K']\n",
      "A2LF07KCXDR70D ['B0002Z240M', 'B0074BW614', 'B00548SKMI', 'B00BCGRRWA', 'B00BAVZRHO']\n",
      "A3MU9G6YWKTGTA ['B000092TT0', 'B003UE52ME', 'B003N12TSY', 'B005HMKKH4', 'B001UADEPC']\n",
      "A1F0KPA232MTYC ['B001QUA6RA', 'B0002LEMWE', 'B00829TIEK', 'B00178HJ6C', 'B003BLS926']\n",
      "A1V4VVBQBFXRHC ['B003SGCO3E', 'B0001XGQTA', 'B00EOI2SR2', 'B00APCMMDG', 'B0088CJT4U']\n",
      "A8FKL1DHTHC12 ['B002NO7PWC', 'B000V5P90K', 'B004LTEUDO', 'B0062EUE54', 'B003XIJ3MW']\n",
      "A34VRVI4CSI5RQ ['B00CE590Z0', 'B00IRRDHUI', 'B00D429Y12', 'B004BLIQEG', 'B009AU2JT6']\n",
      "A2YW6XOID7GV6G ['B002WE6D44', 'B0046A8YEO', 'B007KCV0RS', 'B001EYV9TM', 'B0058FAYPI']\n",
      "ANTGGAQYPSWHF ['B006EKIQYM', 'B004Q3R9AQ', 'B002E4UWWQ', 'B0055YB5IC', 'B00006JLOT']\n",
      "AGVWTYW0ULXHT ['B00BOHNYU6', 'B000TKHGL2', 'B00HFRWWAM', 'B00829TIA4', 'B004I5FL1G']\n",
      "A2LW5AL0KQ9P1M ['B008MF3X9K', 'B00EOE4G4E', 'B00DQZRQPI', 'B00EXPNFQO', 'B00DQZOIOU']\n",
      "A16J281SJ9QXIQ ['B00FNPD1VW', 'B003XIJ3MW', 'B000O8I474', 'B007KEZMX4', 'B009W8EWOG']\n",
      "AHR86ZEYETLJI ['B006W8U2MU', 'B004LVMCMS', 'B007VGGFZU', 'B0002EQU6C', 'B00AAIPVH4']\n",
      "A2UOHALGF2X77Q ['B000M17AVO', 'B002WE6D44', 'B00FR6VL50', 'B001BM5XB2', 'B002V88HFE']\n",
      "AFNG8O2DXRCUV ['B000M17AVO', 'B001TH7GUU', 'B007WTAJTO', 'B00CKK8GEU', 'B0053OLY9O']\n",
      "A2YEZ8Z3BW2SKG ['B00017LSPI', 'B004CLYEFK', 'B003ES5ZSW', 'B0043EV20Q', 'B000AOTLP6']\n",
      "A3A15L96IYUO6V ['B005L38VPC', 'B001DJ64C0', 'B004XZHY34', 'B001IBMLKM', 'B000KBG51W']\n",
      "A8WEXFRWX1ZHH ['B002BNLYFY', 'B0096YOQRY', 'B00006B9CR', 'B000E5E6KG', 'B000HNJ96Q']\n",
      "A2LLSFQO8O8XNW ['B00429N18S', 'B0033BU0F8', 'B002Z2QDNE', 'B000083KIH', 'B0011FQUQG']\n",
      "A32QOZWIKQDNZX ['B003ES5ZUU', 'B0000228GG', 'B001KHCESS', 'B0000C8817', 'B0000CEOYI']\n",
      "A3EZEP0FX5BC1P ['B00005LEN4', 'B00FJRS5BA', 'B00FR6VL50', 'B00F1CRTJM', 'B000HDJT4S']\n",
      "AK3GKIV8DEY8B ['B00009R6JT', 'B001CCLBSU', 'B000NBBWNU', 'B0009Y7APU', 'B000BFNT0W']\n",
      "A2TVJ0YDW3QO63 ['B004CLYE8C', 'B004GUT1QO', 'B00858I4F2', 'B00829TIEK', 'B00005S8KM']\n",
      "A23R3EOZ837242 ['B0052SCU8U', 'B0034CL2ZI', 'B00EN27TCI', 'B00CRFK24K', 'B0049SCB2Y']\n",
      "A361U4SXK7FCQE ['B00BOHNYU6', 'B005KFONIU', 'B00D1GYNT4', 'B002TLTE7I', 'B004G8QO8E']\n",
      "A11EYMH9UV9XG7 ['B000N99BBC', 'B000165AOY', 'B00093IIRA', 'B005DIPWFC', 'B005EM6IAA']\n",
      "A2L9OPJAAEK08Q ['B007PJ4P4G', 'B000089GN3', 'B001UNI80A', 'B0016MF7W2', 'B002OB4BK8']\n",
      "AC1YLEFC9AN5X ['B0034CL2ZI', 'B005HSDLCO', 'B004G8QO8E', 'B001TOD7ME', 'B007K3SB6K']\n",
      "A3M82NO6OU1FHS ['B006W8U2MU', 'B0093HKFYW', 'B0018QNYSK', 'B003BQ91Y6', 'B006ZZQ5EY']\n",
      "A2WCFDOCS73PNB ['B0034CL2ZI', 'B006EKIQYM', 'B00BOHNYTW', 'B007KZQM8W', 'B001EYV9TM']\n",
      "A1M7HP5CHDXXOU ['B00426C57O', 'B008OEHPKM', 'B00D429Y12', 'B008LTBITY', 'B008RM235I']\n",
      "A3963R7EPE3A7E ['B001BM5XB2', 'B00D5Q75RC', 'B000HPV3RW', 'B000UN8MKM', 'B007X3VC7W']\n",
      "A2LEIANN1UZTHP ['B004Q3R9AQ', 'B00E055H5O', 'B0017K6BD2', 'B000067SG2', 'B00212NO6W']\n",
      "A16RI68PS6T5CA ['B001DJ64D4', 'B000M2GYF6', 'B0099SMFVQ', 'B00GMGDFPI', 'B000N99BBC']\n",
      "A5KMMY627T3W ['B00006I53X', 'B003ZSHNGS', 'B00FF8ZRR8', 'B005DKZTMG', 'B000AO3L84']\n",
      "AEL6CQNQXONBX ['B0040723AO', 'B002VPE1X4', 'B0034XRDU0', 'B00JX1ZS5O', 'B000OTF6G0']\n",
      "A24HWYHR28JJ7A ['B004S4R5CK', 'B00004XOM3', 'B002YTDE5I', 'B003VKTJGW', 'B000V5P90K']\n",
      "A2V0I904FH7ABY ['B003L1ZYZ6', 'B001TH7GSW', 'B009YQ8BTI', 'B001DJ64D4', 'B00JC5Y6WM']\n",
      "A3SMD3T0QTN109 ['B001UI2FPE', 'B006EKIQYM', 'B002TLTE6O', 'B00829THEG', 'B00HNJWSH4']\n",
      "AW6J9IILGOZY3 ['B003NR57BY', 'B0089E5R0W', 'B005KELR3A', 'B009F7IBZK', 'B008X9Z8NE']\n",
      "AEJAGHLC675A7 ['B004CLYEDC', 'B0079UAT0A', 'B003ZYF3M8', 'B004Q3R9AQ', 'B0045TYDNC']\n",
      "A1GYEGLX3P2Y7P ['B00JC5Y6WM', 'B000VX6XL6', 'B002K9IHGI', 'B004CLYEDC', 'B0097FZRYI']\n",
      "A2LTYEYGKBYXRR ['B008YRG5JQ', 'B00H7PBWK8', 'B00K4VQZCM', 'B00J5174TU', 'B00ISGCAJM']\n",
      "A38V76R24EJSHA ['B000WH6H1M', 'B00713DPM4', 'B007MW13PA', 'B00HQZGZ38', 'B0026IBI1O']\n",
      "ABE5E8B3J7MKY ['B0019EHU8G', 'B003UI62AG', 'B000QUUFRW', 'B00007FGU7', 'B000R9PXE2']\n",
      "A23WPWLYT3P1CZ ['B002UVNW5W', 'B008OHNZI0', 'B002MCZJ78', 'B001F7AJKI', 'B002VG39BI']\n",
      "A25FL6VLD7S23S ['B00180LGX6', 'B00D429Y12', 'B00006JN3G', 'B004BLK24S', 'B0011UIXLG']\n",
      "A233TZONT1OGR0 ['B000OG88KY', 'B00005T3G0', 'B0001XGQTA', 'B003P2V52M', 'B0036VO7WM']\n",
      "AQ2FC1DLKVD8H ['B002WE4HE2', 'B007ZZ6OW6', 'B003M2YT96', 'B0002J2TLC', 'B00JF0D7RE']\n",
      "A2QNS95WGN35G9 ['B003WUBIZQ', 'B000JLK5PK', 'B0013FLTNS', 'B0036WT4EW', 'B002J9HCV0']\n",
      "A2FWZ58M6IQMD7 ['B000N99BBC', 'B007R5YDYA', 'B00FW6T36Y', 'B004XC6GJ0', 'B009QV15DU']\n",
      "A1R377IPZOKLMM ['B002K9IHGI', 'B008HK3QII', 'B003XDU2Y0', 'B00007IFED', 'B0002IWC9C']\n",
      "A1IG1I6MR3HAWA ['B00316263Y', 'B002HWRJY4', 'B000U5TUWE', 'B001QUA6R0', 'B0001VQEYY']\n",
      "AUITG1DJ3QUGK ['B0058UUR6E', 'B001WAK6H4', 'B003LPTAYI', 'B003N12TSY', 'B004HO59M4']\n",
      "A2NLI1M5K2MQ5E ['B00AAIPT76', 'B000DZH9H4', 'B00FRHTSMW', 'B003WGNSTE', 'B004T6P1FU']\n",
      "A6VXZ1EEPRTLV ['B000UHQVOW', 'B001F7AHOG', 'B00CIZ2238', 'B0002CPBWI', 'B0015AE4CE']\n",
      "A1CM4HI4S5P0WO ['B003VAGXZC', 'B003FO4UHW', 'B0015C30J0', 'B000RHZJN4', 'B000069EUW']\n",
      "A28LUOEY0ECT9G ['B006W494ZA', 'B001CGXM6K', 'B009724NGO', 'B000BSHI4C', 'B009FQWSK0']\n",
      "AL9WKVMRI6GFB ['B00CKAOJA0', 'B00G4UQ6U8', 'B003ES5ZUU', 'B00FPKDPZC', 'B00475K64E']\n",
      "A3NHUQ33CFH3VM ['B00HZWJGS8', 'B006ZH0KVG', 'B003S5SOLG', 'B00BOHNYU6', 'B0034CL2ZI']\n",
      "A1C47ROOK7BSVL ['B00454YCWY', 'B005Q5TP5U', 'B0041UJVI2', 'B001VFUN82', 'B007RFW1NA']\n",
      "A3LDLV1GWQJLEQ ['B00BOHNYTW', 'B00DT04I9W', 'B00829TIEK', 'B002PAX9QU', 'B007X3VEX4']\n",
      "A23ONMGKEWDG4M ['B000EXRSVM', 'B0002RBQO0', 'B004PX56TI', 'B0002SQ2P2', 'B005BI5WMW']\n",
      "A186697K4XKXQL ['B0052SCU8U', 'B001S4OTS6', 'B00829TIEK', 'B002LF2PQO', 'B000RZNI4S']\n",
      "AQR4HPVSOPS08 ['B003L1ZYZ6', 'B005FYNSPK', 'B003FVVMS0', 'B001TOD7ME', 'B000068O40']\n",
      "AQIJ3ZEEVCIKU ['B003CFATT2', 'B002JQNXZC', 'B004CLYEDC', 'B005J31BCO', 'B00FZ9SMVU']\n",
      "A5CDMTW6JKV5G ['B0019EHU8G', 'B00829TIA4', 'B00BOHNYTW', 'B00A9NE84C', 'B0019HGTLC']\n",
      "A3P1508PZ0UADD ['B005HY4U46', 'B001TDL34Y', 'B000I1ZWRC', 'B00170MYIS', 'B0015VW3BM']\n",
      "A1B4MIXYVIKMU2 ['B00BOHNYTW', 'B00CD8ADKO', 'B00829THK0', 'B00AAHT8JC', 'B003VAGXZC']\n",
      "A11FX8HL2ANK6T ['B003ES5ZUU', 'B00D6XW62I', 'B001F7AHOG', 'B003VAHYTG', 'B005CLPP8E']\n",
      "A4IEUHNRFZO0 ['B003FVVMS0', 'B003ZUIHY8', 'B000SMVQK8', 'B0074024XU', 'B0084OIY0M']\n",
      "AN81JUYW2SL24 ['B003ES5ZUU', 'B000S5Q9CA', 'B000EVSLRO', 'B001LYWBOM', 'B00A9NE84C']\n",
      "ANW6EGY12V5XS ['B002PAX9QU', 'B00GMGDFPI', 'B00IVPU7DG', 'B003BKW2K2', 'B002XN3OL4']\n",
      "A3KZEGBTPH6MMF ['B00DR6DQZA', 'B0015AFOR8', 'B004N627KS', 'B0088CJT4U', 'B000FBK3QK']\n",
      "A31N0XY2UTB25C ['B000M2TAN4', 'B00029U1DK', 'B002WE0QN8', 'B0000B006W', 'B000Q85WRC']\n",
      "A3F7F7QKQP2FKT ['B001CBFTFM', 'B000SMVQK8', 'B006U5W49O', 'B0060GEZ0E', 'B002HQUIVQ']\n",
      "A1OMXVXXP07F05 ['B004Q3R9AQ', 'B0046TJG1U', 'B0002LEMWE', 'B002RWJHBM', 'B0079UAT0A']\n",
      "A1DO9LRCO23EOM ['B001T9NUJE', 'B00006HSML', 'B00DR9V1T0', 'B001SEQPHE', 'B0009KA6P0']\n",
      "A2XU6J41ZQOJ2V ['B001F7AJKI', 'B000F0ELOG', 'B006YP41I2', 'B002HOPUPC', 'B000BONJXU']\n",
      "AFICF7DKHTQ87 ['B009YQ8BTI', 'B0018ZDGAC', 'B0076AYNXM', 'B00DQZQHBW', 'B000WY8JRU']\n",
      "A3EZFFPVS34AMO ['B001XURPR2', 'B001KELVS0', 'B000EW9Y4M', 'B005A0B3FG', 'B00EMHM622']\n",
      "A1B6O7SAIYG2N0 ['B00829TIEK', 'B002TLTE6O', 'B008PQAFR4', 'B0046HAO40', 'B00BEHRQB4']\n",
      "A1F9Z42CFF9IAY ['B001TH7GSW', 'B000M17AVO', 'B00006B7DA', 'B0001FTVE0', 'B00DB9WCR6']\n",
      "A124WZCUIH2T7W ['B003RRFWRY', 'B001C6IWME', 'B0002L5R78', 'B000PTF66Y', 'B001TP6TDW']\n",
      "A1G5MI2KREPEIB ['B000JE7GPY', 'B00212NO6W', 'B00006HSML', 'B003NR57BY', 'B000YBH4YU']\n",
      "A2BCDZO1XQLDH ['B000GABCY2', 'B000VDF5RO', 'B0018ZDGAC', 'B0013A1XDY', 'B000RHZJN4']\n",
      "A2GKMXRLI7KLFP ['B002SQ9ZX2', 'B000066E6Y', 'B001U3S5S0', 'B003807GK6', 'B004M8SBD4']\n",
      "A2J3VCGBNDLAKF ['B000QUUFRW', 'B007RZB3KM', 'B005NC8BF6', 'B009SS0FZK', 'B000HB2TJ2']\n",
      "A10ZBR6O8S8OCY ['B00E87E1OM', 'B0015AARJI', 'B00834SJSK', 'B002FU5QMA', 'B001N85NMI']\n",
      "AEWYUPCNDV7HY ['B004CLYEDC', 'B002IC0YL8', 'B0006I1TRY', 'B00BWHILCY', 'B002MCZJ78']\n",
      "A23QII83UGZP5U ['B0034CL2ZI', 'B008RVJJZG', 'B0073K64NM', 'B008O515CK', 'B000F2PHDI']\n",
      "A2QI2JHSIQ3SN3 ['B0019EHU8G', 'B006U3O566', 'B007R1FH3K', 'B001F6YRNO', 'B004CGHDEO']\n",
      "AFH97KY1SBP2C ['B000R5LWRI', 'B001U3ZH7W', 'B0025T1HM4', 'B001LQSFKY', 'B007B31IAK']\n",
      "A2NVQZ4Y7Y0J1R ['B002VPE21A', 'B000O8WE66', 'B0039BPG1U', 'B002LITT56', 'B000EMWBV0']\n",
      "A335QXPTV1RIV1 ['B002EEP3MK', 'B005CWHZP4', 'B005OA3BSY', 'B000Y6GUI6', 'B0051WAM1O']\n",
      "A328GLDSDNFYII ['B002RM08RE', 'B005K7192G', 'B002OOWC3S', 'B0015AARJI', '9575871979']\n",
      "A2WW57XX2UVLM6 ['B0045TYDNC', 'B002G1YPH0', 'B0007GIXS8', 'B001JEPBTQ', 'B001DJ64CA']\n",
      "AT53ZTTO707MB ['B0082E9K7U', 'B0057UUB1G', 'B00GJYJFKM', 'B00ISGCAJM', 'B00JF0D7RE']\n",
      "AHQRU3MRORIWQ ['B00CB2F65O', 'B00EMHVVNM', 'B000OV74CC', 'B0095P2F1S', 'B0017HF3XO']\n",
      "A22CW0ZHY3NJH8 ['B00CSDMWGW', 'B0010Z294O', 'B0055QYKQO', 'B00483WRZ6', 'B00FR6VL50']\n",
      "A1HSM98KUGTHNY ['B000JLKIHA', 'B000RZQZM0', 'B007VGGFZU', 'B00102ZOQC', 'B000EIXX4S']\n",
      "A203OCQQ12MAVT ['B000S5Q9CA', 'B000068O16', 'B0002GRUJ6', 'B00310PJM0', 'B0038KR8WM']\n",
      "A2D1LPEUCTNT8X ['B000SMVQK8', 'B0010Y414Q', 'B002Y6CJJ8', 'B003OBUJIK', 'B00AASPQLU']\n",
      "AMKNPIDFLRFMP ['B00E3W15P0', 'B001U3ZH7W', 'B00004SB92', 'B004CADY9I', 'B0006ON0QQ']\n",
      "A1AH8033GWKBY7 ['B000BTL0OA', 'B00FNPD1VW', 'B00E98O7GC', 'B009MAKWC0', 'B0038KLDPA']\n",
      "A3GVXKCTFN3YDN ['B00834SJSK', 'B006JINHYS', 'B00BOHNYTW', 'B00829TIA4', 'B00HFRWWAM']\n",
      "A357B3PUHSVQA ['B00834SJSK', 'B00077AA5Q', 'B009F7IBZK', 'B004JMZPK0', 'B008X1BV2Y']\n",
      "ATS2855497V0I ['B0010Y414Q', 'B000N99BBC', 'B007I5JT4S', 'B000O8WE66', 'B003XIJ3MW']\n",
      "A377LPVLLAI42D ['B0001G6U5W', 'B0002XQJFA', 'B000JLP5UK', 'B001FA1O0E', 'B001B8EOMU']\n",
      "A194Y47BF3CUTJ ['B0031RFVJ4', 'B001E1Y5O6', 'B000KU5CN0', 'B001EM9JXC', 'B0012R9WHW']\n",
      "A3MQ15651KGVLJ ['B004CLYEFK', 'B007PTCFFW', 'B0009MX5R4', 'B007M50PTM', 'B006DDT6JO']\n",
      "A1MZL91Z44RN06 ['B002WE6D44', 'B00834SJSK', 'B004CLYEFK', 'B004CLYEDC', 'B0002WPREU']\n",
      "AL1XV4L25FZ2S ['B000N99BBC', 'B002Y6CJJ8', 'B004RO9L4Q', 'B0002D03ZW', 'B002XVYZ82']\n",
      "A1FDV3WPOHREY9 ['B005IMFX2K', 'B000P1O73A', 'B000NHZSHK', 'B0030UL7IG', 'B0002V9IKK']\n",
      "A2BLFCOPSMBOZ9 ['B001FWBUUG', 'B003ES5ZQE', 'B006LW0W5Y', 'B00GJYJFKM', 'B00EHZYWGM']\n",
      "A3AVJCB1ZD6ZY5 ['B00D1GYNT4', 'B00GHY5F3K', 'B006MRAVFE', 'B00BQHD4B8', 'B000IE8Z4Q']\n",
      "A2YEOR4XJ8N3QE ['B003O1UYHG', 'B002JQNXZC', 'B008C1JC4O', 'B00GO1UV4E', 'B00871SR68']\n",
      "A12R3YGEHW7D8G ['B0099SMFVQ', 'B007WTAJTO', 'B00137NMMW', 'B00489SLEQ', 'B004GYVPGE']\n",
      "AU3GYRAKBUAEU ['B006LW0W5Y', 'B009CP99GK', 'B0036VO67I', 'B004HW7KBY', 'B004HIN7SI']\n",
      "A8CKH8XB33XGN ['B001EAQTRI', 'B006EKIQYM', 'B002V8C3W2', 'B001QUA6RA', 'B001TH7GUU']\n",
      "A1L5TA5UQF7EWE ['B0003QER8C', 'B00CKK8GEU', 'B007PTCFFW', 'B00A9NE84C', 'B00CSIOLXY']\n",
      "A2J8DE8R94ZB02 ['B008EQZ25K', 'B003VAHYNC', 'B0054JJ0QW', 'B00IVPU786', 'B002OOWC42']\n",
      "A1UQBFCERIP7VJ ['B00GO4GMAI', 'B0079UAT0A', 'B004CLYEFK', 'B0053R0WWG', 'B00G4V0QSK']\n",
      "A2C8I2RQ0WG940 ['B000VDCTCI', 'B00144KS6W', 'B003S68Q0Y', 'B0037MH5W4', 'B007CS9WYI']\n",
      "A33775AIB1A664 ['B000N99BBC', 'B002QEBMAK', 'B0091UHMHO', 'B009YGGKXC', 'B0041OUA38']\n",
      "A1NMM0RDRF6R84 ['B00007IFED', 'B002KETE24', 'B008RPGP9K', 'B00F6S0XGW', 'B0040JHVC2']\n",
      "A1VVRA3P6G1TWH ['B000EXRSVM', 'B000I1ZWRC', 'B0018ZDGAC', 'B000PNGM18', 'B0014Z3XMC']\n",
      "A3KZ7OH4VRL048 ['B004CLYE8C', 'B0034CL2ZI', 'B008PQAFR4', 'B00C25I5TE', 'B000A2BLEC']\n",
      "ACHTDPEQYSEQL ['B00D429Y12', 'B000V5P90K', 'B001TIHVHC', 'B006TF37H8', 'B0021AFZOI']\n",
      "A3F8T3BRXRX5P3 ['B000M17AVO', 'B001UI2FPE', 'B001PS9E5I', 'B000Q82PIQ', 'B002IO2UM2']\n",
      "A1PN2U0AWXGVML ['B003XIJ3MW', 'B000JMJWV2', 'B000V5P90K', 'B0021AFZOI', 'B004Q0PT3I']\n",
      "A3K91X9X2ARDOK ['B00G6IJ5NI', 'B00GMGDFPI', 'B006LW0W5Y', 'B0015AARJI', 'B00B3PDHBU']\n",
      "AEAFHD09X8044 ['B000IJY8DS', 'B001L1H0SC', 'B0031U1AT6', 'B0017H4G0A', 'B005FMLZQQ']\n",
      "A3S0EHEIR52HP1 ['B003VAGXZC', 'B0061RJSWC', 'B00CJSOYMG', 'B001H9O73O', 'B007PRHNHO']\n",
      "AWNJAY0M5UI70 ['B000S5Q9CA', 'B002RCNX8K', 'B00511PS3C', 'B0036Q7MV0', 'B001TH7GUU']\n",
      "A141R97FHSSUQ0 ['B000FFISV8', 'B001HZUPD4', 'B004ZMV2GA', 'B003M0NURK', 'B000Z80ICM']\n",
      "A2ZWJVKITA32OV ['B003CJTQJC', 'B002OGMNT4', 'B004XC6GJ0', 'B004W9BKE0', 'B002RL875A']\n",
      "A31RULW0KNYJ5H ['B004QK5N5W', 'B009QV72VY', 'B002VPE1XE', 'B0040723AE', 'B00744QNA6']\n",
      "A1E3OB6QMBKRYZ ['B00DT04I9W', 'B001I45T9O', 'B0072XQI2W', 'B007VL8Y2C', 'B008U3038I']\n",
      "A2J0IBS4PFRO2C ['B002TMRZOQ', 'B004TS2AP2', 'B000AO3L84', 'B000A3WS84', 'B000JV9NL2']\n",
      "A3CW0ZLUO5X2B1 ['B003ES5ZUU', 'B006LW0W5Y', 'B000ENUCR4', 'B003OBUJIK', 'B00L3YHF6O']\n",
      "A21S26XYPGXJZX ['B00EO302SO', 'B001XURPQI', 'B002GP7ZT6', 'B00009R6WO', 'B005IHAIC0']\n",
      "A11KZ906QD08C5 ['B00IVFDZBC', 'B000JV9LUK', 'B000JMJWV2', 'B000NP3DJW', 'B001SER47O']\n",
      "A32NEDX6UVV8DE ['B003FVVMS0', 'B000092TT0', 'B005D91G38', 'B000ONZTMW', 'B0043NH28S']\n",
      "A3BVN2QBNPBHCR ['B009NHWVIA', 'B003ELOSIW', 'B000VE2RP6', 'B001W26TKU', 'B000WXSO76']\n",
      "A1BVE2ZIBKJ7YI ['B00889ST2G', 'B00426C57O', 'B000YEMKGY', 'B00AXTQQDS', 'B006I0KL6Y']\n",
      "A1ZPY91VE3IDN1 ['B003CJTQJW', 'B000H84LBE', 'B0017HF3XO', 'B002C1BHIO', 'B008X9Z8NE']\n",
      "A3LQUEB84IR3VO ['B0046TJG1U', 'B007WTAJTO', 'B001UEBN42', 'B00BT7RAPG', 'B0034JW17E']\n",
      "A3SQCTNYQFVBWM ['B007WTAJTO', 'B00006JPWW', 'B00585CLSQ', 'B00291F4RM', 'B0058RXKKW']\n",
      "A1H7Y5XKPGT0OS ['B00EOE4G4E', 'B00A81ICCE', 'B002VPE1YS', 'B00008L3IS', 'B003M0NURK']\n",
      "A2BX8DDQGCCG2J ['B00746W3HG', 'B003GIJTR8', 'B004UR16ES', 'B002PK1COG', 'B00BHNNUJ2']\n",
      "A3HH340REI4J47 ['B000BQ7GW8', 'B004XFYGNK', 'B005AZ7B4S', 'B004KZDV8E', 'B004BBC2RS']\n",
      "A105S56ODHGJEK ['B00IVFDZBC', 'B002TLTE6Y', 'B001CBFTFM', 'B001NTFATI', 'B0044DEDC0']\n",
      "A2IMLOJ2Z2QEU2 ['B004CLYEFK', 'B0036V9AGU', 'B00AJHDZSI', 'B004JMZPK0', 'B003KPBRRW']\n",
      "AROQO2VDODT7 ['B0000BZL1P', 'B001F51G16', 'B00009R6WU', 'B00007B4DM', 'B00166EUI0']\n",
      "A15CL28ALB7MTZ ['B0052SCU8U', 'B000JMJWV2', 'B008ALA6DW', 'B00HFRWWAM', 'B0009HGVZW']\n",
      "ABXANRX4GPYRZ ['B00746W3HG', 'B003XIJ566', 'B005I6EU48', 'B000I6P1I2', 'B000PDR1LS']\n",
      "A2R1HUYHXV7H18 ['B0079UAT0A', 'B004CLYEFK', 'B006JH8T3S', 'B00BWJW7UO', 'B001TOD5CQ']\n",
      "A30X750M8V1XXW ['B001TUYTZM', 'B0000BZL1P', 'B005KAK2FI', 'B001XURPQI', 'B0002VAQR4']\n",
      "A1MNN0ZMHYPJDU ['B00B588HY2', 'B004TPPWT6', 'B00DVFLJDS', 'B004BLIQEG', 'B004VTF7IG']\n",
      "A2UTZ4O5E2W4DK ['B004W2JKWG', 'B007WTAJTO', 'B0010Z28XG', 'B000F28DP2', 'B001H8DF0G']\n",
      "A30C8WHQ2CYFO4 ['B0033PRWSW', 'B001BTCSI6', 'B004X1SFTA', 'B0012GDOQS', 'B0040JHVC2']\n",
      "ADKZOXAOV8EXD ['B002RCNX8K', 'B000ZMCILW', 'B002OOWC4C', 'B004M8SSZK', 'B005IHAI8O']\n",
      "A5Q1FK0FWU7DH ['B00005N6KG', 'B001FA1O0E', 'B001KP3NZS', 'B000LRMS66', 'B003554BP2']\n",
      "A2LXX47A0KMJVX ['B000VX6XL6', 'B00834SJSK', 'B00CSDMWGW', 'B00BERGFV6', 'B000W09ZTK']\n",
      "A1W415JP5WEAJK ['B0082E9K7U', 'B002VPE21A', 'B0053R0WWG', 'B003GALRIA', 'B00DTZYHX4']\n",
      "AVJORH3ACR2A5 ['B003ES5ZUU', 'B0019EHU8G', 'B00081A2KY', 'B000MX48VM', 'B003M6FDS8']\n",
      "AHNHLGKIZ2N3B ['B00BOHNYTW', 'B0043M668G', 'B00AJHDZSI', 'B004XNLR16', 'B001NJ0WCS']\n",
      "APOGXH3A74CM3 ['B00829TIA4', 'B002SFDJMQ', 'B00BP5KOPA', 'B001TOD7ME', 'B001D8AGA2']\n",
      "AQNSQW4495SG0 ['B00009XVCZ', 'B00FNPD1VW', 'B00004XOM3', 'B001M4HXB2', 'B005IQSSJG']\n",
      "A1NNMOD9H36Q8E ['B001TUYTZM', 'B00119T6NQ', 'B00007EDZG', 'B00006B9H8', 'B002K4512Q']\n",
      "A17UNMURMLX0ZE ['B009NHWVIA', 'B00B99JU5M', 'B00FR6VL50', 'B009YT6PPC', 'B00829TIA4']\n",
      "A3FS3FJPD3RJTD ['B008X1BV2Y', 'B004CLYEH8', 'B0035ERKYW', 'B00009RDIF', 'B003UYU16G']\n",
      "AJEOFP6ZWY0MK ['B00017LSPI', 'B00067LYFW', 'B000JE7GPY', 'B00603RTC8', 'B0041Q38NU']\n",
      "A3NYBI5VMVEEIK ['B001TDL34Y', 'B002BZFSYA', 'B004SUO068', 'B003EO1H7E', 'B000FKP7TY']\n",
      "AU627A4UGIW6V ['B0058G40O8', 'B009SGB3KI', 'B001G4NBSC', 'B00006I5J7', 'B000KX65K6']\n",
      "AIBRTGBN07D6A ['B002VPE21A', 'B00COF7DGS', 'B001EPVOQY', 'B0002L5R78', 'B003YTROIU']\n",
      "AAR7CEPXYJA0T ['B003ELOSIW', 'B003N7NMO8', 'B0030BJEUS', 'B002QEBMAK', 'B003HIXOOG']\n",
      "A2J96FILPQA01 ['B008C1JC4O', 'B003819S8S', 'B002YIG9AQ', 'B00DIFIM36', 'B00CJLEHPM']\n",
      "A2X8KN82L07RSK ['B00GO4GMAI', 'B004VM1T5S', 'B005PUZOYM', 'B007PJ4P4G', 'B000N53TDM']\n",
      "A3775OP5VTX5ON ['B000WOIFO2', 'B001TH7GUU', 'B000JMJWV2', 'B000V07N9U', 'B000CRFOMK']\n",
      "A3NG7X4APIV649 ['B000N99BBC', 'B00829TIA4', 'B005IA843W', 'B0002VAQR4', 'B0027AGK3M']\n",
      "AZ8XSDMIX04VJ ['B000QUUFRW', 'B000096B01', 'B0018MPQBM', 'B0009GZSSO', 'B005FYNSPK']\n",
      "A25WJCAP606YMP ['B002DUCMQU', 'B000652M6Y', 'B009YT6PPC', 'B0034CL2ZI', 'B000LRMR26']\n",
      "AFM7FK7NFEKFZ ['B003QHXZM4', 'B0000642RX', 'B008ZGKWQI', 'B000X1S3VO', 'B0000EI9VR']\n",
      "A2SKEQT0WTB954 ['B004Y1AYAC', 'B002LITT42', 'B006UMM2BW', 'B00B8L36A6', 'B00008N6VM']\n",
      "A2PZXXPGLXXKZU ['B004QK5N5W', 'B004X355Y6', 'B0054JJ0QW', 'B0013FRNKG', 'B00FAMAQQG']\n",
      "A3HXGSMCIOZEW8 ['B003ES5ZR8', 'B003OC6LWM', 'B003WV5DJC', 'B007PA1K84', 'B006Y44DAY']\n",
      "A3EP26M3QHINXT ['B00IVPU786', 'B005SPQ8XK', 'B00013J89K', 'B005749HQC', 'B008YLHBEA']\n",
      "ARC5ASW9CUAGP ['B00E3W15P0', 'B00483WRZ6', 'B000EVLS4C', 'B005TQES58', 'B002UBPBTC']\n",
      "AUK79PXTAOJP9 ['B001CIREXA', 'B007I5JT4S', 'B003GSCS3U', 'B008AJLPYS', 'B005553J4Y']\n",
      "A3HSDV9Y0TV5Z2 ['B009OBCAW2', 'B0011U65F2', 'B001MSU1FS', 'B000CKVOOY', 'B001E1Y5O6']\n",
      "AWSK1ZAEU1KFL ['B000067RT6', 'B007WTAJTO', 'B000063TJY', 'B004JISIE4', 'B004T4FAZI']\n",
      "A10PEXB6XAQ5XF ['B00829TIA4', 'B007R5YDYA', 'B000ID7QNI', 'B00622AG6S', 'B004SBBD8U']\n",
      "A14NA0W8ESGDSI ['B000FOYMKU', 'B008F537KC', 'B004UKRRD4', 'B008EWNVI4', 'B008WXKYX0']\n",
      "A2JWF9IG8PJAOA ['B005CT56F8', 'B00698WP50', 'B005TUQV0E', 'B004Q0PT3I', 'B00B4QESVQ']\n",
      "A1J75JJ0Q2OEJN ['B00DT04I9W', 'B002M3SOC4', 'B0015L0T3G', 'B0034CL2ZI', 'B004CLYEH8']\n",
      "A10AFVU66A79Y1 ['B002Y6CJJ8', 'B0074FGLUM', 'B0081FLFQE', 'B001PKTR76', 'B000W3V3EM']\n",
      "A3DWO5RJDA430F ['B000VX6XL6', 'B006W8U2MU', 'B007X3VEX4', 'B002RM08RE', 'B0011N17RU']\n",
      "A36K2N527TXXJN ['B00BOHNYTW', 'B00DK2JQOQ', 'B0079UAT0A', 'B002TMRZOQ', 'B000MX48VM']\n",
      "A21T0D2F7SKG5S ['B000FKQ8LA', 'B00006I53X', 'B00006HOAQ', 'B000UMX7FI', 'B00007GQLS']\n",
      "A3CG93783LP0FO ['B000067RT6', 'B002V88HFE', 'B00G4V0QSK', 'B001E1Y5O6', 'B004Q7J4W8']\n",
      "AW5JSQCHC2ZJO ['B000JMJWV2', 'B00139JBU2', 'B008MF3X9K', 'B005SUXGY4', 'B00EOI2SYK']\n",
      "A3FOSLM5G1BO63 ['B009NHWVIA', 'B00JC5Y6WM', 'B0057UUB1G', 'B0034CL2ZI', 'B009WZRAQQ']\n",
      "A1WG97A0EFHYXN ['B000Q85WRC', 'B005LIDU5S', 'B000097O5F', 'B0095VPBM2', 'B001CHQ52W']\n",
      "A2RIXSMGE9VIBG ['B009NHAEXE', 'B00D5T3QK4', 'B000UZCR56', 'B00429NVQA', 'B000FBK3QK']\n",
      "A2HMF8ZR67BNZS ['B002TMRZOQ', 'B001TH7GUA', 'B002WE4HE2', 'B00483WRZ6', 'B000MX48VM']\n",
      "A376OJHLE6SU9Q ['B0043M668G', 'B00HFRWWAM', 'B0000AOWW9', 'B004CLYEDC', 'B008X9Z44M']\n",
      "A1BJOHHLG0D965 ['B00CKAOJA0', 'B004CLYEDC', 'B005FE7URM', 'B001L1H0SC', 'B001E1Y5O6']\n",
      "A253IOATGMT2UP ['B0000BZL1P', 'B007R5YDYA', 'B004MME6SE', 'B000L47AHG', 'B004DOUOI2']\n",
      "A3S5EXYZDEBF3K ['B006EKIQYM', 'B004ELA0SS', 'B00CKAOJA0', 'B009YT6PPC', 'B003WUBIZQ']\n",
      "AE88D7OM7YU99 ['B00CKAOJA0', 'B007PTCFFW', 'B002LEVGMO', 'B003SX0NFI', 'B001S0PWWC']\n",
      "A10ZFE6YE0UHW8 ['B000N99BBC', 'B008EQYRRY', 'B003LVZO8S', 'B001T9CTRS', 'B00829TIEK']\n",
      "A32AK8FOAZEPE2 ['B001U3YIT0', 'B0007LJHVA', 'B004LNXO28', 'B0038KLDPA', 'B000NAXC6G']\n",
      "A28P7V9KI7MXP ['B00AAIPT76', 'B000VZS2EU', 'B002ZIMEMW', 'B0058AH2US', 'B003U7SR0U']\n",
      "A3NCIN6TNL0MGA ['B002FU5QLQ', 'B000MUXJCO', 'B005LS2GPI', 'B001BGGD8A', 'B0002OZXGU']\n",
      "A1BT6TL7UCIC5Y ['B002K9IHGI', 'B002TLTE6Y', 'B009SYZ8OC', 'B00511PS3C', 'B006ZBWV0K']\n",
      "A3CMO216CWOF5N ['B00006IS4X', 'B00006HOLO', 'B002MAPRYU', 'B0015LOWD4', 'B00008AYBF']\n",
      "A2UQK3DAZ8NO2T ['B0009OAFI4', 'B000DZDTKU', 'B00007E7JU', 'B0009GZSSO', 'B000HAOVC6']\n",
      "A1MFPAM9TTRTXN ['B00B4GGW5Q', 'B000O8I474', 'B0065DUJ0C', 'B005YXD4I8', 'B003WGJYCY']\n",
      "A3SVYWA9O1KUQV ['B002M3SOCE', 'B00425S1H8', 'B0012JCZYM', 'B001CB0RSG', 'B0000CE1UO']\n",
      "A25KKXUQQ0OLWB ['B00829THVO', 'B008GGH5HQ', 'B001FA1NFA', 'B004RO9L4Q', 'B00605XASS']\n",
      "ACJT8MUC0LRF0 ['B00FSA8VQ2', 'B0036AWR8E', 'B008MF3X9K', 'B00HZWJGS8', 'B0057UUB1G']\n",
      "A3OZA8HNJM26DC ['B001TUYTZM', 'B0028R3NCU', 'B00FJXVRM8', 'B00834SJNA', 'B0056TYTV6']\n",
      "AY4EXFOO43C3S ['B004GF8TIK', 'B00119T6NQ', 'B0058UUR6E', 'B008ZGKWQI', 'B006Z0Q2SI']\n",
      "A38KK0SZYEH5UD ['B0038OMEQI', 'B00429N18S', 'B002IO2UM2', 'B00DMCVKMU', 'B001BTG3OQ']\n",
      "A3KCKECEO3E2AN ['B002MCZJ78', 'B003VAHYTG', 'B002FB684E', 'B007R8U5R6', 'B004GUT1QO']\n",
      "A3872Y2XH0YDX1 ['B007KEZMX4', 'B000VWKSHM', 'B0036V9AGU', 'B00511PS3C', 'B0028ACYMC']\n",
      "ABIVKBMSIPEDY ['B0034CL2ZI', 'B004N625BO', 'B0009HTB0Y', 'B0039VYN1Y', 'B009LL9VDG']\n",
      "A3QJU4FEN8PQSZ ['B00CD8ADKO', 'B001OI2YNS', 'B007GMPZ9Q', 'B00829THK0', 'B00ER52ES0']\n",
      "A2YRX8J4WM5BRX ['B00CMMG7I8', 'B001TZWNF0', 'B005J2E2US', 'B005DKZTMG', 'B001VEI2KO']\n",
      "A3SOJO7Z7R9WIA ['B002QUZM0U', 'B002WE4HE2', 'B000LWJ1ES', 'B00HPMCNXI', 'B00104XCVO']\n",
      "A2SATO5BNKWY3Y ['B000M2TAN4', 'B003FVVMS0', 'B000V06UHQ', 'B0045JHJSS', 'B004ING996']\n",
      "A2PSC7LUNIDEAH ['B001ELK2NY', 'B003VAK16O', 'B0089E5R0W', 'B002VPDM2A', 'B00395ZQMK']\n",
      "A3E3EQ39FZTZEK ['B001TH7T2U', 'B005PQTYHE', 'B009YCASK2', 'B004FJV8EE', 'B00065L5TE']\n",
      "A1ASWDAEDTTY5I ['B001F7AJKI', 'B000EXS1BS', 'B00GWBBWOY', 'B0092THNDW', 'B000MFG44Y']\n",
      "A3MMR2WDKAK0PA ['B006ZH0KVG', 'B005O81U9S', 'B001I45T9O', 'B002WN30IM', 'B003B20F5E']\n",
      "A2L42QEWR77PKZ ['B001QUA6RA', 'B0002D6QJO', 'B0027IVMBY', 'B001FN3ZRQ', 'B0041Q38NU']\n",
      "AT6CZDCP4TRGA ['B009NB8WR0', 'B0000511U7', 'B002WE4HE2', 'B005T3GPXO', 'B0040RDT0M']\n",
      "A3OA4DV4L81N1D ['B002WE0QN8', 'B002WE4HE2', 'B002JQNXZC', 'B001CCAISE', 'B006JINHYS']\n",
      "A1C82BC5GNABOA ['B003L1ZYZ6', 'B00009XVCZ', 'B0013FRNKG', 'B004LEAYXY', 'B000AZ57M6']\n",
      "A2ZRMCRLDSUX6R ['B000N99BBC', 'B00829TIA4', 'B000067RT6', 'B001GTT0VO', 'B0032HM6JG']\n",
      "A1NJHKPHD4YWZV ['B0019CSVMW', 'B004XNLR16', 'B002R0JJYO', 'B003QLE4M0', 'B00158OJ9O']\n",
      "A2I2KPNJDQ9SL0 ['B003ES5ZUU', 'B0000TSJVI', 'B000QZ001I', 'B002HJXGFS', 'B0035JL35O']\n",
      "A18S2VGUH9SCV5 ['B003ES5ZUU', 'B006LW0W5Y', 'B0001DBEM4', 'B005DIQ2OC', 'B005NGKR54']\n",
      "A17V9XL4CWTQ6G ['B001ENOZY4', 'B0082E9K7U', 'B0099XGZXA', 'B00A81SXHI', 'B00IMYMG12']\n",
      "A2Y739CRM15WDL ['B001T9NUJE', 'B000TKHGL2', 'B001HSOFI2', 'B0016BVKAQ', 'B0007XXU3E']\n",
      "A3VI2VETB90ZG5 ['B00IVFDZBC', 'B004CLYEFK', 'B002YU83YO', 'B003CFATT2', 'B004CLYEH8']\n",
      "A1PVX61PRPVX27 ['B000U0S304', 'B002FA5WE2', 'B004SP0WAQ', 'B007TYUUPK', 'B00009RA60']\n",
      "A2JRDFIGWTX50J ['B0002ZW5W4', 'B0009HGVZW', 'B0002JY6TK', 'B0002QWU3W', 'B000AY0IT4']\n",
      "A3G007LQX6KGOD ['B00834SJSK', 'B00EOI2SR2', 'B00829THK0', 'B002MCZJ78', 'B000O8WE66']\n",
      "A37CEYB95LK6R6 ['B00009XVCZ', 'B00429N18S', 'B000CRFOMK', 'B000067RT6', 'B000P0R6KW']\n",
      "A21I62TCDL4754 ['B000LRMS66', 'B007BJHETS', 'B00127VAW2', 'B008OZF9SQ', 'B0018DQYQ2']\n",
      "A3U029B8Z5WGI2 ['B007KEZMX4', 'B004Q3R9AQ', 'B000ZSUQ9M', 'B000NDBRJC', 'B0092ML8QW']\n",
      "A2MOD50IHEDH3G ['B006ZH0KVG', 'B0019EHU8G', 'B0002IWC9C', 'B00DR0C96S', 'B0035FZJKI']\n",
      "A2AX2UGB167J31 ['B000N99BBC', 'B000EVSLRO', 'B004C9P9TM', 'B0019WDZUU', 'B00CIY0KOM']\n",
      "A15J9K7O10A3M6 ['B00969J3EU', 'B009WU5XUG', 'B005IA843W', 'B004SBBD8U', 'B00AVBDGHM']\n",
      "A1VLE2SH9J8WYS ['B001MSU1FS', 'B005FYNSPK', 'B002M3SOBU', 'B0018YHZHI', 'B001QWRUZY']\n",
      "A1QOIHVQC5XWCJ ['B0015AE4CE', 'B00126V8WU', 'B003N7NTX2', 'B004H912FC', 'B001TKE25E']\n",
      "A1NRMTQ5SZPZA ['B005J31BCY', 'B008MWBY6W', 'B00CDS9HTM', 'B005DKIID8', 'B00139W0XM']\n",
      "A32482Z7XIKDQX ['B00GTGETFG', 'B00A9NE84C', 'B00009XVCZ', 'B000S5Q9CA', 'B009NHAEXE']\n",
      "A1OH33MR6K4G5J ['B000LTNIZE', 'B0074BW614', 'B00IAAALFG', 'B00ATF6O60', 'B002WVMHDI']\n",
      "A11R5VW7IM6ISQ ['B001TH7GUU', 'B006QB1RPY', 'B002VPE1WK', 'B001SJVU24', 'B0001FTVE0']\n",
      "AYNAH993VDECT ['B00CD8ADKO', 'B009LL9VDG', 'B004SBBD8U', 'B0093HAWZY', 'B00F6E8OUS']\n",
      "A2TKWMX4563NR6 ['B006W8U2MU', 'B000S5Q9CA', 'B003LR7ME6', 'B009NHAEXE', 'B00A35WYBA']\n",
      "A2L90SGUP36KGA ['B00029U1DK', 'B000L47AHG', 'B004GF8TIK', 'B002ZIMEMW', 'B0064FS7HI']\n",
      "A1PM7HH4F77NEH ['B00080G0BK', 'B001E5CDSW', 'B000A6NUU6', 'B000A36XZS', 'B0028N78HA']\n",
      "A20DZX38KRBIT8 ['B000JO7PIM', 'B001U0OGQS', 'B00BGA9WK2', 'B000EPJL1A', 'B000J47W12']\n",
      "A3D2VIUT2HWP0Z ['B0063E3ZPO', 'B00834SJSK', 'B000204SWE', 'B000SDW84K', 'B001NJ3H0C']\n",
      "A1BBYSMT9YCODI ['B00A83I8G2', 'B00IVPU786', 'B00CF7E0R0', 'B004SBBD1C', 'B00GDL2PPI']\n",
      "A3UW23DBF2KHWC ['B0082E9K7U', 'B0002JY712', 'B00BQHD4B8', 'B00F3F0EIU', 'B00008NG7N']\n",
      "A17BUUBOU0598B ['B001DJ64D4', 'B004CLYEFK', 'B000JMJWV2', 'B0039BPG1K', 'B0013WNVU0']\n",
      "AC6Z7DP1Z5GHD ['B001E3XLZS', 'B002UVNW5W', 'B0041EL7JY', 'B00007EDZG', 'B002CMLDT6']\n",
      "AOQLV2LSI9B2W ['B001TZWNF0', 'B001F7AHOG', 'B004E10KFG', 'B002S3YL3Y', 'B003TFEHMU']\n",
      "A370XYLIZCSK1Y ['B001QUA6RA', 'B003FVJYF8', 'B00077AA5Q', 'B001MSU1FS', 'B00F0DD0I6']\n",
      "ABVYGB2TKBO8F ['B00BOHNYU6', 'B000BOLHH0', 'B002WE6D44', 'B0007NWL70', 'B003HC8V9A']\n",
      "A1TQZUSOU22E9M ['B00HZWJGS8', 'B00FPKDPZC', 'B0062XB9FE', 'B0031RG2JC', 'B001OI2YNS']\n",
      "A1VFX417XDNWIU ['B00B99JU5M', 'B002TLTE6O', 'B007NSR0AK', 'B0055QZ216', 'B007EM7NES']\n",
      "AVTJEWTCJ3PBE ['B0001GAMQK', 'B004BBC2RS', 'B003LVZO92', 'B003A4H2LI', 'B0002GRUV4']\n",
      "A3E9O1VNJ3U324 ['B0019EHU8G', 'B003JH7KT0', 'B0017KZ8Y0', 'B000QBPUKS', 'B004Z8VCEG']\n",
      "A1I96OYAUJ3HQE ['B002SSL920', 'B0083Z6R4W', 'B007NLSGOQ', 'B000GX484U', 'B003K1EYM6']\n",
      "A2ROZACRW31PC2 ['B001QUA6RA', 'B005LIDU5S', 'B0041RSDWK', 'B003WUX6PG', 'B004MU8VCS']\n",
      "A2HKUM9OEBQKDW ['B00609B3J2', 'B000BSN4UY', 'B00029U1DK', 'B00B4GGW5Q', 'B001E1Y5O6']\n",
      "A9DYWY9VOSP1P ['B007PJ4P4G', 'B000H0QIDG', 'B002Y6CJJ8', 'B004J3ZV62', 'B000CP4ML6']\n",
      "A3D1TZH619NKHN ['B001TH7GSW', 'B00HVT27B8', 'B00834SJSK', 'B000Q82PIQ', 'B0093HMKVI']\n",
      "AW6A4PPENVZY3 ['B005LDLP8W', 'B000VDCT3C', 'B000068O3C', 'B00B7E1D7W', 'B001G5ZTLS']\n",
      "A3V6Z4RCDGRC44 ['B000M17AVO', 'B0007CZ70Y', 'B001FA1NZK', 'B006C248BC', 'B0030XXH1S']\n",
      "A3VONQL7YW8UPM ['B008LCYIEI', 'B007WTAJTO', 'B0074BW614', 'B005FN5DJA', 'B0043EV20Q']\n",
      "A1R6RKKE44AYA8 ['B0043WJRRS', 'B000QUUFRW', 'B003WUBIZQ', 'B002IKLJU0', 'B00BRI4YM4']\n",
      "A2WJ5XSE4I9F55 ['B007WTAJTO', 'B002W2Y8PC', 'B008M9U3BM', 'B005IQSSJG', 'B0032JRRXO']\n",
      "A3V5F050GVZ56Q ['B0052SCU8U', 'B002V88HFE', 'B00DK2JQOQ', 'B00DTZYHX4', 'B0082E9K7U']\n",
      "AOMEH9W6LHC4S ['B002VPE1X4', 'B007KZQM8W', 'B002TLTE6Y', 'B002TLTE7I', 'B003X7TRWE']\n",
      "A24P4E3RJ6AX94 ['B003XM1WE0', 'B002V88HFE', 'B00DTZYHX4', 'B001S4OTS6', 'B000067RT6']\n",
      "A2NP9CGUSFP22E ['B0052SCU8U', 'B0036Q7MV0', 'B00081A2KY', 'B007I5JT4S', 'B000F9YN22']\n",
      "A27M75LRSJ788H ['B007M506WS', 'B002RCNX8K', 'B002NO7PWC', 'B009SYZ8OC', 'B00007IFED']\n",
      "A30UP2KKD5IQEP ['B001TH7GSW', 'B005KAK2FI', 'B003ES5ZUU', 'B000TKHBDK', 'B00829THK0']\n",
      "A36MP37DITBU6F ['B004CLYEFK', 'B0034CL2ZI', 'B00D6XSRL2', 'B004GUT1QO', 'B008ULPAT2']\n",
      "A35KBAQ4VBNQ6L ['B000QUUFRW', 'B001C271MA', 'B0079M711S', 'B00A40GPM8', 'B00BGGDVOO']\n",
      "A15TABNGK6L4N3 ['B001ISKNKA', 'B003HFCDLY', 'B004Q3R9AQ', 'B001N9X4CS', 'B004CRSM4I']\n",
      "A3N4VTNFPMTHEF ['B004CLYE8C', 'B002B3YCQM', 'B002HWRJY4', 'B005MIDB7E', 'B00DW374W4']\n",
      "A2AF0NOCM71J0B ['B002V8C3W2', 'B00BW6KCTU', 'B00CB2F65O', 'B007WTAJTO', 'B004CLYEDC']\n",
      "A3L9E0YI7C5G0W ['B000QUUFRW', 'B003FVVMS0', 'B00DK2JQOQ', 'B004C9P9TM', 'B0012MMW7E']\n",
      "AUUV3XDYB16X5 ['B005LFT3GG', 'B0016120M8', 'B00AAU54TW', 'B004T1YAEI', 'B009A4Q1WI']\n",
      "A3BNMHRW2R35LK ['B009OBCAW2', 'B00CAAJDP6', 'B00D695GS8', 'B004CLYEDC', 'B002K9IHGI']\n",
      "AAQ9NJ480N9W5 ['B0043WJRRS', 'B000QUUFRW', 'B000NP3DJW', 'B000MX48VM', 'B00080O0UI']\n",
      "A2OWR5G2OAQF7C ['B00829THVO', 'B001UEBN42', 'B003SX0NG2', 'B004SCSV2U', 'B003TXRTNG']\n",
      "A36A1ZYZH8568P ['B00077AA5Q', 'B002V88HFE', 'B002WE4HE2', 'B000AYJDD6', 'B004Q3R9AQ']\n",
      "A1VEELTKS8NLZB ['B005HMBQR2', 'B00BGGDVOO', 'B00007E7C8', 'B00CSMYBFS', 'B004ANHC6S']\n",
      "AYOMAHLWRQHUG ['B009YT6PPC', 'B002K9IHGI', 'B005IHAIEI', 'B00B3PDH5G', 'B004Q3R9B0']\n",
      "A386LG0LRWKJZP ['B001QUA6RA', 'B000BV8604', 'B009H0XQQY', 'B001EYV690', 'B000TYL27M']\n",
      "A353U0L2HAMSHV ['B002TLTE6Y', 'B00316263Y', 'B0043M668G', 'B001TOD7ME', 'B000JE7GPY']\n",
      "A35HUT8MQMT21L ['B0012Y2LLE', 'B000IF51UQ', 'B000CKVOOY', 'B005LZR0DO', 'B00DUN2PBQ']\n",
      "AATWFX0ZZSE6C ['B002EVP85K', 'B000RZNI4S', 'B000CSWCQA', 'B00358PRCA', 'B0002BEQJ8']\n",
      "A22S7D0LP8GRDH ['B002MZUNXU', 'B000EGI7V4', 'B00AAHT8JC', 'B00GA55OGE', 'B009E6J1BU']\n",
      "A2HNH4PKE5DPSI ['B00829THVO', 'B0012Y6HC8', 'B001OI2YNS', 'B000FQ2JLW', 'B000JO7RVC']\n",
      "A204K1OFE8OB9Y ['B00110ENQ0', 'B004Q21I4U', 'B0007U00X0', 'B001B7H39W', 'B002T45WXU']\n",
      "A1CYTBE7LLUQ8F ['B00622AG6S', 'B000MP831G', 'B0002IWC9C', 'B0001G6U52', 'B001EZRJZE']\n",
      "A2VJ5ALN1BIV3B ['B007WTAJTO', 'B002WE4HE2', 'B000YBH4YU', 'B002HWRJY4', 'B0012845AA']\n",
      "A4U27URFECK1U ['B000N99BBC', 'B00BOHNYU6', 'B004CLYEFK', 'B00KFAGCUM', 'B005A0B3FG']\n",
      "A274MXTX3DYLUV ['B00005N5X2', 'B005NGQWL2', 'B007YXA5TC', 'B000SDZ0K4', 'B00488M4TU']\n",
      "A3MQAQT8C6D1I7 ['B0012GK3MQ', 'B000N99BBC', 'B00006RVPW', 'B000092TT0', 'B0000CE1UO']\n",
      "A11IXJ8M1JO296 ['B009SYZ8OC', 'B004LSNF04', 'B00007KDVK', 'B004QGXOOI', 'B000A0CV9S']\n",
      "A1IBKN1GXYJ3K4 ['B009NHWVIA', 'B00829THK0', 'B0002DG9XW', 'B004I44EXI', 'B009CQNPYQ']\n",
      "A2XAKGRUHIE2ZA ['B000CRFOMK', 'B001V9LA44', 'B001PIBE8I', 'B0002SQ2P2', 'B003EN2VJI']\n",
      "A145B8OHVNNFAJ ['B0052SCU8U', 'B003ES5ZUU', 'B00G4UQ6U8', 'B00EZ9XG5I', 'B00829TIA4']\n",
      "A1BC62X6HZJGZR ['B000QUUFRW', 'B00BQ4F9ZA', 'B005DKZTMG', 'B0067I4Z6O', 'B00004Z5P4']\n",
      "A2IIAQ7VVAHXTD ['B001TH7T2U', 'B000VX6XL6', 'B003FVVMS0', 'B00894YP00', 'B000MDJU06']\n",
      "A2JMJVNTBL7K7E ['B008LTBITY', 'B00DQKQ7U8', 'B005L38VPC', 'B00DIOALPE', 'B00DSGLM50']\n",
      "A1RPTVW5VEOSI ['B004CLYEH8', 'B00946XHI8', 'B001TZWNF0', 'B001ISKNKA', 'B001QTXL82']\n",
      "A365PBEOWM7EI7 ['B001TH7GUA', 'B001MSU1FS', 'B001RNOHDU', 'B009NHAF5G', 'B0043CG3QG']\n",
      "A2F92M62KN324B ['B005DSPLCQ', 'B002YIG9AQ', 'B007I5JT4S', 'B0064VP70W', 'B004CRSM4I']\n",
      "ABQWMANK4AR63 ['B008ALAHA4', 'B002WE6D44', 'B004RORMF6', 'B00DW374W4', 'B002YU83YO']\n",
      "A3E049PVKG7NDK ['B00DTPYRTI', 'B0031ESKJA', 'B007R3Z44U', 'B00FX9WJNO', 'B004PGMFG2']\n",
      "A215WH6RUDUCMP ['B009NHWVIA', 'B0082E9K7U', 'B00EDCF0MY', 'B008MF3X9K', 'B0079UAT0A']\n",
      "AGATRDOFW48DK ['B000KZ70JE', 'B0013WM0BQ', 'B000JJM7S0', 'B005MLAHYG', 'B001CK9760']\n",
      "A3VC74TJ06WDDD ['B000O5N5AI', 'B000FAKUE6', 'B000O8I474', 'B000V0BIWI', 'B004CRSM4I']\n",
      "AYMD77ITD15PT ['B004CLYE8C', 'B00BGA9WK2', 'B00006B9H8', 'B0002A9RFM', 'B00871SR68']\n",
      "A3P4T1DKRWTL36 ['B009SYZ8OC', 'B006H06TVG', 'B007SVHFXO', 'B005TUQV0E', 'B003UE52ME']\n",
      "A2IT7S59GSASN7 ['B004CLYEDC', 'B003ES5ZUU', 'B00D5Q75RC', 'B00352LSYW', 'B0002ZAILY']\n",
      "A1BXVZSQOJE6UE ['B0062XB9FE', 'B00117LECY', 'B007SHJIO2', 'B0092KRAVQ', 'B00FSA8VQ2']\n",
      "A3MFORLOKIOEQY ['B00HVT27B8', 'B003SGCO3E', 'B003L1ZYZ6', 'B000Y634SU', 'B007GNN0AG']\n",
      "A2WF58BAWLVI95 ['B0075SUK14', 'B00DIFIM36', 'B0002GDIII', 'B00CM0XHNS', 'B00F6AVFK8']\n",
      "A2OKRGHIYTBQ6P ['B004ELA0SS', 'B005IMFX2K', 'B002NO7PWC', 'B003MTTJOY', 'B005GGTTZ0']\n",
      "A16WP8NTPYB0ZM ['B006Z0Q2SI', 'B000LP4RMG', 'B0092HP3GS', 'B000BSJFJS']\n",
      "A25C2M3QF9G7OQ ['B00004XOM3', 'B002WE6D44', 'B00CHH0JF0', 'B009UNZ5WQ', 'B001UI2FPE']\n",
      "A18FLOC8YQY0P8 ['B006W8U2MU', 'B005WXQO3W', 'B001FA09WI', 'B00BP5KOPA', 'B00ACC0P0Q']\n",
      "A39K52QDP4C3ZS ['B004RORMF6', 'B0058AH2US', 'B000FBK3QK', 'B003A7C9WM', 'B005LS2GPI']\n",
      "A33HIV8RXRDM88 ['B0000BZL1P', 'B00005LEN4', 'B002WE4HE2', 'B009YT6PPC', 'B000M3ILF6']\n",
      "A3R33KMESG0XGQ ['B000VX6XL6', 'B000IF51UQ', 'B002HWRJBC', 'B00019OWU4', 'B00G024X32']\n",
      "A1YEPFLLH42OU1 ['B0052SCU8U', 'B00BOHNYU6', 'B0034CL2ZI', 'B0043WJRRS', 'B007PTCFFW']\n",
      "A11LNPG39A2ZV4 ['B0041OSAZ8', 'B00434OWDA', 'B001PN37LA', 'B004H3XNB4', 'B004J13VW0']\n",
      "A2NU9H8H5MJZSL ['B0002AHRVI', 'B003UE52ME', 'B000083CUA', 'B000WG6XW6', 'B00B25P27S']\n",
      "A1KKE6VX8VPWZK ['B002TLTE6Y', 'B0015AARJI', 'B001FWBUUG', 'B0041OUA38', 'B001FN14RE']\n",
      "A291XTI6NO7DEG ['B0002O77T6', 'B0039SM0AS', 'B000EMWBT2', 'B000ANRP82', 'B0064YWOQY']\n",
      "A3TA1UJWRJF9NC ['B001B8EUEW', 'B0056BPUQC', 'B0015ACUKC', 'B00008VFBE', 'B0016IGN2Y']\n",
      "ARIDN94LOCQFD ['B000JE7GPY', 'B007WTAJTO', 'B00829TIA4', 'B00B588HY2', 'B000BQ7GW8']\n",
      "A3T4OHEAHOJ700 ['B004FHO5Y6', 'B004ULOZPQ', 'B0011Z2402', 'B0007LJHVA', 'B006ZZ2V9M']\n",
      "AFHYEO3Y1IIDD ['B004TS2AP2', 'B003LVZO8S', 'B00006HMPK', 'B004N625B4', 'B002UEC3AY']\n",
      "A16HXVNPU5TCGE ['B000YB862E', 'B0036NMQ7S', 'B00DZYEXPQ', 'B004N627KS', 'B0038ND4A4']\n",
      "A1TR1R2QKWRSRA ['B004CLYEDC', 'B00829THEG', 'B009X01C64', 'B004CLYEH8', 'B00DR0C96S']\n",
      "A1PEXTGNF36I1Q ['B001TH7T2U', 'B002K4E7TE', 'B0014Z29OU', 'B00139VKU6', 'B00454YCWY']\n",
      "A1L0P1ZP5FD6EC ['B0000BZL5A', 'B008GVM9K4', 'B005003WAA', 'B00BC4SJEC', 'B00FA4Y7N2']\n",
      "A1ZBEIL78MLR9Z ['B001QTXL82', 'B008OHNZI0', 'B00139JBU2', 'B003TXRTNG', 'B003YKG2UK']\n",
      "ABMN74TBW5UWE ['B00009XVCZ', 'B004HREPCQ', 'B003EWGD1Q', 'B004BFZHO4', 'B0041MY32Y']\n",
      "A4UGMKUSX9XHI ['B0036Q7MV0', 'B00COF7DGS', 'B003DZJQQI', 'B001KELVS0', 'B0002YE6EU']\n",
      "A2NT3W1F1XYBFZ ['B004HO59M4', 'B0049WBZEK', 'B001FA0AM2', 'B002NEGTTM', 'B00CFCTDD6']\n",
      "A3IK2VCQ007CJ ['B00429N18S', 'B006UMM1PO', 'B004ZMVQRA', 'B00IRRDHUI', 'B0058AH2US']\n",
      "AHS6PX6H22WW1 ['B001OC6DCW', 'B00JC5Y6WM', 'B00006HSYC', 'B00007FGU7', 'B007ILBJAY']\n",
      "A37D1ZP8GBHE38 ['B00BOHNYU6', 'B0043M668G', 'B001OI2Z4Q', 'B00834SJNA', 'B0015DYMVO']\n",
      "A2UKE7GIVC7XFW ['B001TOD7ME', 'B009IKCKME', 'B00KFAGCUM', 'B004FHO5Y6', 'B00FRMAOIO']\n",
      "AXP8GO5Q3AXSA ['B003ES5ZUU', 'B000204SWE', 'B000N99BBC', 'B0093H4WT6', 'B00AE0IEHM']\n",
      "A3JNBO7H2SPL44 ['B003ES5ZUU', 'B0079MX4Q4', 'B005GGTTZ0', 'B004C9P9TM', 'B003V7BJ9U']\n",
      "A28621TSIR5EOG ['B004Q3R9AQ', 'B000TXEE14', 'B007WTAJTO', 'B002V88HFE', 'B000E65DG6']\n",
      "A1TDR7Y90SVCHL ['B000EVSLRO', 'B000F9YN22', 'B003N8GVUY', 'B003HFCDLY', 'B002JQNXZC']\n",
      "AV10H5K6VPQIJ ['B000HPV3RW', 'B00316263Y', 'B00029U1DK', 'B001TOD7ME', 'B0001VWHH2']\n",
      "A1LYMYNURB9EWW ['B000N99BBC', 'B003CFATT2', 'B002DUCMQU', 'B002FU5QMK', 'B00ISIG690']\n",
      "A1VGXHHR08G044 ['B005EOWBKE', 'B001F51G16', 'B000JMJWV2', 'B00B7X2OTY', 'B000I5KSNQ']\n",
      "A1IU7S4HCK1XK0 ['B00JC5Y6WM', 'B00BW6KCTU', 'B003NR57BY', 'B003S5SOLG', 'B002KETE24']\n",
      "A178M2AHNWQZB0 ['B000652M6Y', 'B004AX6Z3Y', 'B009DMFOVG', 'B007IV7KRU', 'B0007Y794O']\n",
      "A2NSMJVQY0RV9S ['B000NP3DJW', 'B000QUUFRW', 'B002V88HFE', 'B004FA8NOQ', 'B00009R6WY']\n",
      "AG5WSXI52FPKH ['B0058UUR6E', 'B004W2JKWG', 'B0088PUEPK', 'B004EBUXHQ', 'B000LRMR26']\n",
      "A2PY5ED630H0QJ ['B001QUA6RA', 'B006EKIQYM', 'B008DWH00K', 'B00009XVCZ', 'B008U5ZM6E']\n",
      "A20WUUD9EDWY4N ['B005LFT3GG', 'B007R9M6PO', 'B0064P5I1G', 'B00004ZCJE', 'B003QRX4PC']\n",
      "A1UCAVBNJUZMPR ['B0002J2P2A', 'B0084OIY0M', 'B00DBA9YD0', 'B0017JY5FE', 'B002J9HBIO']\n",
      "A1U5NWJOYH2QQH ['B00004RC2D', 'B001JTQUYG', 'B0007Y79AI', 'B0007LJHVA', 'B001AZUTCS']\n",
      "A3JAH5WW61N2EK ['B001EYV9TM', 'B001CCAISE', 'B0016P5ASK', 'B008TYKEWS', 'B00B2166BS']\n",
      "A2DXENZNO2JT4F ['B00BOHNYTW', 'B007PTCFFW', 'B00CI3BIWQ', 'B009F7IBZK', 'B007ABIY4Q']\n",
      "ARXU3FESTWMJJ ['B00D6XW62I', 'B00390JT1O', 'B000053HC5', 'B001P05NBA', 'B00003CWDG']\n",
      "A3V6QSTG2T9MIO ['B006W8U2MU', 'B004CLYEDC', 'B00840353W', 'B001D60LG8', 'B00067LYFW']\n",
      "A2JCJJNY43QQIV ['B001HSOFI2', 'B005SNPTRS', 'B0015EWMX8', 'B00JP12170', 'B000ETY3LO']\n",
      "A1CMD08Z49PGKQ ['B004286VMW', 'B004XC6GJ0', 'B007R5YDYA', 'B00483WRZ6', 'B0048IATQ0']\n",
      "A24J2Y1O22JYZX ['B00077AA5Q', 'B00AEMGGU2', 'B0017I1PVC', 'B001HBHLEY', 'B004LNOSQO']\n",
      "A2WYF4POBUXL2O ['B001ENW61I', 'B000BYCKU8', 'B0000BZLBA', 'B0013AV4M4', 'B000CNPK3M']\n",
      "ABMNX856X89CS ['B00IVFDZBC', 'B001FWBUUG', 'B001VZ1W5U', 'B0079TOI8K', 'B008DWCRQW']\n",
      "A2TMFC9O3ZCNKE ['B003ES5ZUU', 'B00609B3J2', 'B001W28L2Y', 'B002S53LJ2', 'B005PAINXQ']\n",
      "A27QXQQOLAMRRR ['B003L1ZYZ6', 'B00HVT27B8', 'B002K9IHGI', 'B001TUYTZM', 'B00009MK5M']\n",
      "A16SRDVPBXN69C ['B00007GQLS', 'B000YBH4YU', 'B000FKQ8LA', 'B001TIHVHC', 'B0084FM5JC']\n",
      "ACSX5AIZE3MJ9 ['B004CLYEDC', 'B000ZSUQ9M', 'B00EHZYWGM', 'B00829THK0', 'B0055MBQOM']\n",
      "AEN44U6T9R93 ['B002KETE24', 'B007YKUWN4', 'B0007TOR08', 'B002BFA91C', 'B0014C0IAK']\n",
      "A247L282PID4PE ['B003NUIK4M', 'B002IUG14O', 'B00A35WYBA', 'B0037U95U6', 'B0046S54GC']\n",
      "AW6FQE5QRF2LM ['B006W8U2MU', 'B009USAJCC', 'B00APCMMDG', 'B003Z4G3I6', 'B008UG6GCC']\n",
      "A22I55P15NSAOX ['B00COF7DGS', 'B004BDOGL6', 'B002TLTE6O', 'B001TOD7ME', 'B000EN8A7S']\n",
      "A19HT7YC1UW3D6 ['B002WE6D44', 'B004V4IWHY', 'B000HPV3RW', 'B003ZYF3M8', 'B00632SOD4']\n",
      "A2RIL2NXHE00AQ ['B001J8BPYM', 'B000UMX7FI', 'B003VS9UP4', 'B00698WP50', 'B000SB9K5W']\n",
      "A2SZLNSI5KOQJT ['B00HWMPRKM', 'B003WJR694', 'B002SZEOLG', 'B004H8FNBC', 'B006DEBYWU']\n",
      "A3RMEU4GNP60BM ['B0051A8TG6', 'B00DR0C96S', 'B0077CR5RK', 'B0058VIWTM', 'B004SBI2MU']\n",
      "A3IJL9A50KVVZ1 ['B007WTAJTO', 'B00AQUMZRA', 'B002NEGTTW', 'B002QAUN2M', 'B00068YUN4']\n",
      "A3977M5S0GIG5H ['B000H4CLXS', 'B002V88HFE', 'B000J47W12', 'B000BTL0OA', 'B001FWBUUG']\n",
      "AY3D7DG5L5WCK ['B004CLYE8C', 'B008X9Z8NE', 'B00BWHILCY', 'B0061HMRA2', 'B008CXTX7S']\n",
      "A3L6L5O89JTX2T ['B004W81AI2', 'B005HUH88K', 'B000N254LU', 'B00328HR7G', 'B003LRY9Q0']\n",
      "A19UTUEBWKIZFT ['B00BOHNYU6', 'B003VAHYNC', 'B004CLYEDC', 'B001GIPSA2', 'B004CLYEFK']\n",
      "ASJSX783R5HTZ ['B001BTCSI6', 'B00003CWDG', 'B002VPE1WK', 'B002HWRJY4', 'B001GCVA0U']\n",
      "A38Z6QG6988WS7 ['B001TH7GSW', 'B003ES5ZUU', 'B000VX6XL6', 'B005KSAG3S', 'B005VFG06W']\n",
      "A2PL06HW6KZH2 ['B001E1Y5O6', 'B006W8U2MU', 'B008EQYRRY', 'B003LSTD38', 'B0009Y7APU']\n",
      "A3EXWV8FNSSFL6 ['B00006I53X', 'B001UI2FPE', 'B000EXRSVM', 'B0000BZL1P', 'B005IMFX2K']\n",
      "A3KTWUXXB8KKC7 ['B000RZQZM0', 'B006DDT6JO', 'B000EWHH7I', 'B000EDK8V4', 'B00063G0BO']\n",
      "A16QODENBJVUI1 ['B00EO302SO', 'B00DQZRKY0', 'B00829TIA4', 'B000065BP9', 'B002FU5QMA']\n",
      "ANXEW7IDYDJEH ['B000S5Q9CA', 'B00HVT27B8', 'B00GTGETFG', 'B006W8U2MU', 'B008F4NL04']\n",
      "A2W9GX82SLKROQ ['B001TH7T2U', 'B00007GQLS', 'B00004XOM3', 'B001NTFAOS', 'B004Q3R9B0']\n",
      "A32JCI4AK2JTTG ['B00007IFED', 'B000F0ELOG', 'B003EEMDMC', 'B00AF22NTY', 'B005EIGUD4']\n",
      "A3077MQTAKOVFZ ['B0088PUEPK', 'B003ES5ZUU', 'B001F7AHOG', 'B0042A8CW2', 'B005HSDLCO']\n",
      "A3TNM3C9ENUCFW ['B00FPKDPZC', 'B007PTCFFW', 'B0038KN114', 'B001DJ7Y2O', 'B008X1BV2Y']\n"
     ]
    },
    {
     "name": "stdout",
     "output_type": "stream",
     "text": [
      "A54S9CIUV5VNB ['B001TH7T2U', 'B00429N18S', 'B003XM1WE0', 'B00APCMMDG', 'B000RZQZM0']\n",
      "A2BUQ240COLAOP ['B007SVHFXO', 'B0025PKFUI', 'B005CFLMNC', 'B0055CL5XE', 'B000MPDT06']\n",
      "A100UD67AHFODS ['B005PQTYHE', 'B000Q8UAWY', 'B00108UNEY', 'B0071BTJPI', 'B002NU5S02']\n",
      "A3FEGTOLCWXSV4 ['B008EQZ25K', 'B003ES5ZUU', 'B005J31BCO', 'B003ZSHNGS', 'B000AZ57M6']\n",
      "A1RL1OTV8IJMVD ['B00D6XW62I', 'B005DQG5SC', 'B005KFONIU', 'B004CLYEFK', 'B0036RFGKS']\n",
      "A3R1GJY2MY8041 ['B000QUUFRW', 'B000GHD73Y', 'B00BFDHV9E', 'B00006IW1X', 'B0056DV0L4']\n",
      "A3QQCEQ33O0GJU ['B001CY0P7G', 'B000O8I474', 'B004Q81CKY', 'B004ALYGI2', 'B004SUO068']\n",
      "A1C5TCCR2IGKBU ['B0019EHU8G', 'B001HSOFI2', 'B0002SAE56', 'B004TJ6JH6', 'B000FJEZ0C']\n",
      "A2MSBIA18RXYQC ['B005GREK8K', 'B00719CH0O', 'B001EUG3II', 'B00JLADOGW', 'B003LT8OPU']\n",
      "AZOK5STV85FBJ ['B000O5N5AI', 'B00068YUN4', 'B000GL3MOY', 'B00104XCVO', 'B000ERAOMS']\n",
      "A38C12950IM24P ['B00G4UQ6U8', 'B00DTZYHX4', 'B0074BW614', 'B0071NWYP8', 'B005GI18EI']\n",
      "A22MANL4US4RMY ['B0052SCU8U', 'B00FJRS5BA', 'B0036Q7MV0', 'B004YKXGIK', 'B00123XZNI']\n",
      "A1EKSETIBS9ETQ ['B000M17AVO', 'B00005LEN4', 'B00BGA9WK2', 'B00FRDUZXM', 'B0007U00XU']\n",
      "AP53MVRC8ZEW2 ['B000VX6XL6', 'B002NEGTTW', 'B005FYNSPK', 'B006EKIQYM', 'B002NO7PWC']\n",
      "ALRCAGJOJ9583 ['B009SYZ8OC', 'B0015AE4CE', 'B0036Q7MV0', 'B00CD8ADKO', 'B00923G46U']\n",
      "AEFTIUQHSVUFX ['B0000BZL1P', 'B007WTAJTO', 'B001CCAISE', 'B0002Y5WZM', 'B009B0MZ8U']\n",
      "A2MCRCK1V61FWQ ['B0002Y5WZM', 'B00862522A', 'B0042RUSY0', 'B003INFE16', 'B000219896']\n",
      "A35Q0RBM3YNQNF ['B004CLYE8C', 'B00G4UQ6U8', 'B0002LEMWE', 'B00FF8ZRR8', 'B00310PJM0']\n",
      "A3AG5QAT8L0I3R ['B0058SRNZ4', 'B00D1GYNT4', 'B00D96LZ6K', 'B007LLYAIO', 'B000WGSITC']\n",
      "A185O1MX1RP964 ['B005GGTTZ0', 'B008HK50ZA', 'B000EUFJXE', 'B00IA9LQK6', 'B007136BMA']\n",
      "A1XB7JGJ459ERP ['B000CRFOMK', 'B0049SCB2Y', 'B00CTODKIO', 'B009SYZ8OC', 'B0015DYMVO']\n",
      "A3PU3EDJ2FG1AW ['B004THA2OE', 'B001MSVPM6', 'B001NJ0WCS', 'B004FLL58Q', 'B0072B5DZC']\n",
      "A9ELHLPXF7JKD ['B000WOIFO2', 'B0034CL2ZI', 'B000N99BBC', 'B00829THEG', 'B0025EWXEU']\n",
      "A212MDP6K4VJS5 ['B001OC6DCW', 'B004LSNF04', 'B003ES5ZUU', 'B002QEBMAK', 'B00101XVH2']\n",
      "A3BKNXX8QFIXIV ['B002VPE1X4', 'B001TH7GSW', 'B004SKBJ5S', 'B000MF4N42', 'B001AGM2VI']\n",
      "A2V1J3JT5OOZFO ['B00426C57O', 'B001423GZO', 'B001FWBUUG', 'B002E4UWWQ', 'B00FAYL1YU']\n",
      "A2NN1KIYEM2SKS ['B00BQ4F9ZA', 'B000MX48VM', 'B000S5Q9CA', 'B007WTAJTO', 'B005FYNSPK']\n",
      "A1OO9N1MRNQ7K0 ['B003BKW2K2', 'B005FYNSPK', 'B0030F5ND6', 'B003XMROKG', 'B00000K2YR']\n",
      "A2VC48WIMY6L6E ['B000F7QRTG', 'B003ES5ZUU', 'B001VEAI74', 'B008AJLPYS', 'B00E8HIN78']\n",
      "A3B20R4ZAH0Y2Y ['B00DR6DQZA', 'B003ES5ZUU', 'B00829TIEK', 'B0013FNZ1M', 'B008ALAHA4']\n",
      "A1J87SYB3JPQWH ['B004RORMF6', 'B0036Q7MV0', 'B001KBZ3QO', 'B000JLK5PK', 'B000I04WWY']\n",
      "A2BMZRO0H7TFCS ['B0036Q7MV0', 'B00001WRSJ', 'B002K9IHGI', 'B005FYNSPK', 'B001DK1ZVO']\n",
      "APBB297H3ZA5E ['B001PIBE8I', 'B002NU5UW8', 'B000089GN3', 'B000HDFXU2', 'B003ZBZ64Q']\n",
      "A1IDAKX7OM3QIE ['B009TCCTSQ', 'B000I6JZGQ', 'B004YHXXKO', 'B009CN8VNY', 'B002JMYCTC']\n",
      "A96JD9312DHWC ['B00CKAOJA0', 'B009NHWVIA', 'B00CB2F65O', 'B005GJC01C', 'B00829THVO']\n",
      "A3M7R4PD0FEPUB ['B002TLTE6O', 'B00829THK0', 'B001542UQW', 'B001SER460', 'B00634PLTW']\n",
      "A35SNSDRNE9P8Q ['B005JN9310', 'B005BOMTT0', 'B007QOX5A0', 'B003B8PPEY', 'B0043M6F14']\n",
      "A259MPG6SOL02P ['B002WE4HE2', 'B00006RVPW', 'B009SYZ8OC', 'B00004TDMX', 'B001IEXU68']\n",
      "A2UEB48LAWFUCW ['B003VAHYTG', 'B009YT6PPC', 'B00829THK0', 'B001L1H0SC', 'B00DIOALPE']\n",
      "A2PK64OVZA1U8Z ['B001OC6DCW', 'B000M17AVO', 'B000066E6Y', 'B0000D8IYC', 'B004SGJCCO']\n",
      "A12LH2100CKQO ['B00007IFED', 'B000VX6XL6', 'B003BLQHN4', 'B002M3SOC4', 'B004Y3FG9E']\n",
      "AQ3IN3MRXQ5KH ['B0055QZ216', 'B004CLYEH8', 'B001O4EPHA', 'B004OB0EBQ', 'B000U5TUWE']\n",
      "A1EXGL6L0QQ0M5 ['B008EQZ25K', 'B003ES5ZR8', 'B004CLYE8C', 'B0034CL2ZI', 'B005ESY8VA']\n",
      "AUCISQA1YXX86 ['B0002INUIY', 'B000MWVMRG', 'B000MX48VM', 'B001GIPSAW', 'B001GCQ3KM']\n",
      "APGQTZZ4ZFPHO ['B000CKVOOY', 'B0036E8V08', 'B000TYR5R8', 'B002XMP7K6', 'B000V04RQM']\n",
      "AONUCJBC85BL ['B0039BPG1U', 'B00829TIEK', 'B001TK3ACA', 'B005J31BDS', 'B00COHALOM']\n",
      "A3O4OIBCML0683 ['B001E1Y5O6', 'B002RCNX8K', 'B005KQ0S8S', 'B003VAGXZC', 'B004Z0S6RU']\n",
      "A3VL4RXCWNSR3H ['B00A81SXHI', 'B00F4MELE0', 'B0000ALPBA', 'B0035APGP6']\n",
      "A198CCH4NNLI2E ['B002C744K6', 'B0002ZW5W4', 'B001OI2YZQ', 'B001EJN2GA', 'B001D7NL5U']\n",
      "ACP9S40H3SHY1 ['B00836JHVQ', 'B005XEE5IG', 'B004V6BQ3O', 'B006K551TO', 'B00B7N9BRW']\n",
      "A1Y85GQ09Y95JL ['B00007IFED', 'B001AYGDCE', 'B000CKVOOY', 'B00EOI2SR2', 'B00B4GGW5Q']\n",
      "A1BZIM4WGZ6DZP ['B003MVZ60S', 'B005F778JO', 'B001QUA6R0', 'B003HFG6S0', 'B007B60SCG']\n",
      "A32O98PFC3OP7K ['B003LSTD38', 'B004TS2AP2', 'B000F2PHDI', 'B003DTLV8K', 'B000TME35W']\n",
      "A37PV5GMP2ILJC ['B000TKHBDK', 'B001BTG3OQ', 'B0034WR19Y', 'B00176TEGM', 'B000FJ2OSM']\n",
      "A1FMU4CJLIDHR9 ['B0054JJ0QW', 'B000AP05BO', 'B000RQHAUA', 'B00153T624', 'B004VM0SE6']\n",
      "A27AF4DLLOBQDQ ['B002M3SOCE', 'B00E055H5O', 'B003L76BJS', 'B006TT91TW', 'B00313JD06']\n",
      "A3LWC833HQIG7J ['B001T9NUJE', 'B002MPPHKY', 'B001U3Y6AQ', 'B00EVIBN8U', 'B006BUN6ZE']\n",
      "A11P105WVK5240 ['B00006RVPW', 'B001T9NUJE', 'B005L38VPC', 'B003FMUMN0', 'B0002TPFTA']\n",
      "A3FPSY1M6G7XIB ['B003ZSHNGS', 'B000144I2Q', 'B0029ZA78O', 'B000BY52NK', 'B000AYGD8E']\n",
      "A3LDFTSXU3UPBO ['B003YFE1H6', 'B009X3UW2G', 'B004NBZ8DQ', 'B00722JCMQ', 'B00B8F4CK0']\n",
      "A34JKODTSKCGEN ['B0002KKIUA', 'B000I5JHB0', 'B002TG3K14', 'B0012WDMNC', 'B002BW6DBU']\n",
      "APQQK1V695AUE ['B00140DBRY', 'B000HDJT4S', 'B000G6M916', 'B000BYVA8Q', 'B00006HOKR']\n",
      "A16C19G0I2DE8S ['B005ONMDYE', 'B003WGJYCY', 'B00D856NOG', 'B001Q3MA80', 'B0088PUEPK']\n",
      "A2NJQF2UI60VGT ['B0010Y414Q', 'B004NY9UV4', 'B004GF8TIK', 'B007SM7O2U', 'B002HWRJBM']\n",
      "A319Y83RT0MRVR ['B00D96LZ6K', 'B008X9ZBVI', 'B0007KQWDM', 'B0046HAO40', 'B00E6ONJJU']\n",
      "A1NZLRAZJGD99W ['B001OC6DCW', 'B0012GK3MQ', 'B004M8ST36', 'B00004Z5QU', 'B008C1JC4O']\n",
      "A2K6CDQ9HZ359G ['B003LSTD38', 'B0007Y791C', 'B00114PN1U', 'B005UF3G2Y', 'B007IV7KRU']\n",
      "A1XK4VP74IB9TQ ['B0001Y7UAI', 'B001F7AHOG', 'B002N2EHVQ', 'B0009HN57Y', 'B001PI9AAC']\n",
      "A27GITTN6AVW5I ['B009YT6PPC', 'B001OI2YNS', 'B000KE48CM', 'B00BGGDVOO', 'B007B5POVC']\n",
      "AV8MDYLHHTUOY ['B00829TIA4', 'B004CLYEDC', 'B0034CL2ZI', 'B007PTCFFW', 'B00E8CF0CE']\n",
      "A2W9I628I6SE1U ['B000TKHBDK', 'B0082E9K7U', 'B000R805L4', 'B006T7QRN2', 'B0001DQ5YG']\n",
      "A2XXBZPQT5EXHV ['B003DZJQQI', 'B001TH7GSW', 'B00483WRZ6', 'B000VE2RP6', 'B004FA8NOQ']\n",
      "A35OIWPVTGW3UC ['B00728ZAEY', 'B004MSMCSO', 'B008MB6YX6', 'B005TOU804', 'B001FA0AM2']\n",
      "A3TP31S61PPE3G ['B00BFO14W8', 'B008OHNZI0', 'B000ID37EA', 'B004SD1ZPY', 'B00A6EV6TY']\n",
      "A1X3DA7C61WZLQ ['B0015AARJI', 'B003O8682Y', 'B0068INSUM', 'B000065CE1', 'B00005853Z']\n",
      "A3CJ7MHAS9IMAM ['B00009R6WO', 'B001CCAISE', 'B00006JN3G', 'B00065ANYW', 'B00109Y2DQ']\n",
      "A2ZFFSJ0VM6KSJ ['B004LEAYXY', 'B002RCLYXG', 'B0017U0WM8', 'B000IDCDZY', 'B000BNY64C']\n",
      "ASJLXOX1VD4DF ['B004CLYEFK', 'B00E87E1OM', 'B00G4UQ6U8', 'B0052WPUI8', 'B00EOE4G4E']\n",
      "A1SDPA1J98UP4L ['B002WE6D44', 'B00029U1DK', 'B0015AARJI', 'B00B588HY2', 'B00B99JU5M']\n",
      "A33ZYFE8XMKKR1 ['B009UEAZ84', 'B000I42QO6', 'B001LYUG3A', 'B001UHOR88', 'B0039XRUBM']\n",
      "A20H1M28WLI9J2 ['B005KQ0S8S', 'B00180LGX6', 'B000GOUE7Y', 'B0002L5R78', 'B0033QJLQW']\n",
      "A4S2WAQVQR6PI ['B002YU83YO', 'B0006I1TRY', 'B001CBFTFM', 'B0028R3NCU', 'B005CWIVYI']\n",
      "A3NEAETOSXDBOM ['B001TH7GUK', 'B000CSWCQA', 'B004GF8TIK', 'B000F9YN22', 'B0002CPBUK']\n",
      "A3QQGPI3CTV9SX ['B000HJPK2C', 'B0009Q4PH4', 'B0013BT8US', 'B000WS5VNQ', 'B000LU8A7E']\n",
      "A240FRPD4MEXND ['B00DTZYHX4', 'B00834SJSK', 'B007OY5V68', 'B000ENPDSW', 'B0026L7FGI']\n",
      "A1MRRMHGV3PN5W ['B000N99BBC', 'B003HIXOOG', 'B00829THEG', 'B0009GZAGO', 'B00FG38L16']\n",
      "A3PJJTAKISAFI9 ['B004QVPGXK', 'B009SYZ8OC', 'B002GU5XKE', 'B0056KEPVO', 'B00824948U']\n",
      "AMFXXAOVV4CPJ ['B001QUA6RA', 'B008MDSWI4', 'B003CP0KCS', 'B00005TQKQ', 'B0097BEFYA']\n",
      "A3V2EZ6MA32FF6 ['B002FB684E', 'B00A9NE84C', 'B008LCYIEI', 'B002S53LJ2', 'B004YW7WCY']\n",
      "A2RWHTNM5P3I8Y ['B004XZHY34', 'B005HSDLCO', 'B00EVIBN8U', 'B00829TIEK', 'B006WHPQUO']\n",
      "AM9APPMIE1BHZ ['B004CLYEDC', 'B001OOZ1X2', 'B004S4R5CK', 'B00CD1FB26', 'B00E6ONJJU']\n",
      "A2WXURU33RBGQS ['B00B4GGW5Q', 'B001EH8FZA', 'B002Q7IKYS', 'B003F8UWUM', 'B00505EZZ6']\n",
      "A28I5UM0FT3I6T ['B00CPGYNV4', 'B008MDSWI4', 'B003WV5DJC', 'B00006HOAQ', 'B00009R98A']\n",
      "A3QU3O79AGNWCY ['B001W26TIW', 'B00007E7JU', 'B000E5CYW8', 'B0002HBOMO', 'B003BLQKI6']\n",
      "A12EVK82QUTSA6 ['B003ES5ZUU', 'B00829TIA4', 'B002YU83YO', 'B002WE6D44', 'B001KB6Z2U']\n",
      "A2DKQQIZ793AV5 ['B00DLZOG2E', 'B009USAJCC', 'B007WTAJTO', 'B004XW2NEW', 'B00GO4GMAI']\n",
      "A359MYLPLEOF7N ['B0056BPUQC', 'B009NE7B06', 'B00067OLOS', 'B00006I5SQ', 'B009YONZEG']\n",
      "A2QDOJFFLFGF18 ['B001TH7GVE', 'B004CLYEH8', 'B0007Y79AI', 'B003D8OSV8', 'B0002L5R78']\n",
      "A27T4RQ3XA661C ['B001GIPSAW', 'B008RWHC0E', 'B000RT8CM2', 'B009F1I1C4', 'B005HSDL4M']\n",
      "A2EN82VBJT44QP ['B00017LSPI', 'B001PIBE8I', 'B005HQ50SO', 'B00BT7RAPG', 'B0076DKLA8']\n",
      "A3SRDVCD2ATIIS ['B000JMJWV2', 'B003ZSHNGS', 'B007I5JT4S', 'B00385XUG0', 'B005ZK4QAU']\n",
      "A18YMFFJW974QS ['B00CSDMWGW', 'B00E6N9GS4', 'B0013IWYHU', 'B00DUKJ5CQ', 'B00E1CZRHY']\n",
      "A11T807LX2EF00 ['B00BOHNYU6', 'B001QUA6RA', 'B004CLYEDC', 'B009SYZ8OC', 'B0007LJHVA']\n",
      "A1DB5QPH7WO488 ['B0012Y6HC8', 'B000N99BBC', 'B007VL8Y2C', 'B000EW8074', 'B004QK7HI8']\n",
      "A14MZJTZAQS6CV ['B007FGYZFI', 'B00B4GGW5Q', 'B007WTAJTO', 'B00011KM38', 'B005L38VPC']\n",
      "A3V8P0O224OBDB ['B001OC6DCW', 'B002QEBMAK', 'B004NELCLU', 'B0001JSSLI', 'B005G3066Y']\n",
      "AGYH5U11ZKPFB ['B002MZUNXU', 'B006U3O566', 'B003X7TRWE', 'B005KSAG3S', 'B0002GX0ZE']\n",
      "AG8YP2XTC5X1I ['B005H3Q57M', 'B002WE6D44', 'B001H5T7LK', 'B009NHAEXE', 'B00B5HE3UU']\n",
      "A33GNK4YENACDJ ['B000AYJDD6', 'B0058G40O8', 'B00B5HE3UU', 'B00B3YSTI2', 'B000EITTLE']\n",
      "A14JBDSWKPKTZA ['B000N99BBC', 'B00IX2VGFA', 'B001TH7GVE', 'B0036WT3TS', 'B002DN928S']\n",
      "A2RGA7UGAN3UL7 ['B003ZSP0WW', 'B000OGX5AM', 'B000067RT6', 'B00483WRZ6', 'B0041Q38NU']\n",
      "A2RG1B0K8YBJ4A ['B002YU83YO', 'B000UIA6YM', 'B005HXEPI8', 'B005JRGOCM', 'B000W3QLLW']\n",
      "A2KZOIOFXXMC1H ['B00125Y0NU', 'B002BH3Z8E', 'B009NHAF5G', 'B0009HTB0Y', 'B009NHAEXE']\n",
      "A21INUA35HX4XQ ['B0052SCU8U', 'B001E1Y5O6', 'B007R5YDYA', 'B00CEZBKTO', 'B0064EL2DK']\n",
      "A303SNZ4AR7TDQ ['B0002SQ2P2', 'B0036Q7MV0', 'B007SZ0EHE', 'B005LIDU5S', 'B009VV56TY']\n",
      "A35HOUWHAYZZN6 ['B001TOD7ME', 'B00E9YIFKA', 'B00829TIEK', 'B002TLSOGA', 'B007GNN0AG']\n",
      "AOJA1LC8PN7K1 ['B002RWJHBM', 'B000J1HPXK', 'B005CT56F8', 'B0001GNJWY', 'B009T0NFXG']\n",
      "A3QMJMTLJC34QC ['B000652M6Y', 'B004YKXGIK', 'B000BQ7GW8', 'B005ELBSWO', 'B005KFONIU']\n",
      "A1YE1IK0JYSIIE ['B00D18U63O', 'B001TH7GUU', 'B0076POAJE', 'B007FELOZO', 'B005LU2Z2A']\n",
      "AVU1ILDDYW301 ['B00GHY5F3K', 'B00310PJM0', 'B0045XV2CI', 'B00DIOALPE', 'B004HCO4GI']\n",
      "AAW7X3GRD8GY9 ['B000CRFOMK', 'B008C1JC4O', 'B0054JJ0QW', 'B000EHCYBC', 'B000227PLS']\n",
      "AGEWOMQ90BV8R ['B0012W7HQK', 'B0014Z29OU', 'B00603RTC8', 'B00A47U22U', 'B00AKO7XOW']\n",
      "A20951I210L0IB ['B007PPZ2I8', 'B000RFPBQQ', 'B002QEBMAK', 'B00008ZLHG', 'B005K7192G']\n",
      "A1ZM846Y7AUYD ['B000TKHBDK', 'B0008D76L0', 'B0002JY712', 'B000JLP5UK', 'B00009R6V0']\n",
      "A34C9AFFZOI45T ['B000PCX780', 'B004BLIQDC', 'B00305N48C', 'B004FPOPXE', 'B00080G0BK']\n",
      "A3U6J0DLLDEWM2 ['B007R5YDYA', 'B002DMKPQ2', 'B00829THK0', 'B001A4HAFS', 'B00B3329WA']\n",
      "A3VTOLNB5N6FVP ['B00546JKJC', 'B000A3WS84', 'B00EOE4G4E', 'B007X3VC7W', 'B00COEBCXY']\n",
      "A3FFZQKCA7UOYY ['B001TH7T2U', 'B000OGX5AM', 'B002JQNXZC', 'B0019EHU8G', 'B008UGPBXM']\n",
      "ADHA1W879JNT0 ['B001TH7T2U', 'B000FQ2JLW', 'B006U3O566', 'B0000DZET4', 'B0013DXVYK']\n",
      "A18EA7MNLXP9H5 ['B000067RT6', 'B003VAHYNC', 'B000UHQVOW', 'B0026HSQ3I', 'B00264NZWS']\n",
      "A2I357I10ZY7CI ['B001F51G16', 'B001TH7GUK', 'B00494XZ1Y', 'B00B8L36A6', 'B0093H4VBU']\n",
      "A1X2LENOF84LCQ ['B001TUYTZM', 'B0039BPG1A', 'B000BFO4OC', 'B0055QZ216', 'B0039BPG4C']\n",
      "A3DOPYDOS49I3T ['B002K9IHGI', 'B000BOLHH0', 'B000QUUFRW', 'B002JQNXZC', 'B000E204LY']\n",
      "A2YHXGPCTENZY3 ['B0013FK9U2', 'B0001WW3F2', 'B007FEFQDA', 'B000RQHAUA', 'B0000UV0JA']\n",
      "A1VRANSQ0WF1YS ['B0010Y414Q', 'B0007A1IRC', 'B00007E7JU', 'B001S0PWWC', 'B001WGX15W']\n",
      "A3DGJMO6VPG6FJ ['B00EO302SO', 'B000N99BBC', 'B003ES5ZUU', 'B003QKBVYK', 'B009B0MZ8U']\n",
      "A2PICNZWHEINQC ['B008EQZ25K', 'B00E055H5O', 'B001VO4MOY', 'B005HVPYNU', 'B004N625B4']\n",
      "A1WJ3P43SZUNDM ['B000067RT6', 'B001FVI91U', 'B0013CED4I', 'B00310K9VQ', 'B00ALK3HF4']\n",
      "A1MRPX3RM48T2I ['B001TH7GSW', 'B000VE2RP6', 'B001NJ27QM', 'B0094NXBZ0', 'B004ZNA3UA']\n",
      "A3CIET1UO3G51E ['B0043WJRRS', 'B003M3A1BK', 'B001G445Q4', 'B0081SS5C8', 'B001C4VRZK']\n",
      "A12O5SEIF162P8 ['B001E1Y5O6', 'B000JLK5NW', 'B000XUMR6C', 'B00B1862X4', 'B007ABIY4Q']\n",
      "ARX7Z3NI6O0F7 ['B002NEGTTW', 'B000AZ57M6', 'B009D79VH4', 'B0093HKFYW', 'B0040X4PQI']\n",
      "AIJQU979J6UFY ['B001T9NUJE', 'B00BOHNYU6', 'B000HPV3RW', 'B005HY4U46', 'B005KFONIU']\n",
      "A2QRXQPHDMFCQV ['B009NB8WR0', 'B000N99BBC', 'B008HO9DK4', 'B00FJRS5BA', 'B001OI2Z4Q']\n",
      "A2VH0UT5EQFB6P ['B000JE7GPY', 'B005EJH6Z4', 'B000BI2162', 'B001S0PWWC', 'B00CDS9HTM']\n",
      "A25TNBMJ4ZO7RD ['B00IVPU786', 'B0055PH0XA', 'B00149PA42', 'B003NSC2WU', 'B0054U6CEE']\n",
      "A1PI8VBCXXSGC7 ['B00G4UQ6U8', 'B00DTZYHX4', 'B009X01C64', 'B0062XB9FE', 'B004CLYEH8']\n",
      "A32T2H8150OJLU ['B004V4IWHY', 'B00829TIEK', 'B003ZYF3M8', 'B003HIXOOG', 'B000ZMCILW']\n",
      "AZAC8O310IK4E ['B003ZSHNGS', 'B003BLQHN4', 'B00426C57O', 'B000652M6Y', 'B001FWBUUG']\n",
      "A3DL29NLZ7SXXG ['B001IANWCO', 'B0072NPFH6', 'B00D1847NE', 'B00CROTNGO']\n",
      "A1JUBRIZMO0RJV ['B002P3KH80', 'B008LCYIEI', 'B00CD8ADKO', 'B004GUT1QO', 'B002QQ8H8I']\n",
      "A24QFMD1RXLJMB ['B004VM1T5S', 'B001AW8W7A', 'B002ISXBFI', 'B000V7AF8E', 'B000JQ17WK']\n",
      "A1SC5OXLQNGPLN ['B0019EHU8G', 'B000KJQ1DG', 'B009B0MZ8U', 'B006TAP096', 'B0007U00X0']\n",
      "AZCE11PSTCH1L ['B004J3V90Y', 'B00003CWDH', 'B006DKEQL0', 'B00004Z5D1', 'B005869A16']\n",
      "A22NKFOH9RATRC ['B00029U1DK', 'B007RMAS1K', 'B004286VMW', 'B000VS4HDM', 'B005058B56']\n",
      "A1N5FSCYN4796F ['B000W09ZTK', 'B005DSPLCQ', 'B005EOWBHC', 'B0015L0T68', 'B00CE590Z0']\n",
      "A26LD9FQHTM8ZH ['B00BF9MUAS', 'B004Q3R9B0', 'B005HMKKH4', 'B002GEQDK4', 'B008X9ZBVI']\n",
      "A1E1LEVQ9VQNK ['B005GI2VMG', 'B003ES5ZR8', 'B000VX6XL6', 'B00CPGYNV4', 'B000M2GYF6']\n",
      "A3CKI6VEH0HBMJ ['B00829THVO', 'B001NTFAOS', 'B004SBBD8U', 'B00093IIRA', 'B000I04WWY']\n",
      "A25UZ7MA72SMKM ['B003DZJQQI', 'B0009Y7APU', 'B0009GZAGO', 'B006ZH0KVG', 'B008MWBY6W']\n",
      "A30ADSBTWCORYC ['B0056KEPVO', 'B00604YSNK', 'B0002L5R78', 'B004AB4Z10', 'B0081SS5C8']\n",
      "A1REY92IEZJUSX ['B000053HH5', 'B0010HE2CY', 'B00009R6WO', 'B002W3IXZW', 'B008FO7PQA']\n",
      "A298GL2D0BHGKZ ['B003ES5ZUU', 'B000S5Q9CA', 'B00001WRSJ', 'B0015AARJI', 'B001202C44']\n",
      "A19RW25Q6206I3 ['B007WTAJTO', 'B002NO7PWC', 'B000OFSN4G', 'B003ZUXXVU', 'B003N2POXK']\n",
      "A1ATVMMJZP3Q4X ['B003EYVHH4', 'B00007E7JU', 'B006UMM2BW', 'B0039XQQX0', 'B0015PKGH6']\n",
      "ABSYIF0ONC2AF ['B002YU83YO', 'B003ES5ZUU', 'B000U5TUWE', 'B00829TIA4', 'B007B5WHTE']\n",
      "AK9BXHEXOOM6Z ['B006EKIQYM', 'B00000J1UQ', 'B002HFER6O', 'B0001FTVE0', 'B004LU1U2M']\n",
      "A2X78O6G89CB30 ['B003ES5ZUU', 'B001VL572I', 'B000KZ70JE', 'B001EPVOQY', 'B0090BSSZO']\n",
      "A1CST2WUA32GP0 ['B0000X0VCY', 'B003ES5ZUU', 'B000HPV3RW', 'B007SM7O2U', 'B005HXFARS']\n",
      "A23GFTVIETX7DS ['B003DZJQQI', 'B004I5FL1G', 'B000TKHBDK', 'B00IX2VGFA', 'B00AR95FOU']\n",
      "A2ED50E3KWKUKW ['B005UFZ7F8', 'B00004XOM3', 'B004UTQRHW', 'B00003CWDG', 'B000JLK5PK']\n",
      "ANEDXRFDZDL18 ['B009NHWVIA', 'B00829THEG', 'B00EOI2SR2', 'B005I6EVUG', 'B0071BTJPI']\n",
      "A2GYV87WW0DMSN ['B003ES5ZUU', 'B001E1Y5O6', 'B008EQYRRY', 'B000FIDTYG', 'B00D856NOG']\n",
      "A1G650TTTHEAL5 ['B00A628QYE', 'B00G4UQ6U8', 'B00FSA8VQ2', 'B00G4V0QSK', 'B009UNZ5WQ']\n",
      "A361M14PU2GUEG ['B000QUUFRW', 'B000MX48VM', 'B002JQNXZC', 'B0015AARJI', 'B004NY9UV4']\n",
      "AKT8TGIT6VVZ5 ['B0007WK8KS', 'B00BOHNYTW', 'B000BY52NK', 'B00004XOM3', 'B000EOSHGQ']\n",
      "A1X3ESYZ79H59E ['B004CLYEFK', 'B00829THEG', 'B007KZQM9G', 'B00CM0XHNS', 'B00825BZUY']\n",
      "A257X1MQJO82P2 ['B004W2JKWG', 'B009NHAEXE', 'B000V5K3FG', 'B001GCU0MY', 'B006M76GWG']\n",
      "A2KHG3JOFXQ4CE ['B000RZQZM0', 'B00EXPNFQO', 'B000TKHGL2', 'B0031RG29M', 'B003B20F54']\n",
      "A1VTCSCH8FFC76 ['B002WE6D44', 'B003N7NMO8', 'B002KG6HZO', 'B002669XKY', 'B005TUQUZA']\n",
      "A1H6SBO7R007I8 ['B008ALA6DW', 'B002MUAEX4', 'B007471PZQ', 'B009QV72VY', 'B006ZH0J30']\n",
      "ANYC38I00IRVK ['B00A83I8G2', 'B004C9P9TM', 'B003MX4D0U', 'B0058P0I2C', 'B00BHC7ZT4']\n",
      "A2X61KKXXR6WNP ['B0089E5R0W', 'B001DJ64C0', 'B000J43HJ8', 'B001F7HLRC', 'B0000AKVHF']\n",
      "A2HDTOF8222KN3 ['B0009WU65I', 'B003O1UYHG', 'B007BYLO4E', 'B00AWKC0EC', 'B0007U0IQE']\n",
      "A225G2TFM76GYX ['B000NP3DJW', 'B0034CL2ZI', 'B00871SR68', 'B004CLYEDC', 'B00119T6NQ']\n",
      "A32AFX2PUJ82HG ['B005GGTTZ0', 'B00001WRSJ', 'B00029U1DK', 'B003LZYXYU', 'B003VAGXZC']\n",
      "A1R19YYR5OR26T ['B004ELA0SS', 'B003DZJQQI', 'B003X7TRWE', 'B007B31IAK', 'B000NHZSHK']\n",
      "A1D9V11QUHXENQ ['B004LSNF04', 'B00475K64E', 'B00GHY5F3K', 'B000067SMH', 'B000UD6E48']\n",
      "AFQBS241UKPAZ ['B006ZBWV0K', 'B0094S35W4', 'B00BFO14W8', 'B003XM73P2', 'B0007Y79E4']\n",
      "A34CKIMZ969UW7 ['B0055QZ216', 'B001XURP7W', 'B005HKIDF2', 'B001S2PPT0', 'B0030F5ND6']\n",
      "A3CLWR1UUZT6TG ['B006QB1RPY', 'B005NC8BF6', 'B005J4C820', 'B0093HGD2K', 'B0097BEFYA']\n",
      "A3JLOIXFM75QNV ['B00IKF2H12', 'B0001F21IS', 'B003CJTR8M', 'B005DOUJL8', 'B00083XXTY']\n",
      "A1RDHBBZE1NPS3 ['B00BGA9WK2', 'B003ES5ZQE', 'B0087B6SV4', 'B00BUJ6MW0', 'B00BQ5RY1G']\n",
      "A3UR2N0ATGBCU8 ['B006QB1RPY', 'B005B3VO24', 'B009HP42HQ', 'B008M0NDOK', 'B00CXACPN0']\n",
      "A3JU990UTN5RQP ['B003VSTDFG', 'B001TGUYI2', 'B004R6J2KW', 'B002LITI8E', 'B00AXWLGIU']\n",
      "AGX2K0FMS0IVL ['B007WTAJTO', 'B002WE6D44', 'B0028K2TXQ', 'B000YB862E', 'B003VBKSWK']\n",
      "AL5CUWBFBMWYQ ['B00EZ9XG5I', 'B000FITKK8', 'B001B8EOMU', 'B008X9ZBVI', 'B000K52CY2']\n",
      "AAA0TUKS5VBSA ['B005IMFX2K', 'B002TLTE6Y', 'B00CD8ADKO', 'B00E87E1OM', 'B0079UAT0A']\n",
      "A2Z9S2RQD542CP ['B001F7AHOG', 'B002VPE1WK', 'B001D60LG8', 'B0047PGSI2', 'B000HDZAUA']\n",
      "A1KSNK256G46GX ['B00CTUIT20', 'B004GW25WY', 'B00752R9PK', 'B0020ZDI5C', 'B001VO4MOY']\n",
      "A2Q7OJTVPIO2XH ['B00017LSPI', 'B0043WJRRS', 'B00004ZCJE', 'B005TOU804', 'B0090QXFP2']\n",
      "A1QNYLBG73QRNF ['B002FB684E', 'B000092TT0', 'B0006B486K', 'B000PMGZDO', 'B00AANMVNQ']\n",
      "A1JBEKU5TYIWE7 ['B0019EHU8G', 'B005J7YA4G', 'B0025UEQQW', 'B000IMSK8Y', 'B0013AV4M4']\n",
      "A3EPJSPH03AS29 ['B000EPNES6', 'B000M2GYF6', 'B005FRI50K', 'B009F7IBZK', 'B002RWJDB6']\n",
      "A2D1ZQEFS1NBH2 ['B005J2E2US', 'B000E6G9RI', 'B0096T97OG', 'B00A2XKNO8', 'B002KY2OU8']\n",
      "A3NVZTGPORNPRW ['B002QAUN2M', 'B004S4R5CK', 'B003VAK16O', 'B001QUA6R0', 'B0055D66V4']\n",
      "A28X0LT2100RL1 ['B001TH7GUU', 'B002WE4HE2', 'B003ES5ZSW', 'B000CSOXTO', 'B003NREDG4']\n",
      "AELK0E5DK7LIZ ['B005KAK2FI', 'B00BOHNYU6', 'B00COF7DGS', 'B006EKIQYM', 'B000N99BBC']\n",
      "A10X9ME6R66JDX ['B002YU83YO', 'B0052SCU8U', 'B002V88HFE', 'B0012GK3MQ', 'B00483WRZ6']\n",
      "A7EU2BWLLCJY2 ['B003FMUMN0', 'B0058FAYPI', 'B003UE52ME', 'B000U92DLA', 'B007E2M3SY']\n",
      "A3PGVJF37JSHFO ['B005LDLP8W', 'B001V9KG0I', 'B00029U1DK', 'B0042FZ51I', 'B00A9NE84C']\n",
      "A2XJMQ2COPGWJH ['B0019EHU8G', 'B0000B006W', 'B000J1F1BI', 'B001NPEBEC', 'B004X6ABTM']\n",
      "A38QEATH3NODFM ['B000204SWE', 'B000BT2PZS', 'B00142MUEM', 'B000LD14PQ', 'B000BONJXU']\n",
      "A2LB4FLRZG6CUV ['B00BQ4F9ZA', 'B00426C57O', 'B005OA3BSY', 'B001GCVA0U', 'B00FISD9DO']\n",
      "AD9ZL63H0VKCZ ['B0074BW614', 'B00APQA572', 'B005RG99OU', 'B008B488DI', 'B003XCDA9A']\n",
      "ALUNVOQRXOZIA ['B0017ZG538', 'B001D8S9E2', 'B00004Y7TC', 'B002TLTG9E', 'B000050NON']\n",
      "A2LF16F0KX9L7P ['B00JC5Y6WM', 'B00DT04I9W', 'B00B3PDHBU', 'B00834SJNA', 'B007HZLLOK']\n",
      "AGHZXQL9F94T9 ['B00008L3HY', 'B00006DY6M', 'B0007VMROE', 'B0000645C9', 'B00008J6VW']\n",
      "A2SPV96SGOEO2 ['B00CB2F65O', 'B002NEGTTW', 'B00834SJSK', 'B000JE7GPY', 'B00CI3BIWQ']\n",
      "A33XMCG1UFDSY2 ['B000TKHBDK', 'B008OHNZI0', 'B000TXEE14', 'B0014Z29OU', 'B003XIJ3MW']\n",
      "A3284KYDZ00BZA ['B00EO302SO', 'B006EKIQYM', 'B0056YNA1Q', 'B00D6XSRL2', 'B00BOHNYTW']\n",
      "A3IMALU0RM8UT9 ['B000QUUFRW', 'B003FVJYF8', 'B006LW0W5Y', 'B003FVVMS0', 'B0073FE1F0']\n",
      "A2JAEZ0FMAMJVW ['B0034CL2ZI', 'B005JLQL26', 'B0002SQ2P2', 'B00IVPU7DG', 'B006TAEH7W']\n",
      "A3J3ZHGDUDPCFL ['B00D96LZ6K', 'B0012GQZZU', 'B005NFG1MS', 'B000RZUV9S', 'B0016P5ASK']\n",
      "A3QAO3QBCQF89T ['B000N99BBC', 'B008C1JC4O', 'B002SY5GRS', 'B003X26VV4', 'B0018SMVCS']\n",
      "A3EQQHWJ1EEYEU ['B004G6002M', 'B000LRMS66', 'B0030FMQ90', 'B002IWP87S', 'B00354MVP0']\n",
      "A2ALRZ0ENQLYY5 ['B002V8C3W2', 'B00AAIPT76', 'B00005T3G0', 'B0067I4Z6O', 'B000P8X65S']\n",
      "ATFBVUXDIRXT6 ['B00310PJM0', 'B00B588HY2', 'B00829THEG', 'B00F0DD0I6', 'B003WOWB5S']\n",
      "A1P4XD7IORSEFN ['B00003CWDH', 'B003GAJ67Y', 'B000IMDPS4', 'B006OS71TA', 'B002XISRJS']\n",
      "A3QD59N3M7O7KB ['B004CLYE8C', 'B00316263Y', 'B000N99BBC', 'B0036Q7MV0', 'B0015AARJI']\n",
      "A1Z7SC7HH1BJKA ['B0000VYJRY', 'B000M2GYF6', 'B0034CL2ZI', 'B002YIG9AQ', 'B0064I1NRG']\n",
      "A3TBMGNSEQBWIL ['B004CADY9I', 'B000LRMS66', 'B00AYB3OMG', 'B0059M4G9K', 'B009K6GQEY']\n",
      "A2LFWJ8X817QGX ['B00BGA9WK2', 'B004QJ9JLW', 'B002WE4HE2', 'B009F1I1C4', 'B006QB1RPY']\n",
      "A1CMWB7AWQUQH4 ['B009ZIILLI', 'B002BH3Z8E', 'B003ELVLKU', 'B0056G10WK', 'B002G1YPH0']\n",
      "A1EOTB1WHLSW6G ['B000JE7GPY', 'B002XN3OL4', 'B005HGBEZ2', 'B000ABB4HC', 'B004M8SWBU']\n",
      "A2RTVGR9B1M600 ['B002Y6CJJ8', 'B000I20AJ6', 'B000BH5OW6', 'B000093UDQ', 'B002Z2QDNE']\n",
      "A2TA40MV2H4O6F ['B007BXD66E', 'B00007E89K', 'B00007GQLU', 'B0040JHG86', 'B00004ZCJE']\n",
      "A1WXG10FJ353K0 ['B0090Z3QG6', 'B00HFRWWAM', 'B00AJHDZSI', 'B00BWF5U0M', 'B001BYB620']\n",
      "A19XMHRB3G4DIR ['B005HY4U46', 'B000W09ZTK', 'B004CLYEFK', 'B00AVWKUXE', 'B003X26LYG']\n",
      "A1FXT4VNDA25LY ['B0000BZL1P', 'B000CKVOOY', 'B004AGX4YO', 'B0013A1XDY', 'B003U6Y1OC']\n",
      "AN2IZT80ZUNJN ['B004TJ6JH6', 'B003EHCBDA', 'B005TUQU00']\n",
      "A26CPEEWB2WKRE ['B00829TIA4', 'B00EZ9XG5I', 'B003XIJ3MW', 'B003VTZFNE', 'B00004W3ZQ']\n",
      "A33PVCHCQ2BTN0 ['B002Y6CJJ8', 'B001TH7GSW', 'B00829TIA4', 'B005LJQM3Y', 'B000TXNS6G']\n",
      "A2J8T58Z4X15IO ['B000N99BBC', 'B003CFATT2', 'B004DBIKOK', 'B00D429Y12', 'B008C1JC4O']\n",
      "A35HNL2VEDK9Z1 ['B0099XGZXA', 'B000VDCT3C', 'B000VDCTCI', 'B006TAP096', 'B00005LEOH']\n",
      "A2QIC4G483SQQA ['B005H3Q57M', 'B00596CP9E', 'B0042IEVD8', 'B0049PQTLQ', 'B00005BC0J']\n",
      "A3IOQ7NVVLAUEE ['B001TH7T2U', 'B000I20AJ6', 'B000IF51UQ', 'B000V0DY70', 'B000JQ17WK']\n",
      "A2JP9E1H0SF392 ['B000CKVOOY', 'B00009EHJV', 'B004JMZPJQ', 'B0002SQ2P2', 'B002SQE1O0']\n",
      "A26877IWJGISYM ['B004YLCKYA', 'B005QUQPDA', 'B004UKRRD4', 'B00114162K', 'B003AM8S3G']\n",
      "A2T3S3VTW65VO5 ['B001TH7GUU', 'B001W28L2Y', 'B000VWKSFE', 'B001FVI91U', 'B00212NO6W']\n",
      "A23D13HKTA95WX ['B004IZN3K2', 'B001MSU1FS', 'B000CRFOMK', 'B0000B006W', 'B002UVNW5W']\n",
      "AGLT3L7ALL4O4 ['B00316263Y', 'B000VZS2EU', 'B0015DYMVO', 'B000L47AHG', 'B003S6AXVO']\n",
      "A3U5HKDHPYBAK3 ['B006LW0W5Y', 'B00316263Y', 'B0019EHU8G', 'B001XURP7W', 'B00313JXE2']\n",
      "A1V3TRGWOMA8LC ['B00JC5Y6WM', 'B002Y6CJJ8', 'B0082E9K7U', 'B001CIREXA', 'B0001CNMFM']\n",
      "AKSFZ4G1AXYFC ['B000068O16', 'B0046TJG1U', 'B008XV7VTG', 'B002W4RPD2', 'B000YK1JAG']\n",
      "A35C2IVVQR1HTK ['B004RORMF6', 'B000U0HRKG', 'B0002HA7FY', 'B003AJXUTQ', 'B00139W0XM']\n",
      "A2RGWCT6K2C3EZ ['B005NGKR54', 'B001RNOHDU', 'B00HYAL84G', 'B00313JD06', 'B004RE20M6']\n",
      "A1MJMYLRTZ76ZX ['B001BXS4LW', 'B00005AWBJ', 'B00005AWCL', 'B00005NHH8', 'B00004RC2E']\n",
      "A22R9L5DAVYYWR ['B002WE6D44', 'B001IEXU68', 'B00007KDVK', 'B001NJ0D0Y', 'B0002MSTW2']\n",
      "A2TVH2OBNXYXHV ['B00HFRWWAM', 'B000LU8A7E', 'B0074WVYNO', 'B00FA4Y7N2', 'B004GUT1QO']\n",
      "A2FSOHSM9X13JT ['B0045KGZOG', 'B0060B7NCG', 'B0009Y7APU', 'B000HJPK2C', 'B007RZB3KM']\n",
      "A1LHMSY3Q46PJS ['B0002V9IKK', 'B005HARR2W', 'B006K55662', 'B000WPDKRI', 'B00D601UC8']\n",
      "A1U4GOVZWL8ZTL ['B005LFT3GG', 'B0079M711S', 'B000XX7XWW', 'B007BY3PBE', 'B003USPOLO']\n",
      "AGJRUK27RBVYS ['B00FG38L16', 'B008HK3QII', 'B009JPBPWO', 'B007ZZ6OW6', 'B002OAVQJ8']\n",
      "A2OBDNQ5ZYU1L8 ['B00BOHNYU6', 'B0019EHU8G', 'B0082E9K7U', 'B004286VMW', 'B002C8A79W']\n",
      "A1H55L0BLPCWYF ['B000QUUFRW', 'B00BP5KOPA', 'B003JZU8DC', 'B00489SLEQ', 'B000NB05MO']\n",
      "A3O1FVLUD9X1XC ['B00461E7JE', 'B004QBUL1C', 'B001F7AJKI', 'B0080I06WQ', 'B0057FRTPW']\n",
      "A1TQBAHI3M4ZBQ ['B000JMJWV2', 'B000CRFOMK', 'B0007A1IRC', 'B002V88HFE', 'B00020S7XK']\n",
      "A20L63B48RPSOH ['B002TLTE6O', 'B00829THK0', 'B002TLTE7I', 'B005IHAIC0', 'B0041OMWNY']\n",
      "A3CJOB7CHOSZUG ['B000FQ2JLW', 'B002WE4HE2', 'B005O81U9S', 'B005NGKR54', 'B0052RM8T2']\n",
      "A2VODABWSVHV8E ['B005FYNSPK', 'B00005LEN4', 'B000L9OIQC', 'B009SK57IS', 'B000H02B6O']\n",
      "A2QI2NTDTMK2FV ['B000N99BBC', 'B004CLYEDC', 'B003X7TRWE', 'B000PH1DL8', 'B00834SJNA']\n",
      "A226VGZWOEBPGL ['B000N99BBC', 'B00834SJSK', 'B002TLTE6Y', 'B004LB4MZS', 'B002TLTE6O']\n",
      "AL42PIIG5DXYD ['B001OOZ1X2', 'B000AAN76Y', 'B004HKIB6E', 'B000GLIIFW', 'B001QUA6R0']\n",
      "A15U64VGUV6RBF ['B004Q3R9AQ', 'B003ES5ZR8', 'B00CPGYNV4', 'B000EVLS4C', 'B005JACJ50']\n",
      "A7EJERNB7IK3Z ['B0001FTVE0', 'B000UIA6YM', 'B002Y6CJJ8', 'B000RY2PLQ', 'B0012Z4QXO']\n",
      "A1B0NL8UWAELI7 ['B000NP3DJW', 'B000BVC0WO', 'B002JP92K8', 'B000CD6B6W', 'B005B3VO24']\n",
      "A12DQZKRKTNF5E ['B00746W3HG', 'B001TH7GUU', 'B00DK2JQOQ', 'B000VX6XL6', 'B00ATM1MGA']\n",
      "A2OT3PDH1AWLTG ['B004NBZ98K', 'B001X017G2', 'B00AWKBZ16', 'B000PCH3FI', 'B000F8DBF8']\n",
      "A1R3GN9MEJFXM3 ['B009USAJCC', 'B001QUA6RA', 'B00000JDF5', 'B0023NVS30', 'B006GWO7UA']\n",
      "A3L1VJMHFWONCB ['B002V88HFE', 'B000HPV3RW', 'B004RORMF6', 'B003VAK16O', 'B0054YQO5C']\n",
      "A27B1U3OWCU14J ['B00007IFED', 'B0001G6U4S', 'B005HSDLCO', 'B003YTROIU', 'B000IM9542']\n",
      "A3KCETSIJNOK56 ['B000067RT6', 'B0054YQO5C', 'B005UNFRU0', 'B003GU1028', 'B001QWWXA6']\n",
      "AG0PM9IAHQ06C ['B008TLQ5RY', 'B001CCLBSA', 'B005KJH8WO', 'B003HC8V9A', 'B000CS40WY']\n",
      "AKX9EQ37PAYMY ['B0045KGZOG', 'B00029U1DK', 'B00011KM38', 'B0002L5R78', 'B00AAU54TW']\n",
      "A10Y058K7B96C6 ['B001QUA6RA', 'B00017LSPI', 'B004VM1T5S', 'B00JC5Y6WM', 'B0036AWR8E']\n",
      "A84FLVDK2R5JF ['B002TLTE6O', 'B0009RGLSE', 'B004ROOCO0', 'B007ILFFS6', 'B0088CJT4U']\n",
      "A13WREJ05GMRA6 ['B0044XTJ10', 'B000MX48VM', 'B005UBNKWO', 'B0015ACUKC', 'B006ZAHMUU']\n",
      "ABMF4UC4Z00NT ['B001V9KG0I', 'B007WTAJTO', 'B001PIBE8I', 'B000I06JLQ', 'B000FFRZ1W']\n",
      "A2NSXY5L42ZUGO ['B002LTWDSK', 'B001E1Y5O6', 'B000092TT0', 'B0012IJYZQ', 'B001KUV2KQ']\n",
      "A74UT8IQCM0I2 ['B000092TT0', 'B006U3O566', 'B00DKBU5W4', 'B008RM235I', 'B00CALLZK6']\n",
      "A267FU71Z01CIH ['B004CLYE8C', 'B00EOI2SR2', 'B00829THK0', 'B009X01C64', 'B00ISRUFSY']\n",
      "A2WBVO6X3KPMDT ['B0061RJSWC', 'B005GGTTZ0', 'B003FVJYF8', 'B005HFYE1O', 'B008M9U3BM']\n",
      "A1CSRR7FCKBL9M ['B000CKVOOY', 'B005NGKR54', 'B0034CL2ZI', 'B005755U0I', 'B00CXACPN0']\n",
      "AKCZIJ6ZHE41D ['B0019EHU8G', 'B000WOIFO2', 'B0015EA3NO', 'B004CADY9I', 'B0012JCYPC']\n",
      "A2NX6PABLIJLP1 ['B007R5YDYA', 'B0009S5HQA', 'B0054JJ0QW', 'B003LZYXYU', 'B0002SQ0A4']\n",
      "A20OBCQWBKCGZT ['B00IVFDZBC', 'B001DJ64D4', 'B0043M668G', 'B0058FAYPI', 'B000E6G9RI']\n",
      "AR1T36GLLAFFX ['B004Q3R9B0', 'B004YHXXKO', 'B001DZFYPW', 'B004H8FNBC', 'B00005NIMR']\n",
      "A3MUSWDCTZINQZ ['B009YQ8BTI', 'B008ULPA2O', 'B008X9Z8NE', 'B008HK3SSG', 'B008ULPE70']\n",
      "A314KKDIJWCNMV ['B004LSNF04', 'B002V88HFE', 'B004GF8TIK', 'B004R7P28W', 'B0002J2A48']\n",
      "A3F9CMU8KNAY1M ['B001TH7GSW', 'B002HWRJY4', 'B004SGJCCO', 'B00HMREOLK', 'B0079UAT0A']\n",
      "A1V5TRJXTI6F01 ['B002WE6D44', 'B005NGKR54', 'B003LSTD38', 'B0037H8AB4', 'B0064L8Q1E']\n",
      "A54SG05AV6S4H ['B007SZ0EOW', 'B0017JY5FE', 'B0031SEMBQ', 'B00001ZWXA', 'B0016P5ASK']\n",
      "ASRA2UZ3JV87B ['B001TUYTZM', 'B00E3RHS6A', 'B0028R3NCU', 'B001PTH0VW', 'B003M9RWT8']\n",
      "A3G7BEJJCPD6DS ['B009YT6PPC', 'B002GP7ZT6', 'B00HRQB28Y', 'B007LBOCVY', 'B00358P3YM']\n",
      "A3INN916E4VION ['B007WTAJTO', 'B007BJHETS', 'B001CBFTFM', 'B0074BW614', 'B000JE7GPY']\n",
      "AAEVGE52KL0DJ ['B004GF8TIK', 'B00C28L6EW', 'B002BH3Z8E', 'B00009R6K7', 'B00B5DHZMM']\n",
      "AG2YXYIQ8TLTA ['B001GIPSA2', 'B0055QZ216', 'B00F3SIQKK', 'B00858I53S', 'B003X26LYG']\n",
      "A2JE071UW97J2A ['B003I4FHNA', 'B003CJTQJC', 'B002Y6CJJ8', 'B000SMVQK8', 'B001G5ZTZO']\n",
      "A2R6RA8FRBS608 ['B000IF51UQ', 'B0007SL4IW', 'B00006IBLQ', 'B000RA7IZS', 'B0000E1717']\n",
      "A2RW587355CMVA ['B005KSAG3S', 'B005BCCML2', 'B002HWRJBM', 'B007X3VEX4', 'B007RNCLBY']\n",
      "A2JKM8KF3296CW ['B009NHWVIA', 'B00EXK1L38', 'B00E5UHRIO', 'B00829TIEK', 'B00D3F7D7M']\n",
      "A3SX5MZTCZRQLF ['B0007QKMQY', 'B006EKIQYM', 'B001OI2Z4Q', 'B007PJ4P4G', 'B001TK3ACA']\n",
      "A2Z2MUP8JRJXEU ['B002NEGTTW', 'B00BXA7N6A', 'B001FA1O18', 'B000ID7QNI', 'B004QQXDVC']\n",
      "A20G074MWH9U7O ['B0043WJRRS', 'B00CB2F65O', 'B003U7SR0U', 'B00884WH74', 'B000QGBC8C']\n",
      "A2TRXEZYU9GYY8 ['B003XM1WE0', 'B00483WRZ6', 'B003ZM7YTA', 'B004YLCBRG', 'B004GW25WY']\n",
      "A2HV76MYH7UL3S ['B00EDSI8HW', 'B007SZ0EHE', 'B006VCP72W', 'B006588Z7G', 'B00BZB0I3W']\n",
      "A506HOOCVL8GW ['B00483WRZ6', 'B007WTAJTO', 'B003XM1WE0', 'B000J45BK6', 'B005LJKEXS']\n",
      "A1URXSRV6WDHVY ['B008EQYRRY', 'B003GALRIA', 'B006ZH0KVG', 'B004CLYEDC', 'B00834SJSK']\n",
      "AZNUHQSHZHSUE ['B000N99BBC', 'B000JE7GPY', 'B009UEAZ84', 'B002XVUTPK', 'B003XE3X8Q']\n",
      "AIFLY2HF8NS8U ['B00JC5Y6WM', 'B00829TIA4', 'B0079UAT0A', 'B00CQ35C1Q', 'B004SKBJ5S']\n",
      "AY3XPKRAMKKY7 ['B000V1XICU', 'B00005NIMJ', 'B0002ZW5W4', 'B003ES5ZSW', 'B000EVS4YY']\n",
      "A294BKN913UOGP ['B000VDCT3C', 'B00005LEN4', 'B000HJPK2C', 'B000BQ7GW8', 'B009WHV3I0']\n",
      "A2SL5IW096Z2BL ['B000TKHBDK', 'B000CKVOOY', 'B003GIJTR8', 'B000E6G9RI', 'B002J46IYW']\n",
      "ALQ4USPEQ9L5N ['B0077SAYY0', 'B004XNLR16', 'B003WUBIZQ', 'B00F6E8OUS', 'B009APBY0G']\n",
      "A2AY4YUOX2N1BQ ['B0033PRWSW', 'B00316263Y', 'B000F7QRTG', 'B0044XTJ10', 'B001EH8FZA']\n",
      "AQSV34W54L0VO ['B0031ESKJA', 'B00E3W15P0', 'B0083WYD9Q', 'B002HWJT1A', 'B005ARQV6U']\n",
      "A35IX2GE0VC0JP ['B004BDOGL6', 'B00D6XSRL2', 'B002VPE1XE', 'B001S4OTS6', 'B005X64MN2']\n",
      "ABAPF3XY1W6JX ['B004286VMW', 'B000Q8UAWY', 'B003ZG9T62', 'B003WOWB5S', 'B007ILEHSA']\n",
      "ATDQ9CGCWTT8D ['B003X26VV4', 'B0046RE3M4', 'B007JOO4YS', 'B0001VWHH2', 'B0034KO59U']\n",
      "A3SDJ70H00OQCJ ['B000YEMKGY', 'B005CLPP8E', 'B004XC6GJ0', 'B002ZLOR56', 'B00165XQWW']\n",
      "A1L64KDYO5BOJA ['B0019EHU8G', 'B0015L0T68', 'B00DMS0GTC', 'B00180LGX6', 'B00009EHJV']\n",
      "ASFW4ZMNZJKDA ['B003ES5ZUU', 'B001TH7GSW', 'B004AK154Q', 'B004IZN3WU', 'B0081TXIQA']\n",
      "A2ZR3YTMEEIIZ4 ['B002OB4BK8', 'B000N50S5Y', 'B000EVT0XS', 'B000GBGPAW', 'B000NKJ2X8']\n",
      "A2WC9NFLG57W4H ['B0055QZ216', 'B005A0B3FG', 'B000O8WE66', 'B00829TIEK', 'B004HVW0ZQ']\n",
      "A3SP7T2PZ3HSDE ['B00829TIA4', 'B00COEBCXY', 'B003CJTQJW', 'B001U3Y8O0', 'B000QJ6U40']\n",
      "AG7EF0SVBQOUX ['B0034CL2ZI', 'B000F7QRTG', 'B000WOIFO2', 'B000067RVL', 'B001TZUS98']\n",
      "A1GQRGB8FGSLIZ ['B003ES5ZUU', 'B000N99BBC', 'B00EVIBN8U', 'B00310PJM0', 'B00E055H5O']\n",
      "A1Q5P5ML3176C0 ['B0048IATQ0', 'B0016D1I0G', 'B001CCAISE', 'B002UJPK04', 'B00007E7JU']\n",
      "A2SR7S6ZJJDGNB ['B00CGVF8E4', 'B006JG2IPY', 'B00D02AHEO', 'B0090I46U8', 'B00GQDBS7O']\n",
      "A1QLQCJVGCQPP0 ['B002V8C3W2', 'B009SYZ8OC', 'B0001M2FZK', 'B0015DYMVO', 'B00263D7A4']\n",
      "A1RJKTYC03L0JY ['B003VS9UP4', 'B005IHAIEI', 'B004MKNJ84', 'B00004WCID', 'B0056KCSCM']\n",
      "A3QRR8PSCBI07C ['B002RCNX8K', 'B000BQ7GW8', 'B004HC5IPE', 'B003ES5ZSW', 'B000067SG2']\n",
      "A15J71JLC29KPW ['B00FJWKYYG', 'B000063574', 'B004SGJCCO', 'B005CLPP84', 'B000I6P1I2']\n",
      "A3REK3OFONWB1Q ['B007BXD66E', 'B000AZ57M6', 'B0000BZL5A', 'B00009USW3', 'B006ZBWV0K']\n",
      "A9LNWA25IM2DX ['B0052SCU8U', 'B008LCYIEI', 'B00CDIK908', 'B00829TIEK', 'B00A0JUNWQ']\n",
      "AXYM52DNK6NDF ['B002V88HFE', 'B002QAUN2M', 'B002RM08RE', 'B00009VQJZ', 'B006TT91TW']\n",
      "A21VM9WVF8EOSJ ['B000OG88KY', 'B00000K13L', 'B00713DPM4', 'B005N8W1MO', 'B007DJGHF8']\n",
      "A1OGCPMSIVK7G4 ['B000QUUFRW', 'B005H3Q57M', 'B00139W0XM', 'B004TJ6JH6', 'B000HPV3RW']\n",
      "A3639Z6O5JBLIZ ['B00081A2KY', 'B003TM3EL8', 'B00068YUN4', 'B00GUPZ7JS', 'B00001P4XH']\n",
      "A29GWIJL72GXXZ ['B00000K13A', 'B001M56DI0', 'B001DL9WDG', 'B00009W3BQ', 'B000IN72KK']\n",
      "A3CEUT263RNUDO ['B00007GQLS', 'B00COF7DGS', 'B00009XVCZ', 'B001ENW61I', 'B0009BX0AM']\n",
      "A2ME89MSWVG9NF ['B009YT6PPC', 'B00728Z9JA', 'B009N8M2P6', 'B005A0B7CA', 'B00ER52ES0']\n",
      "A1WF4QNIE2Z3I7 ['B005OB2L7U', 'B00AEGRGNO', 'B009O7YUF6', 'B00009UT9B', 'B009UEAZ84']\n",
      "A34DQINHT6NYJU ['B00829TIA4', 'B008MWBY6W', 'B003FMUMN0', 'B0099SMFP2', 'B003VWW3Q8']\n",
      "A1YN5I4FINMBTI ['B004W2JKWG', 'B0019EHU8G', 'B0036Q7MV0', 'B006OGMGVA', 'B009PJ3AZ4']\n",
      "A2T24Z5QP2OMXU ['B003ES5ZUU', 'B002YU83YO', 'B00D5Q75RC', 'B008ALAHA4', 'B009WU5XUG']\n",
      "A16RL0RMRF974O ['B001A1RMXG', 'B007WTAJTO', 'B000V9NU2A', 'B002K40R84', 'B0040X4PV8']\n",
      "A2VIYTWXANL343 ['B000GBO9IM', 'B00B588HY2', 'B002BZA54S', 'B0013AV4M4', 'B0012YCTZM']\n",
      "ATMQEI1LKR6VB ['B002MPPHKY', 'B009SYZ8OC', 'B00CB2F65O', 'B001O94GNS', 'B00EOE4G4E']\n",
      "A2SYAQXJGRY3XE ['B000144I2Q', 'B0064P5I1G', 'B002YC3K9A', 'B003TM600U', 'B004HJ754O']\n",
      "AGFSSC5DBY2HU ['B00829TIEK', 'B00AJHDZSI', 'B00013VHAS', 'B00829THK0', 'B002IKLJVE']\n",
      "A2HPJKM7L4EOQB ['B000A7XSSY', 'B00004Y2MM', 'B00007KDVK', 'B004PA8706', 'B00005UKBD']\n",
      "A87N6UTYA6NOB ['B00029U1DK', 'B000067RVL', 'B002NO7PWC', 'B004SBBD8U', 'B002NEGTTW']\n",
      "A3Q1J68QY1MZQ9 ['B0050IE1O8', 'B00310PJM0', 'B000KJQ1DG', 'B00GO1UV4E', 'B000N49WPW']\n",
      "AWZR0O65DL2Q ['B00005NIMJ', 'B00395ZQMK', 'B001GX6MJ8', 'B000XY6N5Y']\n",
      "A4GGT6O0GQNV2 ['B00BGA9WK2', 'B000F2BLTM', 'B00FJXVRM8', 'B00004SY4H', 'B002VPE1Q6']\n",
      "A25RTRAPQAJBDJ ['B00BCA41PW', 'B00DUTIZJG', 'B00009WBYL', 'B003YNO0LA']\n",
      "A33152QEGO2MZN ['B008AST7R6', 'B00622AG6S', 'B000WKW69Q', 'B003SX0OU2', 'B0028Y4F4S']\n",
      "A2WPL6Y08K6ZQH ['B00HFRWWAM', 'B000U5TUWE', 'B007IS3EMI', 'B00BGGDVOO', 'B001VEJEGK']\n",
      "A3EK2KTYHJCPB9 ['B008EQZ25K', 'B0099SMFVQ', 'B000N99BBC', 'B005KFONIU', 'B006ZH0L2E']\n",
      "AQCJWSMSURQI2 ['B003CFATT2', 'B004CLYEDC', 'B007PJ4PKK', 'B009Z7KMUM', 'B00E5UHRIO']\n",
      "A1435P5AMCPB3X ['B000BT2PZS', 'B000204SWE', 'B0000AZK0D', 'B000VPC44O', 'B005SN3INA']\n",
      "A1F5O1USOUOOXI ['B000N99BBC', 'B00HSQAIQU', 'B000FOYMKU', 'B00BIP816Q', 'B0088CJT4U']\n",
      "A1VQBEW0G4IH1J ['B00IVFDZBC', 'B0096W1OCG', 'B007NSR0AK', 'B003IT985S', 'B006K55662']\n",
      "AQM0K7MBBT4AY ['B00FR6VL50', 'B00829TIEK', 'B008X1BV2Y', 'B0093H4VBU', 'B000B9RI14']\n",
      "A2NYOY6H42SORF ['B009ISU33E', 'B0069R0R10', 'B00CRJVZOM', 'B0001FV3AK', 'B003MVZ60I']\n",
      "AMWL7XIWIPXEZ ['B004QBUL1C', 'B000GQMHBI', 'B002G1YPH0', 'B0076W9Q5A', 'B000CP4JMS']\n",
      "A1XEQGYY1IL8CD ['B001G4QXLE', 'B0056TYRMW', 'B002VGWFF4']\n",
      "A8X478DM3KAWM ['B000N99BBC', 'B00023433U', 'B000V2BYJI', 'B004XXMUCQ', 'B001UE6N6A']\n",
      "A1OES7R7FDAT2L ['B001QUA6RA', 'B001MSU1FS', 'B000FQ2JLW', 'B0000B006W', 'B001DUQU0A']\n",
      "A2YYHSORXIHZCS ['B008JJLW4M', 'B004FA8NOQ', 'B003X26VV4', 'B000UXZUZC', 'B003ES5ZSW']\n",
      "A2XX2A4OJCDNLZ ['B0019EHU8G', 'B00IX2VGFA', 'B00FSA8VQ2', 'B00DGBVMAW', 'B003XN24GY']\n",
      "A1UL2JH7XOUGM5 ['B000TG4AGU', 'B00894YWD0', 'B0002Y5WXE', 'B002NEGTSI', 'B00009R6UI']\n",
      "A1U11IP6K6NHAK ['B004286VMW', 'B003WU6KFO', 'B002JCSV5I', 'B00IMZKDOS', 'B003O1UYHG']\n",
      "A1H98YV5K5BUX0 ['B0000BZL5A', 'B000UMX7FI', 'B001GCU0MY', 'B00009EFQT', 'B00009R6N0']\n",
      "A2ULZRSHXS3HL7 ['B008JJLW4M', 'B002ISXBFI', 'B003ENIC6E', 'B00CRB9CK4', 'B001F8SCRE']\n",
      "ABH9D1TEOJ56E ['B00006LV79', 'B00008O35W', 'B00008PVXA', 'B00006JLOS', 'B00006JLOT']\n",
      "A4GHPW9AAH1NY ['B000PGDT8O', 'B008195P34', 'B0011V1KZ6', 'B004GWY5V8', 'B00166EUI0']\n",
      "AMRMK86X3PKXD ['B0009S5HQA', 'B001N85NMI', 'B004TLH6GM', 'B002WNAFSU', 'B001DWI1F0']\n",
      "A2BIJMB2BITQUM ['B0043WJRRS', 'B00AR95FOU', 'B0013FRNKG', 'B000652M6Y', 'B003N2POXK']\n",
      "A3H4S6YO9VNGDZ ['B004S4R5CK', 'B00212NO6W', 'B006WAGG14', 'B00066FH1U', 'B005J7YA4G']\n",
      "A7FDGFK0KN7QG ['B005IMFX2K', 'B0074WDGAI', 'B0058G40O8', 'B00E87OITK', 'B0042X9LC4']\n",
      "A2DIQTZPF26T1L ['B002V88HFE', 'B004GF1PC2', 'B002TA7VO2', 'B0037ATHF4', 'B0096FT902']\n",
      "A27TN8D0CZ8LUY ['B003ES5ZUU', 'B005L38VPC', 'B003Z4G3I6', 'B00BQHD4B8', 'B009SYZ8OC']\n",
      "A1KI7YHQEOS1RB ['B0019EHU8G', 'B0041Q38NU', 'B004GF8TIK', 'B004Q3R9AQ', 'B005PSQ5TM']\n",
      "A3ER6ARJ23CIN8 ['B00G0OYHCW', 'B008JJLW4M', 'B0099SMFVQ', 'B003UE52ME', 'B00A4ZXE40']\n",
      "A21Q9JVG4SII51 ['B003MTTJOY', 'B0019EHU8G', 'B003SX0P1A', 'B000BTL0OA', 'B007PA1K84']\n",
      "A3CFU12GS5CZCN ['B007WTAJTO', 'B0062EUE54', 'B004NDEWWW', 'B008EQYRRY', 'B00004WCFT']\n",
      "A3AZI828WJN1CD ['B0036V9AGU', 'B00834SJSK', 'B005IHAIC0', 'B007ILK234', 'B005DKZTMG']\n",
      "AT2J7H5TRZM8Z ['B00006IS65', 'B00005QFZF', 'B00005V619', 'B0000645C8', 'B000031KIM']\n",
      "A2MJ8OL2FYN7CW ['B006ZBWV0K', 'B00CPGYNV4', 'B004GYVPGE', 'B007RNCLBY', 'B008LURQ76']\n",
      "A14X244VGHWPSX ['B009YQ8BTI', 'B003M0NT1M', 'B00829TIEK', 'B001D8S9E2', 'B001A4LVYY']\n",
      "A1H0D7635GEEJ1 ['B001P05NBA', 'B004XC6GJ0', 'B0058G40O8', 'B000KUQ8FG', 'B001ISKNKA']\n",
      "A17RFKCYS69M3Y ['B00081A2KY', 'B004K1EOCA', 'B0002JKGRQ', 'B000EDG6EM', 'B006CQR7CK']\n",
      "A1RCGK44YXNBBB ['B000E8OVNK', 'B000FAQ6S0', 'B000GBGPAW', 'B000FAPY3S']\n",
      "A3D6OI36USYOU1 ['B00AWBHFRI', 'B000J47W12', 'B000068CNU', 'B004SAR998', 'B000UWYM5C']\n",
      "A197T2N6RU7K56 ['B000PH1DL8', 'B00006FMPP', 'B001QFZMBU', 'B003Q0BPC8', 'B000N254LU']\n",
      "AFFVUZEGP1FDQ ['B00HG1L334', 'B00G4V0QSK', 'B001O94GNS', 'B00FJWKYYG', 'B004ZEZB92']\n",
      "A1PSVZBM894R5H ['B000RZQZM0', 'B0007GIXS8', 'B003CJTQJC', 'B001LK6XFY', 'B000V4PZCI']\n",
      "A3BY5KCNQZXV5U ['B000QUUFRW', 'B009LL9VDG', 'B00BN1Q5JA', 'B0071BTJPI', 'B0007Y794O']\n",
      "AMVXR3NPL0GWX ['B001E1Y5O6', 'B001XURPQI', 'B00508ZURU', 'B000BTCJNG', 'B004XY65WQ']\n",
      "A1MBXP3NZM2BUO ['B009A6CZ30', 'B00EO302SO', 'B002RM08RE', 'B00CD1PTF0', 'B00829TIEK']\n",
      "A11D1KHM7DVOQK ['B00005QBUU', 'B000FONSEQ', 'B000069106', 'B0002I5RHG', 'B0002SQ3Z6']\n",
      "A2FXBWR4T4OFQ ['B000QUUFRW', 'B001EQ4BVI', 'B001PI9AAC', 'B004TJ6JH6', 'B0001XGQTA']\n",
      "A1W4F91DH3XPB2 ['B0023B14TK', 'B00A81ICCE', 'B008ULPE70', 'B003XU78OU', 'B004GUT1QO']\n",
      "A19NP8YYADOOSF ['B00IVFDZBC', 'B00BOHNYU6', 'B00006ELLL', 'B002LTWDSK', 'B00EH5UGR6']\n",
      "A23ZNGL704AW7O ['B00HZWJGS8', 'B004CLYEDC', 'B001DJ64D4', 'B000RZNI4S', 'B005CLPP84']\n",
      "A1ZVFCPHCWFV71 ['B00834SJSK', 'B0079UAT0A', 'B00B3329WA', 'B000V1VG2E', 'B00740MR78']\n",
      "A1FF2PLA84KNAE ['B00DK2JQOQ', 'B000P5AJXI', 'B0030AZ44O', 'B004CYE3QC', 'B004L08DCM']\n"
     ]
    },
    {
     "name": "stdout",
     "output_type": "stream",
     "text": [
      "A18OTCHQ6MXD6X ['B002YTDE5I', 'B003NR57BY', 'B001CCAISE', 'B004RBX0GO', 'B0049XGNKK']\n",
      "AXU8RH1DEV21H ['B00BQ4F9ZA', 'B000051299', 'B004OB0EBQ', 'B0009WU65I', 'B006B7R9PU']\n",
      "A2ZDY0V4Q1SZD7 ['B003ES5ZUU', 'B001TH7GUU', 'B00483WRZ6', 'B008AST7R6', 'B004C9P9TM']\n",
      "A10NMELR4KX0J6 ['B002VKVZ1A', 'B007SZ0EOW', 'B000YB862E', 'B003D0WIQS', 'B00466X9SY']\n",
      "A2I18AO597DSDI ['B0032ANC5U', 'B006ZT4VA0', 'B004ROGUMC', 'B003B3P2BK', 'B004GAR91S']\n",
      "A3HRDRQ5VAFPQS ['B006K551WQ', 'B000W09ZTK', 'B003LSTD38', 'B0092ML8QW', 'B00004ZC9V']\n",
      "A11ULAZ4B5ZXC8 ['B0019EHU8G', 'B007YV0UQW', 'B0019SSSMY', 'B00698ZWOG', 'B0050NF926']\n",
      "A132ETQPMHQ585 ['B000IJY8DS', 'B000LRMS66', 'B000BM8RFM', 'B007BYLO4E', 'B005TN0MMY']\n",
      "A3S0DBBR693O06 ['B000ID7QNI', 'B0016LFN2C', 'B001MSU1HG', 'B0002JTD2K', 'B000067S60']\n",
      "A3Q4TYJVAM4IRM ['B002BH3Z8E', 'B003UI62AG', 'B004CLYE8C', 'B000067RT6', 'B003I4FHNA']\n",
      "A11EXFO14WEJM1 ['B001TH7T2U', 'B00E87E1OM', 'B0001G6U52', 'B003M0NURK', 'B000MANFIC']\n",
      "AQ55H30MZSV0Q ['B0007LJHVA', 'B005S0XYKK', 'B007PJ4P4G', 'B003LR7ME6', 'B0038L495U']\n",
      "AUBEFRFHJR64Y ['B0000X0VCY', 'B004U1Y3IU', 'B00B3329WA', 'B00B332A24', 'B004O0PAKW']\n",
      "AHROSV6WJOEGY ['B002V8C3W2', 'B0007QKMQY', 'B000EPJL1A', 'B001AOK7KI', 'B000065BP9']\n",
      "A1ILWPH1GHUXE2 ['B0074FGLUM', 'B008LCYIEI', 'B001NTFAOS', 'B0001FTVE0', 'B0035LD0EY']\n",
      "A31HE83MU98GBV ['B004M8ST5Y', 'B004DI7CW4', 'B003DQPE40', 'B004XNLR16', 'B00EPQ97C2']\n",
      "A2V9DTXTQ5YIMK ['B0079UAT0A', 'B009NHWVIA', 'B005I6EU48', 'B0097BEF1S', 'B00BGIQPSG']\n",
      "A1UNJ46NSB352E ['B001BM5XB2', 'B00JC5Y6WM', 'B00871SR68', 'B00HFRWWAM', 'B004M8SBCK']\n",
      "ALHC64J88LVWO ['B00C2P61FO', 'B00E0EY7Z6', 'B00E3AKF1C', 'B00001P4XH', 'B000J1DA3Y']\n",
      "A1PS4OYWUB0VX ['B003ES5ZUU', 'B007R5YDYA', 'B002V88HFE', 'B007P71IM0', 'B003NR57BY']\n",
      "A1ZTR0FR5AW9B4 ['B009D79VH4', 'B007FFIF0K', 'B0054ENDO2', 'B000PO3CTM', 'B002K42W50']\n",
      "A2EF8N7ZE7ONWX ['B0034CL2ZI', 'B001OI2Z4Q', 'B0015YJOK2', 'B00HRQB28Y', 'B001DJ64C0']\n",
      "AQB4DH57MSZSC ['B00829THVO', 'B002FB684E', 'B0090Z3QG6', 'B002MCZJ78', 'B000J1HPXK']\n",
      "A1DSRM2P0WGQNS ['B000N99BBC', 'B001DJ64D4', 'B0079UAT0A', 'B005O88CUS', 'B000T8CWFE']\n",
      "ASF3J4UYV34KA ['B002V8C3W2', 'B001DHLC3S', 'B001KLEUOA', 'B0002MQGKO', 'B000UTQOEW']\n",
      "A1J5HIF41ENSMZ ['B006U3O566', 'B009D79VH4', 'B005O88CY4', 'B00858I53S', 'B00006L4F1']\n",
      "A3EX8ZFNVDHGPM ['B007PJ4P4G', 'B00354MVP0', 'B003L4P872', 'B008TWWLAS', 'B005F25IL4']\n",
      "A15QYHQH80W30L ['B00005LEN4', 'B000VDCT3C', 'B000HJPK2C', 'B003UI62AG', 'B000TKHBDK']\n",
      "A3D01HLSUFEZQY ['B0018ZDGAC', 'B000AO3L84', 'B0013LRSRS', 'B0042IEVD8', 'B002TI71HQ']\n",
      "A1GNYV0RA0EQSS ['B0079UAT0A', 'B005KFONIU', 'B00DR0B7Y8', 'B00426C55G', 'B000U5ROY0']\n",
      "AU2UJF4I7KAWL ['B0062EUE54', 'B005CPGHAA', 'B005BOMTT0', 'B004K8WPUQ', 'B004KCAQ9O']\n",
      "A2F4HP0J5VNOYR ['B0000BZL1P', 'B003OC6LWM', 'B00009R6WY', 'B000LRMS66', 'B000P3ZADE']\n",
      "A1FDSZISWIXH1A ['B00426C57O', 'B005KQ2O26', 'B00829THVO', 'B00IVFDZBC', 'B004CLYEH8']\n",
      "AP2NZAALUQKF5 ['B000K4V4X8']\n",
      "A6KL17KKN0A5L ['B004WB8EYM', 'B00009R6WT', 'B00004YZQ8', 'B0030MITDK', 'B003Z4G3I6']\n",
      "A95PWI4S6WHGL ['B00193U3O0', 'B0037NX6JY', 'B002K3Z3E8', 'B00F3F0EIU', 'B005N4RO4I']\n",
      "A1R76R4E6A8S3B ['B0046TJG1U', 'B000O8WE66', 'B004LB4MZS', 'B00FH66AW4', 'B00CD1PTF0']\n",
      "A3J6Q0Y0SKY7AR ['B001DJ64D4', 'B001L1H0SC', 'B000CRFOMK', 'B005HJ38OO', 'B007V9SNNY']\n",
      "A2I6GN7OHB9JKF ['B002RCNX8K', 'B004C9M7UG', 'B00CU9GOAO', 'B00603S1OS', 'B003I632JY']\n",
      "A1PV5T5S4D5NPI ['B002WE6D44', 'B00006I5J7', 'B004LNFJCQ', 'B007V5A1BK', 'B001RNOHDU']\n",
      "A31HOWJKEIY037 ['B001QUA6RA', 'B001UI2FPE', 'B000FQ2JLW', 'B001O4EPHA', 'B003M0NURK']\n",
      "A3OIMUR42XIOFQ ['B006EKIQYM', 'B00CB2F65O', 'B004CLYEDC', 'B00834SJSK', 'B007BWTOHU']\n",
      "A2RS66Y79Q8X0W ['B004S76NH0', 'B001KELVS0', 'B0019CSVMW', 'B00009VQJZ', 'B004TJ6JH6']\n",
      "A1LA4K5JF78BER ['B000EPRG6W', 'B00004TX6Z', 'B000WHSFYY', 'B001UQ6F5M', 'B005M1777G']\n",
      "AHD3NZHDUZ5I6 ['B0013J0502', 'B0013FNZ1M', 'B0019FJM7W', 'B00B588HY2', 'B005UGZPNQ']\n",
      "A19RGDJPNZ7NZ ['B0049SCB2Y', 'B006EKIQYM', 'B004GUT1QO', 'B001NJ3H0C', 'B0080H7UZS']\n",
      "AYO1146CBIV5C ['B001S4OTS6', 'B005BCCML2', 'B00AWRPIWQ', 'B008ULPE70', 'B008X9Z8NE']\n",
      "A19XPAWSWDRI3B ['B001KB21KA', 'B006TAEH7W', 'B005DKZTMG', 'B004Q81CKY', 'B002QUZM0U']\n",
      "A3HQAPXAJV7PRX ['B00CD8ADKO', 'B000GABCY2', 'B003BLQHN4', 'B005QBK5V2', 'B005I6EU48']\n",
      "A2O6HZ2B9YSRXR ['B001TH7T2U', 'B0053OLY9O', 'B000HPV3RW', 'B000X24ISU', 'B0036Q7MV0']\n",
      "AI8EMB0HUC6Z5 ['B0019EHU8G', 'B003ES5ZUU', 'B00HVT27B8', 'B001TH7GUU', 'B003CFATT2']\n",
      "A2U3OEIK1CUPIK ['B001AW8W7A', 'B00012FVYC', 'B009IZ82DA', 'B000UPJR4A', 'B000W2MW7U']\n",
      "A12ANFNOSMW5VD ['B0034CL2ZI', 'B0068ZWZY0', 'B008F4NL04', 'B00634PLTW', 'B009VXUFLG']\n",
      "A3PDWA32BAMB2Y ['B0002Y5WZC', 'B00104XCVO', 'B005HGBEZ2', 'B00834SJNA', 'B00BCXF4HI']\n",
      "A2WA8TDCTGUADI ['B003CFATT2', 'B004CLYEDC', 'B0015313Q6', 'B009RH9FR6', 'B009CQNPYQ']\n",
      "A28J3123I1QDKI ['B001TH7GUU', 'B00316263Y', 'B005FYNSPK', 'B00426C56U', 'B005DKZTMG']\n",
      "A19FRW264WZTGP ['B001T9NUJE', 'B004CLYEFK', 'B001S4OTS6', 'B00HMREOLK', 'B000QWEN5K']\n",
      "A3D822N1K2IAQD ['B005DSPLCQ', 'B007PTCFFW', 'B00CD8ADKO', 'B00D1GYNT4', 'B0081FLFQE']\n",
      "A2JOPUWVV0XQJ3 ['B0052SCU8U', 'B001TH7GSW', 'B00212NO6W', 'B00000JDF5', 'B0055D66V4']\n",
      "A1PVJICI412IN4 ['B00840353W', 'B0009S5HQA', 'B001ID829O', 'B00CDIK908', 'B0000TO0BQ']\n",
      "A3VZH0PWLQ9BB1 ['B00IVPU786', 'B003WU6KFO', 'B003M4JXN6', 'B000PDV0CE', 'B003DZ14EU']\n",
      "A2SH6A32BE6NEV ['B008EQZ25K', 'B001DJ64D4', 'B004CLYEDC', 'B002K9IHGI', 'B0036V9AGU']\n",
      "A3EHJ5519LG7TR ['B009F1I1C4', 'B0019D6H2M', 'B004Q3RE2O', 'B000Q3VECE', 'B003IE49T8']\n",
      "A1UTM65Y3G9HUL ['B000OGX5AM', 'B0051A8TG6', 'B009WU5XUG', 'B0083YF55U', 'B00BB0ZSIC']\n",
      "A15Q2L6DYRTFIU ['B00483WRZ6', 'B00796I546', 'B001HJTK5Y', 'B00394T7BW', 'B002SSK9VW']\n",
      "A24ARANWS5E3T8 ['B0058UUR6E', 'B004TJ6JH6', 'B002QEBMAK', 'B0023B14TK', 'B00139W0XM']\n",
      "A307Y3LMCVEZS1 ['B001QFZMCO', 'B001FWKA7A', 'B003EO1H7E', 'B001EPVOQY', 'B005KFHVES']\n",
      "A3FKQQTSMHOCE0 ['B003SGCO3E', 'B00009XVCZ', 'B000AYGD8E', 'B000053HH5', 'B001U0OFKU']\n",
      "A2XRIU3SOYZ0ZC ['B00D6XSRL2', 'B003ZTKFEE', 'B0000CFYM9', 'B0001LTT64', 'B0006TIEZS']\n",
      "A1KY5G5FP31F2F ['B00834SJSK', 'B0043WJRRS', 'B009SYZ8OC', 'B003TFDUJ6', 'B007PTCFFW']\n",
      "A1D27BCSYV7VWH ['B005IA843W', 'B005INZKKE', 'B00629NHW6', 'B00003CWDG', 'B00AWYMXZY']\n",
      "A87CILADRIZW0 ['B004GF8TIK', 'B005FYNSPK', 'B004XC6GJ0', 'B000Q8UAWY', 'B001XURP7W']\n",
      "A15T9G38F589KM ['B00E87E1OM', 'B007KZQM8W', 'B00A0JUNWQ', 'B00F6E8OUS', 'B00834SJNA']\n",
      "AD0J5KK4WQXNS ['B00006B9H8', 'B0002ED4PM', 'B000TXEE14', 'B00064V6RG', 'B0002ZAIMI']\n",
      "A2K5RRMPICZ606 ['B000ZSUQ9M', 'B0045XAIFU', 'B003TFEHMU', 'B0007Z1M50', 'B005SAKW9G']\n",
      "ANTN61S4L7WG9 ['B00HVT27B8', 'B000N99BBC', 'B00HHRP11C', 'B00HFRWWAM', 'B009NHWVIA']\n",
      "A13WOT3RSXKRD5 ['B0054JE706', 'B004V4HLCG', 'B0041Q38NU', 'B008SFPMRK', 'B00D601UC8']\n",
      "A1Z7U9K6X3FEOU ['B000VDCT3C', 'B003GSCS3U', 'B004Q81CKY', 'B002WP2QGM', 'B00004T8R2']\n",
      "A2SGAJWXG65464 ['B007HBLX8I', 'B005U0M9B8', 'B000FIH0ZA', 'B0099PJE7W', 'B000U0HRKG']\n",
      "A2DS9DLMSU2M2Z ['B0001GMIOE', 'B0019CSVMW', 'B0036WTDHK', 'B000O8JZIG', 'B0000C4G79']\n",
      "AW3LX47IHPFRL ['B006YLTLUY', 'B000WG6XW6', 'B000IXP932', 'B0055D66V4', 'B0002UBDDG']\n",
      "A3E68EBGXTWDNP ['B000VDF5RO', 'B000HDFXU2', 'B000062VUO', 'B003A6H1OY', 'B001GS8G06']\n",
      "A292TRC6DX2GKK ['B00081NX5U', 'B0002Z240M', 'B000FBK3QK', 'B0026HSQ3I', 'B0051CAE1C']\n",
      "AWPN47SSWK1JV ['B009LL9VDG', 'B0035JJJPA', 'B001XURP7W', 'B001NPDKTY', 'B003Q6CU12']\n",
      "AY6A8KPYCE6B0 ['B00CD8ADKO', 'B00834SJSK', 'B00834SJNA', 'B00CD1FB26', 'B00829TIEK']\n",
      "A3DQWFWINN3V5A ['B000BTL0OA', 'B00004Z5M1', 'B0019MEIOM', 'B00426C57O', 'B00064V6R6']\n",
      "ADKGE078JK8K7 ['B00426C57O', 'B003HIXOOG', 'B001RB21JY', 'B0043T34RK', 'B005755U0I']\n",
      "A19HKRB4LU5YR ['B002TLSOG0', 'B00A0JUNWQ', 'B00B981F1U', 'B0000CE1UO', 'B0052SCTLI']\n",
      "A1GBT4UN2RW7XY ['B00FFJ0HUE', 'B007KZQM9G', 'B000EWI8IK', 'B00HHAJRU0', 'B00G1YKHHA']\n",
      "AZBXKUH4AIW3X ['B008EQZ25K', 'B00316263Y', 'B00008AWKZ', 'B005DKZTMG', 'B006U1YVZ8']\n",
      "A1N3EH28S4DI8L ['B0000BZL1P', 'B002NO7PWC', 'B001KELVS0', 'B00007GQLU', 'B00CO1I29O']\n",
      "A2OTQMC69J8MUI ['B000M2TAN4', 'B007WTAJTO', 'B000UXDHOI', 'B009MAKWC0', 'B008OHNZI0']\n",
      "AA8RBTN3J2F5H ['B005H3Q57M', 'B000V1PAWQ', 'B005HMKKH4', 'B007BWTOHU', 'B0077M2958']\n",
      "A1LD5SE8IZ1H70 ['B004W2JKWG', 'B0018QNYIK', 'B00BG5M93Y', 'B000GQMHBI', 'B000FJ89UO']\n",
      "A28525P0S5ZVJ3 ['B005M1QP7O', 'B0049S6ZUS', 'B00FB45SI4', 'B00009X6PH', 'B00CRXZPC6']\n",
      "A1VLVWTLV3LVHR ['B00139OIRI', 'B005G5EAGE', 'B001MTE32Y', 'B0006BKH3S', 'B001C4ETU0']\n",
      "A9J4UURM4OSDW ['B000V5P90K', 'B0096W1OCG', 'B000UMX7FI', 'B000RZNI4S', 'B001GIPR5S']\n",
      "A1L1N3J6XNABO2 ['B005J7YA4G', 'B002HZW6WQ', 'B0041Q38NU', 'B0050RKH2Y', 'B007HA3UYE']\n",
      "A341HCMGNZCBIT ['B00AR95FOU', 'B0032JRRXY', 'B000WQ21SQ', 'B0032JRRWU', 'B00BB4UKOK']\n",
      "A3F3B1JPACN215 ['B001P05NBA', 'B009YT6PPC', 'B000N99BBC', 'B003MVZ60S', 'B00FSA8VQ2']\n",
      "A35X2JJI49OBZP ['B003L1ZYZ6', 'B00005NIMJ', 'B008HK3SSG', 'B000M2GYF6', 'B00EIDWYR2']\n",
      "A34CSXOGVYF94S ['B001F51G16', 'B00G4UQ6U8', 'B00HG1L334', 'B00G4V0QSK', 'B005LAIFE2']\n",
      "A3R19YKNL641X3 ['B000TKHBDK', 'B0082E9K7U', 'B00BERGFV6', 'B00IMZKDOS', 'B00HFRWWAM']\n",
      "A1UEL5C1N6E5SE ['B001RB1TIS', 'B000EMWBT2', 'B000VE2RP6', 'B00746LVOM', 'B001AYCNIW']\n",
      "A3VBXQKRM7A4JR ['B003FVVMS0', 'B004CLYEH8', 'B0097FZRYI', 'B000BRO3PA', 'B001GCQ3KM']\n",
      "A2L4ZGN7GZJ95T ['B000N99BBC', 'B00JX1ZS5O', 'B008R7EWEI', 'B006MPUTBC', 'B00BFO14W8']\n",
      "A1UMSB7LAW0RIR ['B008MF48J4', 'B004GUT1QO', 'B00A7PPLP2', 'B0095F5ACE']\n",
      "A18NDN2CIG2TKR ['B003QVWJM2', 'B000F2JUOK', 'B00178T5V4', 'B00AYK7J9G', 'B001BSQK8Q']\n",
      "A3NXJDNTQK2YJL ['B00005T3G0', 'B00EDCF0MY', 'B004SBBD8U', 'B00ELPSEVW', 'B002EUCU3O']\n",
      "A1RPJHUVVSI98A ['B005LFT3GG', 'B00829TIEK', 'B000L47AHG', 'B009UEAZ84', 'B00007M1TZ']\n",
      "A2MR696ZU17F12 ['B001UI2FPE', 'B00829TIA4', 'B001VO4MOY', 'B004GW25WY', 'B003VAM36K']\n",
      "A5GPH59NDWJRB ['B001TZUS98', 'B0002Y5WZM', 'B005FVNGRI', 'B001ELJO2E', 'B00DQZO0R0']\n",
      "A2CPP7BZKOF9TP ['B009X3UW2G', 'B004G6002M', 'B002VPE1Q6', 'B003AVMRQG', 'B000RHZJN4']\n",
      "A1ITRGMT80D5TK ['B00CD8ADKO', 'B0035JJOLE', 'B00B3PDHBU', 'B004SKBJP8', 'B009LU80RK']\n",
      "ACYZXQ2JKPZKT ['B0000BZL1P', 'B0000BZL0G', 'B003FVVMS0', 'B00005LENO', 'B0045TYDNC']\n",
      "A9Y5O2R4D6EH5 ['B00AJHDZSI', 'B000O8WE66', 'B0001GMIOE', 'B004CLYEFK', 'B006W8U2MU']\n",
      "A2NX6MFZP8TM6S ['B00004Z5M1', 'B001O94GNS', 'B009F7IBZK', 'B006ZW4HY2', 'B001LK8P14']\n",
      "ABUE0ALHKWKHC ['B003Y3TS4Y', 'B00CD778LC', 'B00BOZCUG2', 'B004JWA70I', 'B00028VKLI']\n",
      "AN9WA4C5E7YY5 ['B000E9VKUQ', 'B00810ICRO', 'B004MG9YYQ', 'B002HK8TE0']\n",
      "AAXAKFQEAQPWC ['B001T9NUJE', 'B001TH7GVE', 'B000VDCTCI', 'B000UO6C5S', 'B004SBBD8U']\n",
      "AULFLNWJP1QXY ['B004N625BO', 'B006JINHYS', 'B00007E7K9', 'B004C13VWC', 'B001IWOBA4']\n",
      "A23ZXHFLC6TBLD ['B004G6002M', 'B002EOUUAK', 'B0063K4NN6', 'B000067RT6', 'B000V1PAWQ']\n",
      "A7Y6AVS576M03 ['B000NDO744', 'B004QR56SE', 'B00001OWYM', 'B0007XXU3E', 'B00005T408']\n",
      "A3O5ASFUXC32UA ['B002JCSV8U', 'B00005LEN4', 'B00009R6N0', 'B003U2YCZE', 'B001CZFJJO']\n",
      "A2Y1WNETD9AYHO ['B0007LJHVA', 'B00462RMS6', 'B0027CTURI', 'B003ZHV70M', 'B008GVOVK0']\n",
      "A38CHSS1ZAE51B ['B0046TJG1U', 'B000UO6C5S', 'B00413PHEQ', 'B005Y5891S', 'B0043T7FXE']\n",
      "A1Y051MQ2SVPFI ['B00D5Q75RC', 'B005IHAIC0', 'B005FYNSPK', 'B000F7JCRA', 'B004QKJXG2']\n",
      "A1X1CEGHTHMBL1 ['B000BTL0OA', 'B007VPGL5U', 'B0002CPBWI', 'B009XCCC52', 'B007BJHETS']\n",
      "A1VS1LL905P5L5 ['B0001DBEM4', 'B00006HZ0L', 'B00AAHT8JC', 'B000J43HJ8', 'B00G024X32']\n",
      "A13EQE9EY2ET93 ['B00FR6VL50', 'B00HFRWWAM', 'B001CY0P7G', 'B00BXF7I9M', 'B00C46K0X0']\n",
      "A19N3S7CBSU6O7 ['B001XURPQI', 'B000OG4E2U', 'B00011KHTM', 'B003CP0K8C', 'B002BXCNDQ']\n",
      "A1PL7QILVQV3IF ['B00081A2KY', 'B00029U1DK', 'B000JE7GPY', 'B0013AV4M4', 'B001HSOFI2']\n",
      "A1VOFY3QFT9WCG ['B006EKIQYM', 'B003MTTJOY', 'B004LSNF04', 'B00008OE6F', 'B00DBA9YD0']\n",
      "A2D0CO1OA6DSWY ['B002WE6D44', 'B00020S7XK', 'B001K9BFB8', 'B0015DYMVO', 'B00AHBKW2S']\n",
      "A3QDMDSANPYGUX ['B004MF11MU', 'B000KZW9WM', 'B00A6HH28U', 'B005HGG3NK']\n",
      "AMS2CPERWN7JV ['B0043M668G', 'B005VONPT8', 'B006W3ZWXE', 'B00008ZLHG', 'B000BPRGK6']\n",
      "A3HR0ZZOFKQ97N ['B0088PUEPK', 'B00F0DD0I6', 'B00AXZWG8Q', 'B004XC6GJ0', 'B00A4ZXE40']\n",
      "A111WCUF5KA2I6 ['B007WTAJTO', 'B004N8ZQKY', 'B00D7CWSCG', 'B006Z95LHW']\n",
      "A2HJY7418G1KV1 ['B001TOZTCA', 'B003XU78PE', 'B0000C4G79', 'B001G5ZTLS', 'B001O9X9EU']\n",
      "A1A5KUIIIHFF4U ['B000I20AJ6', 'B00007IFED', 'B009FX5CY2', 'B000HEEG54', 'B003VWU79I']\n",
      "A2ZFBTGPDP6PH6 ['B000QUUFRW', 'B000EVSLRO', 'B002MU1ZRS', 'B0011NVMO8', 'B000V1O1J4']\n",
      "AVSMRPI23DQI2 ['B006WAGG14', 'B003G2ZJTG', 'B0050YG3CU', 'B0049H8W1Y', 'B003XMAD18']\n",
      "A34LQ791ACZ0JC ['B000N99BBC', 'B002SIMPXM', 'B000O8JZIG', 'B00336EM0W', 'B0040JHMIU']\n",
      "A11KQADBYE0UZL ['B0036Q7MV0', 'B000M2TAN4', 'B00539LP34', 'B0058UUR6E', 'B003UT2E8E']\n",
      "A3Q6ZPW60CVF2L ['B0065DUJ0C', 'B001URWAYG', 'B0063W7XJK', 'B0017J3XMU', 'B009YDO05U']\n",
      "A2M14CFAMF8J7I ['B0034CL2ZI', 'B003CFATT2', 'B000N99BBC', 'B008R7EWEI', 'B0081FLFQE']\n",
      "A1QQA7Y92L4F9R ['B001C271MA', 'B001U02JZ8', 'B007WTAJTO', 'B0000BVYTV', 'B0006BHCEK']\n",
      "A3223W5IROMYTY ['B00COF7DGS', 'B0019N4RUQ', 'B00D02AHEO', 'B00B2X0SME', 'B00AVYNS7M']\n",
      "A15G70V9OBTOVO ['B004HO59M4', 'B008NENG1A', 'B001KELVS0', 'B003WJR69E', 'B003T0EYVE']\n",
      "A2NQMVTQ4PVLL ['B006OBGEHW', 'B000JE7GPY', 'B004NY9UV4', 'B008J26ZL4', 'B001XURP7W']\n",
      "AN0JK8OQLUC55 ['B001L1H0SC', 'B000GHVZO2', 'B001CN7EQ2', 'B0047ELBN0', 'B001DKBNMA']\n",
      "A2XHOLOLKGV1FE ['B001FB578I', 'B002ZCXJZE', 'B001F7AHOG', 'B00HLDFNKQ', 'B002MY8ENM']\n",
      "A356RFKNIG043B ['B00HSQAIQU', 'B003M0NURK', 'B002IPH9ZO', 'B002YOENAS', 'B000EBBJ6Y']\n",
      "A1AZQCVCDBQP6 ['B004W2JKWG', 'B003MTTJOY', 'B00A14ZT6U', 'B001RQ2YF0', 'B005F778JO']\n",
      "A2ZRG5NOFZ47RK ['B002V88HFE', 'B0000BZL1P', 'B0043WJRRS', 'B00009R94Q', 'B004TA0AUW']\n",
      "A1XE3M22N91451 ['B002V8C3W2', 'B001MSU1HG', 'B002ZIMEMW', 'B001W26TIW', 'B001NTFATI']\n",
      "A5QDZEOIMQ4LW ['B00009XVCZ', 'B002C76W4C', 'B004ZNA3UA', 'B00009X3UA', 'B0013J0502']\n",
      "A18L9A64XNGVGU ['B001TH7T2U', 'B002MAPRYU', 'B003S6ID20', 'B002ROEKBW', 'B005C31H34']\n",
      "A3EM243NDJ4DF3 ['B00DR6DQZA', 'B005E8MVV4', 'B002TLTE6O', 'B0043M668G', 'B00BYRPM9M']\n",
      "A64LEAZ2QF8L2 ['B0016SN49Y', 'B001G5ZTZO', 'B001SER47O', 'B0071BTJPI', 'B002V88HFE']\n",
      "A2JXS1JII6SAUD ['B002HWRK66', 'B001FA1O18', 'B003BO4H56', 'B00CCEH51Y', 'B001NPEBEC']\n",
      "A214W7SK2DJQ99 ['B00101UHS8', 'B009SJ7UWU', 'B004TGZ7WM', 'B003XCDA9A', 'B001SVJUPG']\n",
      "A14Z6D3IRJ23F7 ['B000067RT6', 'B00BT7RAPG', 'B00CZDT30S', 'B008YDJHWM', 'B006FCQDZS']\n",
      "A2M9ME0N2S3R39 ['B001VO4MOY', 'B0054L8N7M', 'B008L1OCF4', 'B001AYW91I', 'B0092MD8OW']\n",
      "A27Y4OEC9MD9PA ['B00009XVCZ', 'B001MT8J4W', 'B002NWO9EG', 'B0039ORBLK', 'B0001MB7RW']\n",
      "A145LBW8ZHF0TW ['B000067RC4', 'B000O5TH14', 'B001H9O6QW', 'B0015YJOK2', 'B001TOD7ME']\n",
      "A2OOXVZ6B1VZ9A ['B00004Z5PY', 'B0016BQS12', 'B003CP0K9Q', 'B00452V66G', 'B004VTAVLE']\n",
      "A1LAGS8H4A2DR7 ['B00BWX2OU8', 'B0077V88VI', 'B000BKY3Q6', 'B00142JKSG', 'B0000645RH']\n",
      "A7Z2J9V37ABCO ['B009NB8WR0', 'B002V88HFE', 'B001F51G16', 'B0076W9Q5A', 'B009VV56TY']\n",
      "A1S7BFT0HDF3HA ['B006JINHYS', 'B000EXS1BS', 'B0002D03ZW', 'B000MDJU06', 'B0015EA3NO']\n",
      "A200RY2ELZL2Q3 ['B0062EUE54', 'B006TT91TW', 'B00829THK0', 'B003IZ9XTI', 'B003F5NS9W']\n",
      "A3094EPI56GKZ6 ['B007KZQM9G', 'B000BTL0OA', 'B00DQZQHBW', 'B000O7PH34', 'B00012F8AY']\n",
      "A12DLJESJKM1OQ ['B000AYGDWU', 'B00006JLOT', 'B0007RALGO', 'B0000DBJJT', 'B000087KY8']\n",
      "AOWF9T81XMX2S ['B008EQZ25K', 'B001TH7GUU', 'B001342KM8', 'B003DKQB02', 'B004R7P28W']\n",
      "A28BX3MM90A6FI ['B000VX6XL6', 'B005FYNSPK', 'B002W3IXZW', 'B007FEFQDA', 'B0041MY32Y']\n",
      "A1CN1P7147QDJC ['B00BQ4F9ZA', 'B003WUBIZQ', 'B0010YWPZ8', 'B00BQ8RFAI', 'B00CGUMR2Q']\n",
      "A2VAD79S4A06DD ['B006LW0W5Y', 'B00009X3UA', 'B0088CJT4U', 'B006MPUTBC', 'B009SYZ8OC']\n",
      "A2F2GLVFRNV7JJ ['B0074BW614', 'B007BJHETS', 'B00009R94Q', 'B008ISKDL2', 'B003ZSHNG8']\n",
      "APBDZ88BBTN4F ['B003FVJYF8', 'B00CKAOJA0', 'B00511PS3C', 'B001OI2YNS', 'B000OFWJO6']\n",
      "A3S3VSXEFXBMRC ['B0074FGLUM', 'B001L1H0SC', 'B0046RE21G', 'B000MX48VM', 'B001TH7GUU']\n",
      "A1ZXMMQPYC3Z9I ['B00434OWDA', 'B00004TVSP', 'B005GC7YJ2', 'B0040FHB6C', 'B004J3V7MO']\n",
      "A33SX0AD5PYD9B ['B001TH7T2U', 'B003CFATT2', 'B000AAZQJU', 'B003M0NT1M', 'B005DOK8NW']\n",
      "A1EQ5D5JRSW23K ['B000JE7GPY', 'B001ELK2NY', 'B0095F5AFG', 'B004AK154Q', 'B009NUK6S4']\n",
      "AGILRZOT49R0V ['B00006RVPW', 'B00BCGRTFK', 'B004GHMU5Q', 'B001NPEC5A', 'B000WXH1Z2']\n",
      "A3D7BGK0P5QY0X ['B00429N18S', 'B003VAHYNC', 'B007F9XJW0', 'B003NVMDYY', 'B005LKO230']\n",
      "A3NGOG8Z78AZSD ['B00002EQCW', 'B0002YV8EG', 'B000EXS1BS', 'B003O8682Y', 'B004WK3U9W']\n",
      "A6TBR6L2D4XKC ['B001F6TXME', 'B003LZYXYU', 'B00003CWDK', 'B003A4GZUC', 'B00972M942']\n",
      "AOVTLYTHVDNUX ['B009NHWVIA', 'B007FELOZO', 'B004YG7JV4', 'B00006JPER', 'B001DAIW74']\n",
      "A2J4XMWKR8PPD0 ['B0096YTSL8', 'B00B2HCLL6', 'B007261A36', 'B001IEXK8G', 'B00AXWLGIU']\n",
      "A1KWPIORLG2QV ['B0000511U7', 'B003B41XYO', 'B002VPE1WK', 'B00829THK0', 'B0049SCB2Y']\n",
      "AC9QEWWN4W9MC ['B007WTAJTO', 'B00GQOZFNQ', 'B0084Y47SK', 'B00APCMMDG', 'B00FIYH99I']\n",
      "A2QAOP52OEB5EV ['B000JE7GPY', 'B002LK2QJK', 'B001EUE6AK', 'B006Q6RAB4', 'B00005OM4J']\n",
      "A2V7EO331SFUF6 ['B00005U21H', 'B000WXAX6G', 'B008XV7VTG', 'B004E10KFG', 'B000XA8766']\n",
      "AN9CP6J4JF91X ['B00829THK0', 'B007WTAJTO', 'B003C1FC7K', 'B000KO0GY6', 'B001XURP7W']\n",
      "AA95DWUI3ODU ['B000VWKSHM', 'B00ASLSQHK', 'B002IPHA3A', 'B0023B14TK', 'B0096YOQRY']\n",
      "AAK6SOEJY30YG ['B0036Q7MV0', 'B000092TT0', 'B001W28L2Y', 'B0002ZSFTG', 'B0019EHU8G']\n",
      "A4IL0CLL27Q33 ['B000N99BBC', 'B00002EQCW', 'B00829THK0', 'B009YT6PPC', 'B00475LJC2']\n",
      "A2L0F2T1DLTNT8 ['B000HJPK2C', 'B005L38VPC', 'B000PQL7AQ', 'B001GIPSAW', 'B001DKO7R8']\n",
      "A3TCMJ6GKZJFBQ ['B002NEGTSI', 'B000OFWJO6', 'B00066EK40', 'B000CDA802', 'B0019M9EQ4']\n",
      "A3QX0ERX4D03TF ['B00GTGETFG', 'B002Y6CJJ8', 'B005F77Z9C', 'B000TYL27M', 'B005EJH6Z4']\n",
      "AS8C336DDLSO4 ['B001O94GNS', 'B009SYZ8OC', 'B004CLYEDC', 'B00009EHJV', 'B0000CE1UO']\n",
      "A1P3DDFL423B3C ['B002MZUNXU', 'B001A4LVYY', 'B00077IG3O', 'B002TLT10S', 'B0025ZH43O']\n",
      "A11YIHB6IW352W ['B008HO9DK4', 'B001MSU1HG', 'B004MB4FEU', 'B007R1FH3K', 'B00243HHNY']\n",
      "A1MQQEM7W77L62 ['B0097BEF1S', 'B009YT6PPC', 'B00DBDM934', 'B008EC4O76', 'B003L139HG']\n",
      "ANFJYYQ0P35CW ['B0094S35W4', 'B00JF0D7RE', 'B0090Z3QG6', 'B00E8CF0CE', 'B001TICH08']\n",
      "A2EW01G2LNJN06 ['B00017LSPI', 'B002VPE1WK', 'B0015AARJI', 'B0041OYS36', 'B001MT8J4W']\n",
      "A2PC9ZZIFV31B1 ['B001TH7GUU', 'B0052RM8T2', 'B00BQ5KHJW', 'B00B9BUZW2', 'B008UH8SRM']\n",
      "A3FBM0RMCMAABV ['B0034CL2ZI', 'B002FB684E', 'B006ZBWV0K', 'B00DQZQHBW', 'B0080EBMM8']\n",
      "A2W0XCWOK3MW6F ['B003LSTD38', 'B001D8S9E2', 'B004NY9UUK', 'B008HK3SSG', 'B0013FNZ1M']\n",
      "ASJZT7DM51QEM ['B00BOHNYU6', 'B00HVT27B8', 'B00IVPU786', 'B002MCZJ78', 'B00EH5UGR6']\n",
      "A2NPN06SYI5VL3 ['B001RB24S2', 'B0089E2FZC', 'B001BAW7P4', 'B007R67FTY', 'B000RMPP5Q']\n",
      "AA91O96C1Z18W ['B00CF7E0R0', 'B000QWEN5K', 'B009GA6CAW', 'B000A8JYB8', 'B000DIM9AS']\n",
      "AWHL379EE14K7 ['B00BLCVD9I', 'B006T7QRN2', 'B0056TYRMW', 'B004Q7K3XM', 'B005PSTV2K']\n",
      "A2HXEJXEQQTM1D ['B002VKVZ1A', 'B001U3Y6AQ', 'B0023Y9EQC', 'B005UE894U', 'B0040IG1A6']\n",
      "A1VYFEJM12ZP11 ['B004CLYEH8', 'B009QUDLC4', 'B008X9Z44M', 'B008MF48J4', 'B000SMVQK8']\n",
      "AYLLSFYS3UP1H ['B002V8C3W2', 'B000I1YIDQ', 'B005OFFH5Y', 'B003NR57BY', 'B008C1JC4O']\n",
      "A3HC7NWLKCPX4X ['B000051299', 'B003UE52ME', 'B0011FKI3M', 'B0041Q38NU', 'B008XVAVAW']\n",
      "A3UXW18DP4WSD6 ['B000IJY8DS', 'B0074H3IU6', 'B003WGJYCY', 'B0000AZK4G', 'B004M5H660']\n",
      "A274X54O9CN2SR ['B005LJQNQU', 'B004286VMW', 'B0009S5HQA', 'B001PBYQHG', 'B004XC6GJ0']\n",
      "A3QKIR8J56EUI1 ['B005HY4U46', 'B0096W1OCG', 'B0036WT4H4', 'B0039BPG1A', 'B005IHAIEI']\n",
      "A18GJ9MYYO6GCQ ['B000EVSLRO', 'B006ZT4VA0', 'B003RRYAXQ', 'B000E65HXA', 'B003M0NURK']\n",
      "A3HCMJOGRRSAF2 ['B005CWHZP4', 'B002BWOO0W', 'B000V07N9U', 'B000BVC0WO', 'B002C7489S']\n",
      "AKBVYIIHWI04B ['B000VX6XL6', 'B009SYZ8OC', 'B00E055H5O', 'B002A6G3V2', 'B005518J6Q']\n",
      "A1UQUDT2Q0YENM ['B00D1GYNT4', 'B002SZEOLG', 'B00452V66G', 'B0093H4WT6', 'B00CXADBRY']\n",
      "A25TQLMIAPI1T6 ['B007KEZMX4', 'B003Y3TS4Y', 'B004GXKI04', 'B002BFA91C', 'B004XF3EQA']\n",
      "A8X8D4BUY5DFU ['B0002VAQR4', 'B003BEDQQM', 'B008KNDTB6', 'B000RQSGYO', 'B000SE6IV8']\n",
      "A31ICLWQ9CSHRS ['B0012GK3MQ', 'B007WTAJTO', 'B000VJX7DW', 'B000I1X3W8', 'B00E055H5O']\n",
      "A1USYP4AXF5I1D ['B002UUTCNE', 'B002N2EHVQ', 'B003WV5DJC']\n",
      "A3LSEIG2PIJYBL ['B0049LBJ56', 'B000063TJY', 'B003VWYBC2', 'B005QT7ZBC', 'B003ZUN2PW']\n",
      "AO09RWV40IX78 ['B00F6E8OUS', 'B00E5UHRIO', 'B00E6ONJJU', 'B00HPM1G8Q', 'B006GM56N2']\n",
      "A20ZM879PCQQEZ ['B001CY0P7G', 'B0055MBQOW', 'B00AYQ433U', 'B000EON3WY', 'B000092YQK']\n",
      "A1T9MILRRZ00F8 ['B000089GN3', 'B008LCYIHK', 'B000OE2OPG', 'B000O8WE66', 'B000V5P90K']\n",
      "A1K4G5YJDJQI6Q ['B0036WS4CK', 'B00316WHJ2', 'B0049MPQA4', 'B000EUGX70', 'B008FLOWAU']\n",
      "A1B8EJQU73YGL9 ['B002WE0QN8', 'B005GI2VMG', 'B000HB2TJ2', 'B0000CCVC9', 'B00001ZWXA']\n",
      "AJCR7L4AXL2OG ['B000069EUW', 'B00AMPIVFO', 'B00B7LQ73U', 'B001RB1XVG', 'B00427ZLRO']\n",
      "A3JV071KO43Q5X ['B008LCYIEI', 'B005K7192G', 'B003LPUWT0', 'B001GAOYCS', 'B004XC6GJ0']\n",
      "A1SFPA80X7TRBR ['B0002LEMWE', 'B005LJQMCK', 'B0024TNXNG', 'B004Q0T0LU', 'B0002Y5WZM']\n",
      "A6XLG77BC9R8R ['B000VIHFZ4', 'B002XGDU9M', 'B000S6E0XY', 'B00176NKPS', 'B0028Y9BX8']\n",
      "A1PAGHECG401K1 ['B0039BPG4M', 'B005TI1ILS', 'B001FA1NVO', 'B00BOZCUG2', 'B003H3A2NM']\n",
      "A1NAA1R38JSNHV ['B000UHQVOW', 'B000WYVBR0', 'B000I1YU5C', 'B001W26TIW', 'B0034XRDU0']\n",
      "A1AKW788238PWQ ['B0058UUR6E', 'B000V1JUJU', 'B003LPTAYI', 'B0071LSAR6', 'B000LYAZ4G']\n",
      "A3NOBH42C7UI5M ['B0010Z28XG', 'B0039BPG1A', 'B005JACJ50', 'B000RZ8WHG', 'B0002MQGOK']\n",
      "ASHJAZC9OA9NS ['B00009R896', 'B000GYU9IS', 'B004AH10K8', 'B0036XX4G0', 'B000V1R96G']\n",
      "A2POXR5VS3PHKR ['B0089V4WOC', 'B0013LWK3A', 'B0009XHOBG', 'B004Q0T0LU', 'B000A5T7AO']\n",
      "AWH2AY17ZU7W2 ['B003ANK9ZA', 'B00EHZYWGM', 'B004XNLR16', 'B004VM0SE6', 'B002OAVQJ8']\n",
      "A2IXK5LB4Y0NYV ['B007WTAJTO', 'B008DVMRXG', 'B0098PRKA6', 'B00F0DD0I6', 'B003FVU49I']\n",
      "ATNOI7E8GTIVE ['B000VX6XL6', 'B0015A8Y3E', 'B000FITKK8', 'B0038OMEQI', 'B0002TPFTA']\n",
      "A29KJ32G75L7G9 ['B001TOD7ME', 'B0074BW614', 'B009U7WZCA', 'B005BLO21Q', 'B009GGC4B2']\n",
      "A3SL0HA6422W4M ['B004QMH8KI', 'B0061JPXLU', 'B0030O0Q2U', 'B004TPPWT6', 'B001OTZ8DA']\n",
      "A781ITP3HE2N5 ['B003UH0Z9Q', 'B004G6002M', 'B009D79VH4', 'B001F7AJKI', 'B003YGVDDU']\n",
      "A1QJ10LEINDRWW ['B000H4CLXS', 'B004AQ95A6', 'B0043VE29C', 'B00844N5OC', 'B001ISKNKA']\n",
      "A3IUW081KXD3PE ['B00006L4FX', 'B001S0PWWC', 'B005VAORH6', 'B005I6EU48', 'B004DI7CWE']\n",
      "A2KIJBT9HRIOM8 ['B003ZW316U', 'B005FYNSPK', 'B000EGQS5G', 'B002MAPRYU', 'B000T8THL6']\n",
      "A3KNGMX2RVQG91 ['B001ENW61I', 'B0062EUE54', 'B001W28L2Y', 'B004SCSV2U', 'B007RMAS1K']\n",
      "A313H6238N589 ['B007WTAJTO', 'B001U3ZH7W', 'B0057AVXP4', 'B001DBIT08', 'B0001HKIJK']\n",
      "ALNE7Q71JFC0F ['B008EQZ25K', 'B005GGTTZ0', 'B001ENW61I', 'B001E1Y5O6', 'B002SZEOLG']\n",
      "A9BWUH9XKZ2DQ ['B0032HM6HS', 'B003NS0UUQ', 'B000BKUSS8', 'B00456V6WG', 'B00305N47S']\n",
      "A2LCE1D0TW2XY0 ['B000053HH5', 'B003G20AAE', 'B005869A16', 'B006BCKDGW', 'B004MKNJ84']\n",
      "A3LZA698SQPCXE ['B00IVFDZBC', 'B004V4IWHY', 'B00AR95FOU', 'B0034CL2ZI', 'B009F1I1C4']\n",
      "A2HXE29CU1I24Y ['B002EL4M98', 'B001NPEB5Q', 'B0015DYMVO', 'B001NJ0WCS', 'B001U3ZH7W']\n",
      "A1ROUMJOGO4QMB ['B00006HSYC', 'B00224ZDFY', 'B004XZL980', 'B00629NHW6', 'B003YKFKR6']\n",
      "A1VR1HIOVQWN09 ['B0015AARJI', 'B0019EHU8G', 'B004HW6F9M', 'B000P0NJPS', 'B0039H2W66']\n",
      "A1A535TCGNMVPI ['B004444O4G', 'B00006B938', 'B003FVS8W8', 'B0002ER5B6', 'B0034XRE6S']\n",
      "A1SHHQSPOWR00F ['B001UI2FPE', 'B002V8C3W2', 'B000VJX7DW', 'B0016XIQ1U', 'B000VEMNRS']\n",
      "A2HBOG4LVIY15L ['B005JN9310', 'B001TZUS98', 'B005J7YA4G', 'B0038U9JOM', 'B004XZL980']\n",
      "A3QNX5KWHDV0GD ['B001F51G16', 'B003ELOSIW', 'B00009R6VO', 'B000IVDTSG', 'B0046SUPQQ']\n",
      "A31RZMVAFMLB8B ['B0056TYRMW', 'B00007E7QS', 'B002SCGY5S', 'B0068RKK18', 'B005Q65JHM']\n",
      "A2MIP3AQVSF2SS ['B007WTAJTO', 'B005JN9310', 'B001L1H0SC', 'B0042IBAOG', 'B004H0MQYW']\n",
      "A21NS06GDEA3V0 ['B003VAGXZC', 'B004SUO068', 'B0049YQVHE', 'B002SZEOLG', 'B009A5204K']\n",
      "A7UPJYPAH73NC ['B001BM5XB2', 'B002K9IHGI', 'B00BWHILCY', 'B006K55662', 'B007E2M3SY']\n",
      "A3GFQHHVMEAIO ['B000IJV4BC', 'B0018O9JIG', 'B00447GA2W', 'B002ZLOR56', 'B001W8WEGC']\n",
      "A2XQYE6TJYROHQ ['B004Q7J4W8', 'B000HDJT4S', 'B004HIN97M', 'B00304DZ7I', 'B000N35A0Y']\n",
      "AM0QLU79O05JR ['B00DVHP478', 'B00D02AHEO', 'B000095SB6', 'B000AP05BO', 'B007IW4X3I']\n",
      "A24RCBRDXRXR0Y ['B001T9NX9Q', 'B00884WH74', 'B005I7X3RC', 'B0023B14TK', 'B0043CVH2Q']\n",
      "AM8W6Y3HVXLZT ['B003BLQHN4', 'B00B7X2OW6', 'B0053T4PHC', 'B004OR14GO', 'B009OZUPUC']\n",
      "A2Q2A6JKY95RTP ['B00029U1DK', 'B001S4OTS6', 'B0015AARJI', 'B005DKZTMG', 'B004QK7HI8']\n",
      "ARW8VGT10JG60 ['B0002YE6FY', 'B002KETE24', 'B0049WBZEK', 'B001GN3SGS']\n",
      "A2EHYCA29NSQLU ['B00FFJ0HUE', 'B000LRMS66', 'B008SZWBR4', 'B000XY4AD6', 'B0012MI7N2']\n",
      "A7KBAXO177NND ['B004V4IWHY', 'B002WE6D44', 'B00006I5J7', 'B001ASU1QO', 'B0012MMW7E']\n",
      "A3P69DTOXII004 ['B0089WLYQ0', 'B00DXFF6EO', 'B000A6NUU6', 'B00CM1AANW']\n",
      "A2EMUM49CE0JV4 ['B00A9NE84C', 'B003D5MY5I', 'B004HW7EAG', 'B00076FVP6', 'B001G2RAMW']\n",
      "A3RR2P5IS3DGPR ['B007WTAJTO', 'B004MF11MU', 'B0001MQUOC', 'B001E2V7R8', 'B00DR8LA60']\n",
      "A2FHTXLKY1XJDB ['B006X2P00O', 'B00DAANUVI', 'B007K7JTY4', 'B001W8WEGC', 'B0002A9SJ2']\n",
      "A30JPZ9TZ7I61U ['B004CLYEFK', 'B00634PLTW', 'B00HC0ZDOE', 'B0058FAYPI', 'B000065BP9']\n",
      "AFXTKAO0CB354 ['B000067RT6', 'B000Q85WRC', 'B00005T3FO', 'B002ZKTCUM', 'B003SW13WQ']\n",
      "A1AWL9JASMG904 ['B00825BZUY', 'B000E5CYW8', 'B001QATRCA', 'B000IMSK8Y', 'B000XMM1FW']\n",
      "A1TFDMY4YNTV97 ['B0019EHU8G', 'B002PHM0XQ', 'B002O11LQA', 'B005MEDD80', 'B004T4XR1C']\n",
      "A1987V5OCO6QHS ['B0019EHU8G', 'B007FGYZFI', 'B005H3Q57M', 'B0013CED4I', 'B000EVSLRO']\n",
      "A2F2F7N94SR1KQ ['B004YDUZ22', 'B000F28DP2', 'B002IO2UM2', 'B00461E7JE', 'B000F0ELOG']\n",
      "A51OFQVC6O5YL ['B006EKIQYM', 'B004S4R5CK', 'B005CT56F8', 'B007PY3ZPG', 'B003VAGXWK']\n",
      "A1FR68QH6Z4YZM ['B001KELVS0', 'B000BY52NK', 'B000AZ57M6', 'B002IKLJU0', 'B0007G6RZE']\n",
      "A3VVMIMMTYQV5F ['B000H4CLXS', 'B0015AARJI', 'B001342KM8', 'B0019M6GP6', 'B0095ONNTC']\n",
      "A3N8O68DOEQ2FE ['B002WE6D44', 'B001E1Y5O6', 'B001MSZBNA', 'B0001Y7UAI', 'B000HCGAFK']\n",
      "A3JU16JTNLVK1J ['B00AANQLRI', 'B001M5K4EO', 'B0002Y5WZC', 'B0048IW030', 'B004HR0M4Q']\n",
      "A1GWG5CWLKJ7ET ['B00A0JUNWQ', 'B005MJU1DA', 'B0025VKUPW', 'B00D349WB8', 'B00DBX371C']\n",
      "A206CGM6J75UJY ['B005L38VPC', 'B002YU83YO', 'B007PRHNHO', 'B003FP7OYM', 'B005QJOIP8']\n",
      "A1IU4UAV9QIJAI ['B0027Q4HXG', 'B0073P32X2', 'B002HZW6WQ', 'B002N3DIC4', 'B002Y2NI4M']\n",
      "A3N4I2KRSMACW8 ['B003UI62AG', 'B00ID2HI8O', 'B001X017G2', 'B00427ZLS8', 'B004N85YD8']\n",
      "A2THQCHKR89E16 ['B004PAA876', 'B004MNADXK', 'B002XJG71M', 'B005HMKKH4', 'B004NIG1SA']\n",
      "A2NOIWPJDD7WIQ ['B000HGIWN4', 'B006OBGEHW', 'B000BYCKU8', 'B001S2PPT0', 'B0009HN57Y']\n",
      "AFM2J3HJNPIHV ['B0019EHU8G', 'B000067SGI', 'B009W34X5O', 'B0032OX1N4', 'B0084JFM34']\n",
      "AYCAIHABPYWVJ ['B00006I53V', 'B00139VKU6', 'B002ROGCRC', 'B003YTROIU', 'B0039NLS4C']\n",
      "AXU3VKZE848IY ['B000O8WE66', 'B00IF4OATU', 'B00104XCVO', 'B000095SB6', 'B008MDSWI4']\n",
      "A2UWPPU5GZLMQZ ['B00BF9MUAS', 'B00889ST2G', 'B0099XGZXA', 'B0010Z294O', 'B00E87E1OM']\n",
      "A3H6NNGCINPLEC ['B002LITT56', 'B0000TU7IG', 'B0054L8N7M', 'B001542UQW', 'B001G5ZTLS']\n",
      "ARTA78TP6H73D ['B00D429Y12', 'B00005QXWI', 'B002FU5QMA', 'B005CG2AX2', 'B005XPFYBM']\n",
      "AEIB3UR05OP7A ['B0034CL2ZI', 'B009SYZ8OC', 'B00AJHDZSI', 'B002VKVZ1A', 'B007V5A1BK']\n",
      "A1SX9PHJWTDMF9 ['B007R67FNA', 'B0012Y02CE', 'B0055Q9NH0', 'B00004T8R2', 'B00006JQ06']\n",
      "A2Y3WWPUKIJ59I ['B003I4FHNA', 'B00829THVO', 'B0002L5R78', 'B0093IZOV0', 'B000XQDTRW']\n",
      "AD8DLOGHAXL ['B000051299', 'B0012YFXSW', 'B002R06PGE', 'B00025O7FC']\n",
      "A3PPO2X5PJE1L9 ['B009B0MY6S', 'B000H02B6O', 'B0081ER9KG', 'B003ES61EE', 'B00AM7MM4I']\n",
      "A6XDZ1MJ0B1A2 ['B004R7P28W', 'B00871SR68', 'B004XC6GJ0', 'B000QGBC8C', 'B00D7P6176']\n",
      "AYOTEJ617O60K ['B003FVJYF8', 'B007477COO', 'B0074H3IU6', 'B0087OV77G', 'B0002EXJ98']\n",
      "AS7J4952JB5XR ['B002V88HFE', 'B00FNPD1VW', 'B005KQ0S8S', 'B00FPKDPZC', 'B006UL00R6']\n",
      "A28CCQNXWV6WA2 ['B0011E4NSO', 'B002KANXBG', 'B001BX6HCU', 'B001OC7IXU', 'B00328HR4Y']\n",
      "A4H4KYSM2KQ85 ['B002JCSV8A', 'B0009GZAGO', 'B008MWBY6W', 'B0054L8N7M', 'B000CSQNL0']\n",
      "A2PB325LKXYDOL ['B000S6E0XY', 'B003YNQ6MG', 'B006EKIQYM', 'B001XURP7W', 'B002SRNS7A']\n",
      "A3UW0PQLDUACMH ['B004CLYE8C', 'B00FRMAOIO', 'B00FRDUZXM', 'B0050IE1O8', 'B005IHAIJ8']\n",
      "ANSVB7OYSXZSL ['B002TQ6HT6', 'B0025EWXEU', 'B002ZFVS9A', 'B0043M6F14']\n",
      "A31BD4RXCON7QO ['B001KELVS0', 'B00322PYZO', 'B000E5FOYS', 'B00GO1UV4E', 'B00200K9NQ']\n",
      "A2CL818RN52NWN ['B0007P4G6M', 'B0002LHSG6', 'B000BI2180']\n",
      "A1GBU479WXR7UG ['B002ZIMEMW', 'B000WH86BQ', 'B00363EZY0', 'B00BI8IT24', 'B00486T134']\n",
      "A1HBEQWSMVQEWJ ['B003XM1WE0', 'B00BGA9WK2', 'B005IHAI8O', 'B004KKGF1O', 'B005UBNJ48']\n",
      "AH5BCMZELZSKG ['B004ZNA3UA', 'B00D6XSRL2', 'B003LYKLCO', 'B0029Z9UNC', 'B003ISYA6G']\n",
      "A1Y4EWMUTW73GD ['B00005T3EV', 'B0028MF260', 'B00004TX6Z', 'B001FSKDWG', 'B001UE8LRY']\n",
      "A3FEJ8H2VTN0OJ ['B00DSUTVK4', 'B002BH3Z8E', 'B004PVW1DY', 'B007NZGPAY', 'B000IEO964']\n",
      "ADPKRJ2BSFJ0I ['B0029N3U8K', 'B0051PLPM6', 'B002ZJQLZC', 'B006K551WQ']\n",
      "AW63IRQWH10GF ['B0010Y414Q', 'B004G8QETI', 'B000EY5F5C']\n",
      "A57Q87B0TC9IJ ['B000N99BBC', 'B007ZZ6OW6', 'B00GC1ZMYA', 'B00002JXFH', 'B002ZV51DI']\n",
      "A1JWSDDIH5Z7DV ['B0011ZCDKS', 'B000EPNES6', 'B000JLWDB4', 'B000EPHSLK', 'B000NEKORW']\n",
      "A2OS3TIVAKUAHG ['B003WUX6PG', 'B002LITI8E', 'B0050A1O64', 'B003YNO0LA', 'B00EUFP39E']\n",
      "AYGEKID3G7DPW ['B0001HA8WW', 'B000LVJ9W8', 'B0000C1ZNV', 'B004K1EZDS']\n",
      "A3PCEB9ND82AGE ['B00E3W15P0', 'B00A9NE84C', 'B0044DEDC0', 'B004FPOPXE', 'B0001FTVDQ']\n",
      "AS2II0671KT2C ['B0074BW614', 'B003DXI288', 'B0036VO6IC', 'B004Q0PT3I', 'B000BTGVUS']\n",
      "A2BGZ52M908MJY ['B00005ALB1', 'B00005QJCU']\n",
      "A2I5LVVQ7WXEH6 ['B001TH7T2U', 'B000JE7GPY', 'B001TH7GVE', 'B001E1Y5O6', 'B006BGZJJ4']\n",
      "A3UQSOJW51UU9T ['B002NU5UW8', 'B000RZQZM0', 'B002K42W4Q', 'B0027FGW3K', 'B001QXDSRW']\n",
      "A18U49406IPPIJ ['B000CKVOOY', 'B00G4UQ6U8', 'B00J46VVKE', 'B00AH58I0C', 'B00ESUIX4S']\n",
      "A2ER8G4JJJ7XER ['B000WKTG76', 'B001F7AP1Q']\n",
      "A3CP3J7OEGQMD5 ['B005KQ0S8S', 'B003U8HV4M', 'B0015C30J0', 'B002KO63X2', 'B009KY58FE']\n",
      "A25HBO5V8S8SEA ['B0007VRPZA', 'B000068CS0', 'B0001F1ZY4', 'B00009R6TA']\n",
      "A2VALCFTOWFYXZ ['B00B46XKKQ', 'B004P1IU52', 'B005DDCDH2', 'B00ARB5E8U', 'B008CX2A2I']\n"
     ]
    }
   ],
   "source": [
    "# Print the recommended items for each user\n",
    "for uid, user_ratings in top_n.items():\n",
    "    print(uid, [iid for (iid, _) in user_ratings])"
   ]
  },
  {
   "cell_type": "markdown",
   "metadata": {},
   "source": [
    "# Summarise your insights"
   ]
  },
  {
   "cell_type": "markdown",
   "metadata": {},
   "source": [
    "* We had read and explored the dataset. Considered only first three columns userId, productId, and ratings.\n",
    "\n",
    "* Analysed the data and plotted the histogram based on ratings and usedID.\n",
    "\n",
    "* We had Split the data randomly into train and test dataset.\n",
    "\n",
    "**Build Popularity Recommender model and found the RMSE value for Popularity Recommender model as 1.091**\n",
    "\n",
    "**Build Collaborative Filtering model.The RMSE value for Collaborative Filtering model, byKNNWithMeans is 0.9941 and SVD is 0.9606. After parameter tuning of SVD it is 0.858**\n",
    "\n",
    "* We had recommended new products to each user based on his/her habits and have recommended 5 new products.\n",
    "\n",
    "**Between RMSE of Popularity and Collaborative filtering , Collaborative fitering fares better with 0.86 scores.**"
   ]
  },
  {
   "cell_type": "markdown",
   "metadata": {},
   "source": [
    "**Collaborative filtering uses user's behaviour (in this case explicit ratings to give) similar items / similar users and recomend products accordingly**\n",
    "\n",
    "**Popularity based algorithm have their used cases when user would just like to browse most popular items**"
   ]
  }
 ],
 "metadata": {
  "kernelspec": {
   "display_name": "Python 3",
   "language": "python",
   "name": "python3"
  },
  "language_info": {
   "codemirror_mode": {
    "name": "ipython",
    "version": 3
   },
   "file_extension": ".py",
   "mimetype": "text/x-python",
   "name": "python",
   "nbconvert_exporter": "python",
   "pygments_lexer": "ipython3",
   "version": "3.7.3"
  }
 },
 "nbformat": 4,
 "nbformat_minor": 2
}
